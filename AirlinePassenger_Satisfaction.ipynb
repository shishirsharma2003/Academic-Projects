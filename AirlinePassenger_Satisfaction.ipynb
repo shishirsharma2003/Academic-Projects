{
 "cells": [
  {
   "cell_type": "markdown",
   "id": "necessary-services",
   "metadata": {},
   "source": [
    "##                            MIS 6341: ML Project 2  ( Classification Task)\n",
    " \n",
    "                     Group 5: Shishir Sharma(sxs200126) , Spurti Hayatnagarkar(sxh180041)\n",
    "                             "
   ]
  },
  {
   "cell_type": "markdown",
   "id": "norwegian-hawaii",
   "metadata": {},
   "source": [
    "##  Dataset : Airline Passenger Satisfaction\n",
    "\n",
    "source: https://www.kaggle.com/teejmahal20/airline-passenger-satisfaction\n"
   ]
  },
  {
   "cell_type": "code",
   "execution_count": null,
   "id": "western-approach",
   "metadata": {},
   "outputs": [],
   "source": []
  },
  {
   "cell_type": "code",
   "execution_count": 153,
   "id": "attached-failing",
   "metadata": {},
   "outputs": [],
   "source": [
    "import numpy as np\n",
    "import pandas as pd\n",
    "import matplotlib.pyplot as plt\n",
    "import seaborn as sns\n",
    "from pandas.plotting import scatter_matrix\n",
    "%matplotlib inline\n",
    "%matplotlib notebook\n",
    "\n",
    "#For model evaluation and development\n",
    "from sklearn.preprocessing import MinMaxScaler\n",
    "from sklearn.model_selection import train_test_split\n",
    "from sklearn.linear_model import LogisticRegression\n",
    "from sklearn.model_selection import GridSearchCV\n",
    "from sklearn.tree import DecisionTreeClassifier\n",
    "from sklearn.model_selection import GridSearchCV\n",
    "from sklearn.ensemble import VotingClassifier\n",
    "from sklearn.metrics import accuracy_score\n",
    "from sklearn.ensemble import BaggingClassifier\n",
    "from sklearn.metrics import confusion_matrix\n",
    "from sklearn.metrics import confusion_matrix\n",
    "from sklearn.metrics import classification_report\n",
    "from sklearn.ensemble import RandomForestClassifier\n",
    "from sklearn.ensemble import AdaBoostClassifier\n",
    "from sklearn.ensemble import GradientBoostingClassifier\n",
    "from sklearn.neighbors import KNeighborsClassifier\n",
    "from sklearn.model_selection import GridSearchCV\n",
    "from sklearn.metrics import f1_score\n",
    "from sklearn.metrics import accuracy_score\n",
    "\n",
    "\n",
    "import warnings\n",
    "warnings.filterwarnings('ignore')\n",
    "\n"
   ]
  },
  {
   "cell_type": "code",
   "execution_count": 154,
   "id": "naval-chess",
   "metadata": {},
   "outputs": [
    {
     "name": "stdout",
     "output_type": "stream",
     "text": [
      "Shape of dataset: (25976, 25)\n"
     ]
    }
   ],
   "source": [
    "airlinedf=pd.read_csv('test.csv')\n",
    "print('Shape of dataset:', airlinedf.shape) "
   ]
  },
  {
   "cell_type": "code",
   "execution_count": 155,
   "id": "reflected-sender",
   "metadata": {},
   "outputs": [
    {
     "data": {
      "text/html": [
       "<div>\n",
       "<style scoped>\n",
       "    .dataframe tbody tr th:only-of-type {\n",
       "        vertical-align: middle;\n",
       "    }\n",
       "\n",
       "    .dataframe tbody tr th {\n",
       "        vertical-align: top;\n",
       "    }\n",
       "\n",
       "    .dataframe thead th {\n",
       "        text-align: right;\n",
       "    }\n",
       "</style>\n",
       "<table border=\"1\" class=\"dataframe\">\n",
       "  <thead>\n",
       "    <tr style=\"text-align: right;\">\n",
       "      <th></th>\n",
       "      <th>Unnamed: 0</th>\n",
       "      <th>id</th>\n",
       "      <th>Gender</th>\n",
       "      <th>Customer Type</th>\n",
       "      <th>Age</th>\n",
       "      <th>Type of Travel</th>\n",
       "      <th>Class</th>\n",
       "      <th>Flight Distance</th>\n",
       "      <th>Inflight wifi service</th>\n",
       "      <th>Departure/Arrival time convenient</th>\n",
       "      <th>...</th>\n",
       "      <th>Inflight entertainment</th>\n",
       "      <th>On-board service</th>\n",
       "      <th>Leg room service</th>\n",
       "      <th>Baggage handling</th>\n",
       "      <th>Checkin service</th>\n",
       "      <th>Inflight service</th>\n",
       "      <th>Cleanliness</th>\n",
       "      <th>Departure Delay in Minutes</th>\n",
       "      <th>Arrival Delay in Minutes</th>\n",
       "      <th>satisfaction</th>\n",
       "    </tr>\n",
       "  </thead>\n",
       "  <tbody>\n",
       "    <tr>\n",
       "      <th>0</th>\n",
       "      <td>0</td>\n",
       "      <td>19556</td>\n",
       "      <td>Female</td>\n",
       "      <td>Loyal Customer</td>\n",
       "      <td>52</td>\n",
       "      <td>Business travel</td>\n",
       "      <td>Eco</td>\n",
       "      <td>160</td>\n",
       "      <td>5</td>\n",
       "      <td>4</td>\n",
       "      <td>...</td>\n",
       "      <td>5</td>\n",
       "      <td>5</td>\n",
       "      <td>5</td>\n",
       "      <td>5</td>\n",
       "      <td>2</td>\n",
       "      <td>5</td>\n",
       "      <td>5</td>\n",
       "      <td>50</td>\n",
       "      <td>44.0</td>\n",
       "      <td>satisfied</td>\n",
       "    </tr>\n",
       "    <tr>\n",
       "      <th>1</th>\n",
       "      <td>1</td>\n",
       "      <td>90035</td>\n",
       "      <td>Female</td>\n",
       "      <td>Loyal Customer</td>\n",
       "      <td>36</td>\n",
       "      <td>Business travel</td>\n",
       "      <td>Business</td>\n",
       "      <td>2863</td>\n",
       "      <td>1</td>\n",
       "      <td>1</td>\n",
       "      <td>...</td>\n",
       "      <td>4</td>\n",
       "      <td>4</td>\n",
       "      <td>4</td>\n",
       "      <td>4</td>\n",
       "      <td>3</td>\n",
       "      <td>4</td>\n",
       "      <td>5</td>\n",
       "      <td>0</td>\n",
       "      <td>0.0</td>\n",
       "      <td>satisfied</td>\n",
       "    </tr>\n",
       "    <tr>\n",
       "      <th>2</th>\n",
       "      <td>2</td>\n",
       "      <td>12360</td>\n",
       "      <td>Male</td>\n",
       "      <td>disloyal Customer</td>\n",
       "      <td>20</td>\n",
       "      <td>Business travel</td>\n",
       "      <td>Eco</td>\n",
       "      <td>192</td>\n",
       "      <td>2</td>\n",
       "      <td>0</td>\n",
       "      <td>...</td>\n",
       "      <td>2</td>\n",
       "      <td>4</td>\n",
       "      <td>1</td>\n",
       "      <td>3</td>\n",
       "      <td>2</td>\n",
       "      <td>2</td>\n",
       "      <td>2</td>\n",
       "      <td>0</td>\n",
       "      <td>0.0</td>\n",
       "      <td>neutral or dissatisfied</td>\n",
       "    </tr>\n",
       "    <tr>\n",
       "      <th>3</th>\n",
       "      <td>3</td>\n",
       "      <td>77959</td>\n",
       "      <td>Male</td>\n",
       "      <td>Loyal Customer</td>\n",
       "      <td>44</td>\n",
       "      <td>Business travel</td>\n",
       "      <td>Business</td>\n",
       "      <td>3377</td>\n",
       "      <td>0</td>\n",
       "      <td>0</td>\n",
       "      <td>...</td>\n",
       "      <td>1</td>\n",
       "      <td>1</td>\n",
       "      <td>1</td>\n",
       "      <td>1</td>\n",
       "      <td>3</td>\n",
       "      <td>1</td>\n",
       "      <td>4</td>\n",
       "      <td>0</td>\n",
       "      <td>6.0</td>\n",
       "      <td>satisfied</td>\n",
       "    </tr>\n",
       "    <tr>\n",
       "      <th>4</th>\n",
       "      <td>4</td>\n",
       "      <td>36875</td>\n",
       "      <td>Female</td>\n",
       "      <td>Loyal Customer</td>\n",
       "      <td>49</td>\n",
       "      <td>Business travel</td>\n",
       "      <td>Eco</td>\n",
       "      <td>1182</td>\n",
       "      <td>2</td>\n",
       "      <td>3</td>\n",
       "      <td>...</td>\n",
       "      <td>2</td>\n",
       "      <td>2</td>\n",
       "      <td>2</td>\n",
       "      <td>2</td>\n",
       "      <td>4</td>\n",
       "      <td>2</td>\n",
       "      <td>4</td>\n",
       "      <td>0</td>\n",
       "      <td>20.0</td>\n",
       "      <td>satisfied</td>\n",
       "    </tr>\n",
       "    <tr>\n",
       "      <th>5</th>\n",
       "      <td>5</td>\n",
       "      <td>39177</td>\n",
       "      <td>Male</td>\n",
       "      <td>Loyal Customer</td>\n",
       "      <td>16</td>\n",
       "      <td>Business travel</td>\n",
       "      <td>Eco</td>\n",
       "      <td>311</td>\n",
       "      <td>3</td>\n",
       "      <td>3</td>\n",
       "      <td>...</td>\n",
       "      <td>5</td>\n",
       "      <td>4</td>\n",
       "      <td>3</td>\n",
       "      <td>1</td>\n",
       "      <td>1</td>\n",
       "      <td>2</td>\n",
       "      <td>5</td>\n",
       "      <td>0</td>\n",
       "      <td>0.0</td>\n",
       "      <td>satisfied</td>\n",
       "    </tr>\n",
       "    <tr>\n",
       "      <th>6</th>\n",
       "      <td>6</td>\n",
       "      <td>79433</td>\n",
       "      <td>Female</td>\n",
       "      <td>Loyal Customer</td>\n",
       "      <td>77</td>\n",
       "      <td>Business travel</td>\n",
       "      <td>Business</td>\n",
       "      <td>3987</td>\n",
       "      <td>5</td>\n",
       "      <td>5</td>\n",
       "      <td>...</td>\n",
       "      <td>5</td>\n",
       "      <td>5</td>\n",
       "      <td>5</td>\n",
       "      <td>5</td>\n",
       "      <td>4</td>\n",
       "      <td>5</td>\n",
       "      <td>3</td>\n",
       "      <td>0</td>\n",
       "      <td>0.0</td>\n",
       "      <td>satisfied</td>\n",
       "    </tr>\n",
       "    <tr>\n",
       "      <th>7</th>\n",
       "      <td>7</td>\n",
       "      <td>97286</td>\n",
       "      <td>Female</td>\n",
       "      <td>Loyal Customer</td>\n",
       "      <td>43</td>\n",
       "      <td>Business travel</td>\n",
       "      <td>Business</td>\n",
       "      <td>2556</td>\n",
       "      <td>2</td>\n",
       "      <td>2</td>\n",
       "      <td>...</td>\n",
       "      <td>4</td>\n",
       "      <td>4</td>\n",
       "      <td>4</td>\n",
       "      <td>4</td>\n",
       "      <td>5</td>\n",
       "      <td>4</td>\n",
       "      <td>3</td>\n",
       "      <td>77</td>\n",
       "      <td>65.0</td>\n",
       "      <td>satisfied</td>\n",
       "    </tr>\n",
       "    <tr>\n",
       "      <th>8</th>\n",
       "      <td>8</td>\n",
       "      <td>27508</td>\n",
       "      <td>Male</td>\n",
       "      <td>Loyal Customer</td>\n",
       "      <td>47</td>\n",
       "      <td>Business travel</td>\n",
       "      <td>Eco</td>\n",
       "      <td>556</td>\n",
       "      <td>5</td>\n",
       "      <td>2</td>\n",
       "      <td>...</td>\n",
       "      <td>5</td>\n",
       "      <td>2</td>\n",
       "      <td>2</td>\n",
       "      <td>5</td>\n",
       "      <td>3</td>\n",
       "      <td>3</td>\n",
       "      <td>5</td>\n",
       "      <td>1</td>\n",
       "      <td>0.0</td>\n",
       "      <td>satisfied</td>\n",
       "    </tr>\n",
       "    <tr>\n",
       "      <th>9</th>\n",
       "      <td>9</td>\n",
       "      <td>62482</td>\n",
       "      <td>Female</td>\n",
       "      <td>Loyal Customer</td>\n",
       "      <td>46</td>\n",
       "      <td>Business travel</td>\n",
       "      <td>Business</td>\n",
       "      <td>1744</td>\n",
       "      <td>2</td>\n",
       "      <td>2</td>\n",
       "      <td>...</td>\n",
       "      <td>4</td>\n",
       "      <td>4</td>\n",
       "      <td>4</td>\n",
       "      <td>4</td>\n",
       "      <td>5</td>\n",
       "      <td>4</td>\n",
       "      <td>4</td>\n",
       "      <td>28</td>\n",
       "      <td>14.0</td>\n",
       "      <td>satisfied</td>\n",
       "    </tr>\n",
       "    <tr>\n",
       "      <th>10</th>\n",
       "      <td>10</td>\n",
       "      <td>47583</td>\n",
       "      <td>Female</td>\n",
       "      <td>Loyal Customer</td>\n",
       "      <td>47</td>\n",
       "      <td>Business travel</td>\n",
       "      <td>Eco</td>\n",
       "      <td>1235</td>\n",
       "      <td>4</td>\n",
       "      <td>1</td>\n",
       "      <td>...</td>\n",
       "      <td>3</td>\n",
       "      <td>3</td>\n",
       "      <td>4</td>\n",
       "      <td>3</td>\n",
       "      <td>1</td>\n",
       "      <td>3</td>\n",
       "      <td>4</td>\n",
       "      <td>29</td>\n",
       "      <td>19.0</td>\n",
       "      <td>satisfied</td>\n",
       "    </tr>\n",
       "    <tr>\n",
       "      <th>11</th>\n",
       "      <td>11</td>\n",
       "      <td>115550</td>\n",
       "      <td>Female</td>\n",
       "      <td>Loyal Customer</td>\n",
       "      <td>33</td>\n",
       "      <td>Business travel</td>\n",
       "      <td>Business</td>\n",
       "      <td>325</td>\n",
       "      <td>2</td>\n",
       "      <td>5</td>\n",
       "      <td>...</td>\n",
       "      <td>2</td>\n",
       "      <td>2</td>\n",
       "      <td>2</td>\n",
       "      <td>2</td>\n",
       "      <td>3</td>\n",
       "      <td>2</td>\n",
       "      <td>4</td>\n",
       "      <td>18</td>\n",
       "      <td>7.0</td>\n",
       "      <td>neutral or dissatisfied</td>\n",
       "    </tr>\n",
       "    <tr>\n",
       "      <th>12</th>\n",
       "      <td>12</td>\n",
       "      <td>119987</td>\n",
       "      <td>Female</td>\n",
       "      <td>Loyal Customer</td>\n",
       "      <td>46</td>\n",
       "      <td>Business travel</td>\n",
       "      <td>Business</td>\n",
       "      <td>1009</td>\n",
       "      <td>5</td>\n",
       "      <td>5</td>\n",
       "      <td>...</td>\n",
       "      <td>5</td>\n",
       "      <td>5</td>\n",
       "      <td>5</td>\n",
       "      <td>5</td>\n",
       "      <td>5</td>\n",
       "      <td>5</td>\n",
       "      <td>3</td>\n",
       "      <td>0</td>\n",
       "      <td>0.0</td>\n",
       "      <td>satisfied</td>\n",
       "    </tr>\n",
       "    <tr>\n",
       "      <th>13</th>\n",
       "      <td>13</td>\n",
       "      <td>42141</td>\n",
       "      <td>Female</td>\n",
       "      <td>Loyal Customer</td>\n",
       "      <td>60</td>\n",
       "      <td>Business travel</td>\n",
       "      <td>Business</td>\n",
       "      <td>451</td>\n",
       "      <td>1</td>\n",
       "      <td>1</td>\n",
       "      <td>...</td>\n",
       "      <td>5</td>\n",
       "      <td>5</td>\n",
       "      <td>5</td>\n",
       "      <td>5</td>\n",
       "      <td>3</td>\n",
       "      <td>5</td>\n",
       "      <td>5</td>\n",
       "      <td>117</td>\n",
       "      <td>113.0</td>\n",
       "      <td>satisfied</td>\n",
       "    </tr>\n",
       "    <tr>\n",
       "      <th>14</th>\n",
       "      <td>14</td>\n",
       "      <td>2274</td>\n",
       "      <td>Female</td>\n",
       "      <td>Loyal Customer</td>\n",
       "      <td>52</td>\n",
       "      <td>Business travel</td>\n",
       "      <td>Business</td>\n",
       "      <td>925</td>\n",
       "      <td>2</td>\n",
       "      <td>2</td>\n",
       "      <td>...</td>\n",
       "      <td>4</td>\n",
       "      <td>4</td>\n",
       "      <td>4</td>\n",
       "      <td>4</td>\n",
       "      <td>3</td>\n",
       "      <td>4</td>\n",
       "      <td>5</td>\n",
       "      <td>10</td>\n",
       "      <td>0.0</td>\n",
       "      <td>satisfied</td>\n",
       "    </tr>\n",
       "  </tbody>\n",
       "</table>\n",
       "<p>15 rows × 25 columns</p>\n",
       "</div>"
      ],
      "text/plain": [
       "    Unnamed: 0      id  Gender      Customer Type  Age   Type of Travel  \\\n",
       "0            0   19556  Female     Loyal Customer   52  Business travel   \n",
       "1            1   90035  Female     Loyal Customer   36  Business travel   \n",
       "2            2   12360    Male  disloyal Customer   20  Business travel   \n",
       "3            3   77959    Male     Loyal Customer   44  Business travel   \n",
       "4            4   36875  Female     Loyal Customer   49  Business travel   \n",
       "5            5   39177    Male     Loyal Customer   16  Business travel   \n",
       "6            6   79433  Female     Loyal Customer   77  Business travel   \n",
       "7            7   97286  Female     Loyal Customer   43  Business travel   \n",
       "8            8   27508    Male     Loyal Customer   47  Business travel   \n",
       "9            9   62482  Female     Loyal Customer   46  Business travel   \n",
       "10          10   47583  Female     Loyal Customer   47  Business travel   \n",
       "11          11  115550  Female     Loyal Customer   33  Business travel   \n",
       "12          12  119987  Female     Loyal Customer   46  Business travel   \n",
       "13          13   42141  Female     Loyal Customer   60  Business travel   \n",
       "14          14    2274  Female     Loyal Customer   52  Business travel   \n",
       "\n",
       "       Class  Flight Distance  Inflight wifi service  \\\n",
       "0        Eco              160                      5   \n",
       "1   Business             2863                      1   \n",
       "2        Eco              192                      2   \n",
       "3   Business             3377                      0   \n",
       "4        Eco             1182                      2   \n",
       "5        Eco              311                      3   \n",
       "6   Business             3987                      5   \n",
       "7   Business             2556                      2   \n",
       "8        Eco              556                      5   \n",
       "9   Business             1744                      2   \n",
       "10       Eco             1235                      4   \n",
       "11  Business              325                      2   \n",
       "12  Business             1009                      5   \n",
       "13  Business              451                      1   \n",
       "14  Business              925                      2   \n",
       "\n",
       "    Departure/Arrival time convenient  ...  Inflight entertainment  \\\n",
       "0                                   4  ...                       5   \n",
       "1                                   1  ...                       4   \n",
       "2                                   0  ...                       2   \n",
       "3                                   0  ...                       1   \n",
       "4                                   3  ...                       2   \n",
       "5                                   3  ...                       5   \n",
       "6                                   5  ...                       5   \n",
       "7                                   2  ...                       4   \n",
       "8                                   2  ...                       5   \n",
       "9                                   2  ...                       4   \n",
       "10                                  1  ...                       3   \n",
       "11                                  5  ...                       2   \n",
       "12                                  5  ...                       5   \n",
       "13                                  1  ...                       5   \n",
       "14                                  2  ...                       4   \n",
       "\n",
       "    On-board service  Leg room service  Baggage handling  Checkin service  \\\n",
       "0                  5                 5                 5                2   \n",
       "1                  4                 4                 4                3   \n",
       "2                  4                 1                 3                2   \n",
       "3                  1                 1                 1                3   \n",
       "4                  2                 2                 2                4   \n",
       "5                  4                 3                 1                1   \n",
       "6                  5                 5                 5                4   \n",
       "7                  4                 4                 4                5   \n",
       "8                  2                 2                 5                3   \n",
       "9                  4                 4                 4                5   \n",
       "10                 3                 4                 3                1   \n",
       "11                 2                 2                 2                3   \n",
       "12                 5                 5                 5                5   \n",
       "13                 5                 5                 5                3   \n",
       "14                 4                 4                 4                3   \n",
       "\n",
       "    Inflight service  Cleanliness  Departure Delay in Minutes  \\\n",
       "0                  5            5                          50   \n",
       "1                  4            5                           0   \n",
       "2                  2            2                           0   \n",
       "3                  1            4                           0   \n",
       "4                  2            4                           0   \n",
       "5                  2            5                           0   \n",
       "6                  5            3                           0   \n",
       "7                  4            3                          77   \n",
       "8                  3            5                           1   \n",
       "9                  4            4                          28   \n",
       "10                 3            4                          29   \n",
       "11                 2            4                          18   \n",
       "12                 5            3                           0   \n",
       "13                 5            5                         117   \n",
       "14                 4            5                          10   \n",
       "\n",
       "    Arrival Delay in Minutes             satisfaction  \n",
       "0                       44.0                satisfied  \n",
       "1                        0.0                satisfied  \n",
       "2                        0.0  neutral or dissatisfied  \n",
       "3                        6.0                satisfied  \n",
       "4                       20.0                satisfied  \n",
       "5                        0.0                satisfied  \n",
       "6                        0.0                satisfied  \n",
       "7                       65.0                satisfied  \n",
       "8                        0.0                satisfied  \n",
       "9                       14.0                satisfied  \n",
       "10                      19.0                satisfied  \n",
       "11                       7.0  neutral or dissatisfied  \n",
       "12                       0.0                satisfied  \n",
       "13                     113.0                satisfied  \n",
       "14                       0.0                satisfied  \n",
       "\n",
       "[15 rows x 25 columns]"
      ]
     },
     "execution_count": 155,
     "metadata": {},
     "output_type": "execute_result"
    }
   ],
   "source": [
    "airlinedf.head(15)"
   ]
  },
  {
   "cell_type": "code",
   "execution_count": 156,
   "id": "dress-summer",
   "metadata": {},
   "outputs": [],
   "source": [
    "#There were no missing values present in the dataset. So I am generating missing values.\n",
    "cols = [2,6,7,17,14,18]\n",
    "np.random.seed(0)\n",
    "masking_array = np.random.randint(120, size = (airlinedf.shape[0], 6)) < 90\n",
    "airlinedf[airlinedf.columns[cols]] = airlinedf[airlinedf.columns[cols]].where(masking_array, np.nan)"
   ]
  },
  {
   "cell_type": "code",
   "execution_count": 157,
   "id": "undefined-healing",
   "metadata": {},
   "outputs": [
    {
     "name": "stdout",
     "output_type": "stream",
     "text": [
      "\n",
      " Total no of Missing values: 39366\n",
      "Missing values : \n",
      " Unnamed: 0                              0\n",
      "id                                      0\n",
      "Gender                               6588\n",
      "Customer Type                           0\n",
      "Age                                     0\n",
      "Type of Travel                          0\n",
      "Class                                6490\n",
      "Flight Distance                      6571\n",
      "Inflight wifi service                   0\n",
      "Departure/Arrival time convenient       0\n",
      "Ease of Online booking                  0\n",
      "Gate location                           0\n",
      "Food and drink                          0\n",
      "Online boarding                         0\n",
      "Seat comfort                         6476\n",
      "Inflight entertainment                  0\n",
      "On-board service                        0\n",
      "Leg room service                     6576\n",
      "Baggage handling                     6582\n",
      "Checkin service                         0\n",
      "Inflight service                        0\n",
      "Cleanliness                             0\n",
      "Departure Delay in Minutes              0\n",
      "Arrival Delay in Minutes               83\n",
      "satisfaction                            0\n",
      "dtype: int64\n"
     ]
    }
   ],
   "source": [
    "#Checking the null values \n",
    "\n",
    "print('\\n Total no of Missing values:',airlinedf.isnull().values.sum())\n",
    "print('Missing values : \\n',airlinedf.isnull().sum())"
   ]
  },
  {
   "cell_type": "code",
   "execution_count": 158,
   "id": "expired-interpretation",
   "metadata": {},
   "outputs": [],
   "source": [
    "airlinedf.drop(['id'],inplace=True, axis = 1) # dropping this column because it will be not useful."
   ]
  },
  {
   "cell_type": "code",
   "execution_count": 159,
   "id": "younger-position",
   "metadata": {},
   "outputs": [
    {
     "data": {
      "text/plain": [
       "array(['satisfied', 'neutral or dissatisfied'], dtype=object)"
      ]
     },
     "execution_count": 159,
     "metadata": {},
     "output_type": "execute_result"
    }
   ],
   "source": [
    "airlinedf['satisfaction'].unique()\n"
   ]
  },
  {
   "cell_type": "code",
   "execution_count": 160,
   "id": "requested-setup",
   "metadata": {},
   "outputs": [
    {
     "data": {
      "text/plain": [
       "0    14573\n",
       "1    11403\n",
       "Name: satisfaction, dtype: int64"
      ]
     },
     "execution_count": 160,
     "metadata": {},
     "output_type": "execute_result"
    }
   ],
   "source": [
    "#I am mapping 'satisfaction' variable to 0 and 1\n",
    "airlinedf['satisfaction']= airlinedf['satisfaction'].map({'satisfied':1,'neutral or dissatisfied':0})\n",
    "airlinedf['satisfaction'].value_counts()"
   ]
  },
  {
   "cell_type": "code",
   "execution_count": 161,
   "id": "raising-richardson",
   "metadata": {},
   "outputs": [
    {
     "data": {
      "text/plain": [
       "Female    9792\n",
       "Male      9596\n",
       "Name: Gender, dtype: int64"
      ]
     },
     "execution_count": 161,
     "metadata": {},
     "output_type": "execute_result"
    }
   ],
   "source": [
    "airlinedf['Gender'].value_counts()"
   ]
  },
  {
   "cell_type": "code",
   "execution_count": 162,
   "id": "starting-nylon",
   "metadata": {},
   "outputs": [
    {
     "data": {
      "text/plain": [
       "array(['Female', nan, 'Male'], dtype=object)"
      ]
     },
     "execution_count": 162,
     "metadata": {},
     "output_type": "execute_result"
    }
   ],
   "source": [
    "#There are some missing value in 'Gender' column , replacing them with most frequent gender travel\n",
    "#and mapping column to 0 and 1 \n",
    "airlinedf['Gender'].unique()\n"
   ]
  },
  {
   "cell_type": "code",
   "execution_count": 163,
   "id": "metric-colombia",
   "metadata": {},
   "outputs": [],
   "source": [
    "airlinedf['Gender'].fillna('Female',inplace = True)\n"
   ]
  },
  {
   "cell_type": "code",
   "execution_count": 164,
   "id": "ranking-sunglasses",
   "metadata": {},
   "outputs": [
    {
     "data": {
      "text/plain": [
       "0    16380\n",
       "1     9596\n",
       "Name: Gender, dtype: int64"
      ]
     },
     "execution_count": 164,
     "metadata": {},
     "output_type": "execute_result"
    }
   ],
   "source": [
    "airlinedf['Gender']= airlinedf['Gender'].map({'Male':1,'Female':0})\n",
    "airlinedf['Gender'].value_counts()"
   ]
  },
  {
   "cell_type": "code",
   "execution_count": 165,
   "id": "fundamental-proposition",
   "metadata": {},
   "outputs": [
    {
     "data": {
      "text/plain": [
       "array(['Loyal Customer', 'disloyal Customer'], dtype=object)"
      ]
     },
     "execution_count": 165,
     "metadata": {},
     "output_type": "execute_result"
    }
   ],
   "source": [
    "#Here 'Customer type' column mapping 0 and 1 \n",
    "airlinedf['Customer Type'].unique()"
   ]
  },
  {
   "cell_type": "code",
   "execution_count": 166,
   "id": "valid-mapping",
   "metadata": {},
   "outputs": [
    {
     "data": {
      "text/plain": [
       "1    21177\n",
       "0     4799\n",
       "Name: Customer Type, dtype: int64"
      ]
     },
     "execution_count": 166,
     "metadata": {},
     "output_type": "execute_result"
    }
   ],
   "source": [
    "airlinedf['Customer Type']= airlinedf['Customer Type'].map({'Loyal Customer':1,'disloyal Customer':0})\n",
    "airlinedf['Customer Type'].value_counts()"
   ]
  },
  {
   "cell_type": "code",
   "execution_count": 167,
   "id": "vulnerable-binary",
   "metadata": {},
   "outputs": [
    {
     "data": {
      "text/plain": [
       "array(['Eco', 'Business', nan, 'Eco Plus'], dtype=object)"
      ]
     },
     "execution_count": 167,
     "metadata": {},
     "output_type": "execute_result"
    }
   ],
   "source": [
    "#In the 'Class' column, missing values are replaced by most frequent class and using one hot vector .\n",
    "\n",
    "airlinedf['Class'].unique()"
   ]
  },
  {
   "cell_type": "code",
   "execution_count": 168,
   "id": "productive-outside",
   "metadata": {},
   "outputs": [
    {
     "data": {
      "text/plain": [
       "Business    9393\n",
       "Eco         8640\n",
       "Eco Plus    1453\n",
       "Name: Class, dtype: int64"
      ]
     },
     "execution_count": 168,
     "metadata": {},
     "output_type": "execute_result"
    }
   ],
   "source": [
    "airlinedf['Class'].value_counts()"
   ]
  },
  {
   "cell_type": "code",
   "execution_count": 169,
   "id": "brilliant-anniversary",
   "metadata": {},
   "outputs": [
    {
     "data": {
      "text/plain": [
       "Eco         15130\n",
       "Business     9393\n",
       "Eco Plus     1453\n",
       "Name: Class, dtype: int64"
      ]
     },
     "execution_count": 169,
     "metadata": {},
     "output_type": "execute_result"
    }
   ],
   "source": [
    "airlinedf['Class'].fillna('Eco',inplace = True)\n",
    "airlinedf['Class'].value_counts()"
   ]
  },
  {
   "cell_type": "code",
   "execution_count": 170,
   "id": "acoustic-ideal",
   "metadata": {},
   "outputs": [],
   "source": [
    "one_hot = pd.get_dummies(airlinedf['Class'],prefix='Class')\n",
    "airlinedf = airlinedf.drop('Class',axis = 1)\n",
    "airlinedf = airlinedf.join(one_hot)"
   ]
  },
  {
   "cell_type": "code",
   "execution_count": 171,
   "id": "greater-weekly",
   "metadata": {},
   "outputs": [
    {
     "data": {
      "text/plain": [
       "Business travel    18038\n",
       "Personal Travel     7938\n",
       "Name: Type of Travel, dtype: int64"
      ]
     },
     "execution_count": 171,
     "metadata": {},
     "output_type": "execute_result"
    }
   ],
   "source": [
    "#airlinedf = airlinedf(['Type of Travel'])\n",
    "airlinedf['Type of Travel'].value_counts()\n"
   ]
  },
  {
   "cell_type": "code",
   "execution_count": 172,
   "id": "fuzzy-cleanup",
   "metadata": {},
   "outputs": [],
   "source": [
    "one_hot = pd.get_dummies(airlinedf['Type of Travel'],prefix='Type of Travel')\n",
    "airlinedf = airlinedf.drop('Type of Travel',axis = 1)\n",
    "airlinedf = airlinedf.join(one_hot)"
   ]
  },
  {
   "cell_type": "code",
   "execution_count": 173,
   "id": "interracial-stuff",
   "metadata": {},
   "outputs": [
    {
     "data": {
      "text/plain": [
       "337.0     138\n",
       "594.0      84\n",
       "862.0      78\n",
       "391.0      74\n",
       "447.0      73\n",
       "         ... \n",
       "2215.0      1\n",
       "1950.0      1\n",
       "2527.0      1\n",
       "2871.0      1\n",
       "434.0       1\n",
       "Name: Flight Distance, Length: 3049, dtype: int64"
      ]
     },
     "execution_count": 173,
     "metadata": {},
     "output_type": "execute_result"
    }
   ],
   "source": [
    "airlinedf['Flight Distance'].value_counts()"
   ]
  },
  {
   "cell_type": "code",
   "execution_count": 174,
   "id": "successful-compensation",
   "metadata": {},
   "outputs": [],
   "source": [
    "#Missing values in 'Flight Distance' column replace by median of flight distance .\n",
    "airlinedf['Flight Distance'].fillna(airlinedf['Flight Distance'].median(), inplace=True)"
   ]
  },
  {
   "cell_type": "code",
   "execution_count": 175,
   "id": "novel-continuity",
   "metadata": {},
   "outputs": [
    {
     "data": {
      "text/plain": [
       "array([ 3., nan,  2.,  4.,  5.,  1.])"
      ]
     },
     "execution_count": 175,
     "metadata": {},
     "output_type": "execute_result"
    }
   ],
   "source": [
    "airlinedf['Seat comfort'].unique()"
   ]
  },
  {
   "cell_type": "code",
   "execution_count": 176,
   "id": "annoying-brass",
   "metadata": {},
   "outputs": [
    {
     "data": {
      "text/plain": [
       "4.0    6054\n",
       "5.0    4955\n",
       "3.0    3539\n",
       "2.0    2682\n",
       "1.0    2270\n",
       "Name: Seat comfort, dtype: int64"
      ]
     },
     "execution_count": 176,
     "metadata": {},
     "output_type": "execute_result"
    }
   ],
   "source": [
    "airlinedf['Seat comfort'].value_counts()"
   ]
  },
  {
   "cell_type": "code",
   "execution_count": 177,
   "id": "about-hearing",
   "metadata": {},
   "outputs": [
    {
     "data": {
      "text/plain": [
       "4.0    12530\n",
       "5.0     4955\n",
       "3.0     3539\n",
       "2.0     2682\n",
       "1.0     2270\n",
       "Name: Seat comfort, dtype: int64"
      ]
     },
     "execution_count": 177,
     "metadata": {},
     "output_type": "execute_result"
    }
   ],
   "source": [
    "airlinedf['Seat comfort'].fillna(4.0, inplace=True)\n",
    "\n",
    "airlinedf['Seat comfort'].value_counts()\n"
   ]
  },
  {
   "cell_type": "code",
   "execution_count": 178,
   "id": "generous-bumper",
   "metadata": {},
   "outputs": [
    {
     "data": {
      "text/plain": [
       "4.0    5293\n",
       "5.0    4709\n",
       "3.0    3705\n",
       "2.0    3681\n",
       "1.0    1909\n",
       "0.0     103\n",
       "Name: Leg room service, dtype: int64"
      ]
     },
     "execution_count": 178,
     "metadata": {},
     "output_type": "execute_result"
    }
   ],
   "source": [
    "airlinedf['Leg room service'].value_counts()"
   ]
  },
  {
   "cell_type": "code",
   "execution_count": 179,
   "id": "becoming-arizona",
   "metadata": {},
   "outputs": [],
   "source": [
    "airlinedf['Leg room service'].fillna(1.0, inplace=True)"
   ]
  },
  {
   "cell_type": "code",
   "execution_count": 180,
   "id": "hindu-mirror",
   "metadata": {},
   "outputs": [
    {
     "data": {
      "text/plain": [
       "4.0    6988\n",
       "5.0    5046\n",
       "3.0    3898\n",
       "2.0    2104\n",
       "1.0    1358\n",
       "Name: Baggage handling, dtype: int64"
      ]
     },
     "execution_count": 180,
     "metadata": {},
     "output_type": "execute_result"
    }
   ],
   "source": [
    "airlinedf['Baggage handling'].value_counts()"
   ]
  },
  {
   "cell_type": "code",
   "execution_count": 181,
   "id": "novel-bracelet",
   "metadata": {},
   "outputs": [],
   "source": [
    "airlinedf['Baggage handling'].fillna(3.0, inplace=True)"
   ]
  },
  {
   "cell_type": "code",
   "execution_count": 182,
   "id": "violent-teaching",
   "metadata": {},
   "outputs": [
    {
     "data": {
      "text/plain": [
       "0.0      14594\n",
       "1.0        536\n",
       "2.0        523\n",
       "3.0        490\n",
       "4.0        466\n",
       "         ...  \n",
       "347.0        1\n",
       "350.0        1\n",
       "320.0        1\n",
       "159.0        1\n",
       "403.0        1\n",
       "Name: Arrival Delay in Minutes, Length: 320, dtype: int64"
      ]
     },
     "execution_count": 182,
     "metadata": {},
     "output_type": "execute_result"
    }
   ],
   "source": [
    "airlinedf['Arrival Delay in Minutes'].value_counts()"
   ]
  },
  {
   "cell_type": "code",
   "execution_count": 183,
   "id": "painted-assumption",
   "metadata": {},
   "outputs": [],
   "source": [
    "airlinedf['Arrival Delay in Minutes'].fillna(airlinedf['Arrival Delay in Minutes'].median(), inplace=True)"
   ]
  },
  {
   "cell_type": "code",
   "execution_count": 184,
   "id": "signed-young",
   "metadata": {},
   "outputs": [],
   "source": [
    "airlinedf.drop(['Unnamed: 0'],inplace=True, axis = 1) "
   ]
  },
  {
   "cell_type": "code",
   "execution_count": 185,
   "id": "distant-mercury",
   "metadata": {},
   "outputs": [
    {
     "name": "stdout",
     "output_type": "stream",
     "text": [
      "<class 'pandas.core.frame.DataFrame'>\n",
      "RangeIndex: 25976 entries, 0 to 25975\n",
      "Data columns (total 26 columns):\n",
      " #   Column                             Non-Null Count  Dtype  \n",
      "---  ------                             --------------  -----  \n",
      " 0   Gender                             25976 non-null  int64  \n",
      " 1   Customer Type                      25976 non-null  int64  \n",
      " 2   Age                                25976 non-null  int64  \n",
      " 3   Flight Distance                    25976 non-null  float64\n",
      " 4   Inflight wifi service              25976 non-null  int64  \n",
      " 5   Departure/Arrival time convenient  25976 non-null  int64  \n",
      " 6   Ease of Online booking             25976 non-null  int64  \n",
      " 7   Gate location                      25976 non-null  int64  \n",
      " 8   Food and drink                     25976 non-null  int64  \n",
      " 9   Online boarding                    25976 non-null  int64  \n",
      " 10  Seat comfort                       25976 non-null  float64\n",
      " 11  Inflight entertainment             25976 non-null  int64  \n",
      " 12  On-board service                   25976 non-null  int64  \n",
      " 13  Leg room service                   25976 non-null  float64\n",
      " 14  Baggage handling                   25976 non-null  float64\n",
      " 15  Checkin service                    25976 non-null  int64  \n",
      " 16  Inflight service                   25976 non-null  int64  \n",
      " 17  Cleanliness                        25976 non-null  int64  \n",
      " 18  Departure Delay in Minutes         25976 non-null  int64  \n",
      " 19  Arrival Delay in Minutes           25976 non-null  float64\n",
      " 20  satisfaction                       25976 non-null  int64  \n",
      " 21  Class_Business                     25976 non-null  uint8  \n",
      " 22  Class_Eco                          25976 non-null  uint8  \n",
      " 23  Class_Eco Plus                     25976 non-null  uint8  \n",
      " 24  Type of Travel_Business travel     25976 non-null  uint8  \n",
      " 25  Type of Travel_Personal Travel     25976 non-null  uint8  \n",
      "dtypes: float64(5), int64(16), uint8(5)\n",
      "memory usage: 4.3 MB\n"
     ]
    }
   ],
   "source": [
    "airlinedf.info()"
   ]
  },
  {
   "cell_type": "code",
   "execution_count": 186,
   "id": "cellular-netscape",
   "metadata": {},
   "outputs": [
    {
     "data": {
      "application/javascript": [
       "/* Put everything inside the global mpl namespace */\n",
       "/* global mpl */\n",
       "window.mpl = {};\n",
       "\n",
       "mpl.get_websocket_type = function () {\n",
       "    if (typeof WebSocket !== 'undefined') {\n",
       "        return WebSocket;\n",
       "    } else if (typeof MozWebSocket !== 'undefined') {\n",
       "        return MozWebSocket;\n",
       "    } else {\n",
       "        alert(\n",
       "            'Your browser does not have WebSocket support. ' +\n",
       "                'Please try Chrome, Safari or Firefox ≥ 6. ' +\n",
       "                'Firefox 4 and 5 are also supported but you ' +\n",
       "                'have to enable WebSockets in about:config.'\n",
       "        );\n",
       "    }\n",
       "};\n",
       "\n",
       "mpl.figure = function (figure_id, websocket, ondownload, parent_element) {\n",
       "    this.id = figure_id;\n",
       "\n",
       "    this.ws = websocket;\n",
       "\n",
       "    this.supports_binary = this.ws.binaryType !== undefined;\n",
       "\n",
       "    if (!this.supports_binary) {\n",
       "        var warnings = document.getElementById('mpl-warnings');\n",
       "        if (warnings) {\n",
       "            warnings.style.display = 'block';\n",
       "            warnings.textContent =\n",
       "                'This browser does not support binary websocket messages. ' +\n",
       "                'Performance may be slow.';\n",
       "        }\n",
       "    }\n",
       "\n",
       "    this.imageObj = new Image();\n",
       "\n",
       "    this.context = undefined;\n",
       "    this.message = undefined;\n",
       "    this.canvas = undefined;\n",
       "    this.rubberband_canvas = undefined;\n",
       "    this.rubberband_context = undefined;\n",
       "    this.format_dropdown = undefined;\n",
       "\n",
       "    this.image_mode = 'full';\n",
       "\n",
       "    this.root = document.createElement('div');\n",
       "    this.root.setAttribute('style', 'display: inline-block');\n",
       "    this._root_extra_style(this.root);\n",
       "\n",
       "    parent_element.appendChild(this.root);\n",
       "\n",
       "    this._init_header(this);\n",
       "    this._init_canvas(this);\n",
       "    this._init_toolbar(this);\n",
       "\n",
       "    var fig = this;\n",
       "\n",
       "    this.waiting = false;\n",
       "\n",
       "    this.ws.onopen = function () {\n",
       "        fig.send_message('supports_binary', { value: fig.supports_binary });\n",
       "        fig.send_message('send_image_mode', {});\n",
       "        if (fig.ratio !== 1) {\n",
       "            fig.send_message('set_dpi_ratio', { dpi_ratio: fig.ratio });\n",
       "        }\n",
       "        fig.send_message('refresh', {});\n",
       "    };\n",
       "\n",
       "    this.imageObj.onload = function () {\n",
       "        if (fig.image_mode === 'full') {\n",
       "            // Full images could contain transparency (where diff images\n",
       "            // almost always do), so we need to clear the canvas so that\n",
       "            // there is no ghosting.\n",
       "            fig.context.clearRect(0, 0, fig.canvas.width, fig.canvas.height);\n",
       "        }\n",
       "        fig.context.drawImage(fig.imageObj, 0, 0);\n",
       "    };\n",
       "\n",
       "    this.imageObj.onunload = function () {\n",
       "        fig.ws.close();\n",
       "    };\n",
       "\n",
       "    this.ws.onmessage = this._make_on_message_function(this);\n",
       "\n",
       "    this.ondownload = ondownload;\n",
       "};\n",
       "\n",
       "mpl.figure.prototype._init_header = function () {\n",
       "    var titlebar = document.createElement('div');\n",
       "    titlebar.classList =\n",
       "        'ui-dialog-titlebar ui-widget-header ui-corner-all ui-helper-clearfix';\n",
       "    var titletext = document.createElement('div');\n",
       "    titletext.classList = 'ui-dialog-title';\n",
       "    titletext.setAttribute(\n",
       "        'style',\n",
       "        'width: 100%; text-align: center; padding: 3px;'\n",
       "    );\n",
       "    titlebar.appendChild(titletext);\n",
       "    this.root.appendChild(titlebar);\n",
       "    this.header = titletext;\n",
       "};\n",
       "\n",
       "mpl.figure.prototype._canvas_extra_style = function (_canvas_div) {};\n",
       "\n",
       "mpl.figure.prototype._root_extra_style = function (_canvas_div) {};\n",
       "\n",
       "mpl.figure.prototype._init_canvas = function () {\n",
       "    var fig = this;\n",
       "\n",
       "    var canvas_div = (this.canvas_div = document.createElement('div'));\n",
       "    canvas_div.setAttribute(\n",
       "        'style',\n",
       "        'border: 1px solid #ddd;' +\n",
       "            'box-sizing: content-box;' +\n",
       "            'clear: both;' +\n",
       "            'min-height: 1px;' +\n",
       "            'min-width: 1px;' +\n",
       "            'outline: 0;' +\n",
       "            'overflow: hidden;' +\n",
       "            'position: relative;' +\n",
       "            'resize: both;'\n",
       "    );\n",
       "\n",
       "    function on_keyboard_event_closure(name) {\n",
       "        return function (event) {\n",
       "            return fig.key_event(event, name);\n",
       "        };\n",
       "    }\n",
       "\n",
       "    canvas_div.addEventListener(\n",
       "        'keydown',\n",
       "        on_keyboard_event_closure('key_press')\n",
       "    );\n",
       "    canvas_div.addEventListener(\n",
       "        'keyup',\n",
       "        on_keyboard_event_closure('key_release')\n",
       "    );\n",
       "\n",
       "    this._canvas_extra_style(canvas_div);\n",
       "    this.root.appendChild(canvas_div);\n",
       "\n",
       "    var canvas = (this.canvas = document.createElement('canvas'));\n",
       "    canvas.classList.add('mpl-canvas');\n",
       "    canvas.setAttribute('style', 'box-sizing: content-box;');\n",
       "\n",
       "    this.context = canvas.getContext('2d');\n",
       "\n",
       "    var backingStore =\n",
       "        this.context.backingStorePixelRatio ||\n",
       "        this.context.webkitBackingStorePixelRatio ||\n",
       "        this.context.mozBackingStorePixelRatio ||\n",
       "        this.context.msBackingStorePixelRatio ||\n",
       "        this.context.oBackingStorePixelRatio ||\n",
       "        this.context.backingStorePixelRatio ||\n",
       "        1;\n",
       "\n",
       "    this.ratio = (window.devicePixelRatio || 1) / backingStore;\n",
       "\n",
       "    var rubberband_canvas = (this.rubberband_canvas = document.createElement(\n",
       "        'canvas'\n",
       "    ));\n",
       "    rubberband_canvas.setAttribute(\n",
       "        'style',\n",
       "        'box-sizing: content-box; position: absolute; left: 0; top: 0; z-index: 1;'\n",
       "    );\n",
       "\n",
       "    // Apply a ponyfill if ResizeObserver is not implemented by browser.\n",
       "    if (this.ResizeObserver === undefined) {\n",
       "        if (window.ResizeObserver !== undefined) {\n",
       "            this.ResizeObserver = window.ResizeObserver;\n",
       "        } else {\n",
       "            var obs = _JSXTOOLS_RESIZE_OBSERVER({});\n",
       "            this.ResizeObserver = obs.ResizeObserver;\n",
       "        }\n",
       "    }\n",
       "\n",
       "    this.resizeObserverInstance = new this.ResizeObserver(function (entries) {\n",
       "        var nentries = entries.length;\n",
       "        for (var i = 0; i < nentries; i++) {\n",
       "            var entry = entries[i];\n",
       "            var width, height;\n",
       "            if (entry.contentBoxSize) {\n",
       "                if (entry.contentBoxSize instanceof Array) {\n",
       "                    // Chrome 84 implements new version of spec.\n",
       "                    width = entry.contentBoxSize[0].inlineSize;\n",
       "                    height = entry.contentBoxSize[0].blockSize;\n",
       "                } else {\n",
       "                    // Firefox implements old version of spec.\n",
       "                    width = entry.contentBoxSize.inlineSize;\n",
       "                    height = entry.contentBoxSize.blockSize;\n",
       "                }\n",
       "            } else {\n",
       "                // Chrome <84 implements even older version of spec.\n",
       "                width = entry.contentRect.width;\n",
       "                height = entry.contentRect.height;\n",
       "            }\n",
       "\n",
       "            // Keep the size of the canvas and rubber band canvas in sync with\n",
       "            // the canvas container.\n",
       "            if (entry.devicePixelContentBoxSize) {\n",
       "                // Chrome 84 implements new version of spec.\n",
       "                canvas.setAttribute(\n",
       "                    'width',\n",
       "                    entry.devicePixelContentBoxSize[0].inlineSize\n",
       "                );\n",
       "                canvas.setAttribute(\n",
       "                    'height',\n",
       "                    entry.devicePixelContentBoxSize[0].blockSize\n",
       "                );\n",
       "            } else {\n",
       "                canvas.setAttribute('width', width * fig.ratio);\n",
       "                canvas.setAttribute('height', height * fig.ratio);\n",
       "            }\n",
       "            canvas.setAttribute(\n",
       "                'style',\n",
       "                'width: ' + width + 'px; height: ' + height + 'px;'\n",
       "            );\n",
       "\n",
       "            rubberband_canvas.setAttribute('width', width);\n",
       "            rubberband_canvas.setAttribute('height', height);\n",
       "\n",
       "            // And update the size in Python. We ignore the initial 0/0 size\n",
       "            // that occurs as the element is placed into the DOM, which should\n",
       "            // otherwise not happen due to the minimum size styling.\n",
       "            if (fig.ws.readyState == 1 && width != 0 && height != 0) {\n",
       "                fig.request_resize(width, height);\n",
       "            }\n",
       "        }\n",
       "    });\n",
       "    this.resizeObserverInstance.observe(canvas_div);\n",
       "\n",
       "    function on_mouse_event_closure(name) {\n",
       "        return function (event) {\n",
       "            return fig.mouse_event(event, name);\n",
       "        };\n",
       "    }\n",
       "\n",
       "    rubberband_canvas.addEventListener(\n",
       "        'mousedown',\n",
       "        on_mouse_event_closure('button_press')\n",
       "    );\n",
       "    rubberband_canvas.addEventListener(\n",
       "        'mouseup',\n",
       "        on_mouse_event_closure('button_release')\n",
       "    );\n",
       "    // Throttle sequential mouse events to 1 every 20ms.\n",
       "    rubberband_canvas.addEventListener(\n",
       "        'mousemove',\n",
       "        on_mouse_event_closure('motion_notify')\n",
       "    );\n",
       "\n",
       "    rubberband_canvas.addEventListener(\n",
       "        'mouseenter',\n",
       "        on_mouse_event_closure('figure_enter')\n",
       "    );\n",
       "    rubberband_canvas.addEventListener(\n",
       "        'mouseleave',\n",
       "        on_mouse_event_closure('figure_leave')\n",
       "    );\n",
       "\n",
       "    canvas_div.addEventListener('wheel', function (event) {\n",
       "        if (event.deltaY < 0) {\n",
       "            event.step = 1;\n",
       "        } else {\n",
       "            event.step = -1;\n",
       "        }\n",
       "        on_mouse_event_closure('scroll')(event);\n",
       "    });\n",
       "\n",
       "    canvas_div.appendChild(canvas);\n",
       "    canvas_div.appendChild(rubberband_canvas);\n",
       "\n",
       "    this.rubberband_context = rubberband_canvas.getContext('2d');\n",
       "    this.rubberband_context.strokeStyle = '#000000';\n",
       "\n",
       "    this._resize_canvas = function (width, height, forward) {\n",
       "        if (forward) {\n",
       "            canvas_div.style.width = width + 'px';\n",
       "            canvas_div.style.height = height + 'px';\n",
       "        }\n",
       "    };\n",
       "\n",
       "    // Disable right mouse context menu.\n",
       "    this.rubberband_canvas.addEventListener('contextmenu', function (_e) {\n",
       "        event.preventDefault();\n",
       "        return false;\n",
       "    });\n",
       "\n",
       "    function set_focus() {\n",
       "        canvas.focus();\n",
       "        canvas_div.focus();\n",
       "    }\n",
       "\n",
       "    window.setTimeout(set_focus, 100);\n",
       "};\n",
       "\n",
       "mpl.figure.prototype._init_toolbar = function () {\n",
       "    var fig = this;\n",
       "\n",
       "    var toolbar = document.createElement('div');\n",
       "    toolbar.classList = 'mpl-toolbar';\n",
       "    this.root.appendChild(toolbar);\n",
       "\n",
       "    function on_click_closure(name) {\n",
       "        return function (_event) {\n",
       "            return fig.toolbar_button_onclick(name);\n",
       "        };\n",
       "    }\n",
       "\n",
       "    function on_mouseover_closure(tooltip) {\n",
       "        return function (event) {\n",
       "            if (!event.currentTarget.disabled) {\n",
       "                return fig.toolbar_button_onmouseover(tooltip);\n",
       "            }\n",
       "        };\n",
       "    }\n",
       "\n",
       "    fig.buttons = {};\n",
       "    var buttonGroup = document.createElement('div');\n",
       "    buttonGroup.classList = 'mpl-button-group';\n",
       "    for (var toolbar_ind in mpl.toolbar_items) {\n",
       "        var name = mpl.toolbar_items[toolbar_ind][0];\n",
       "        var tooltip = mpl.toolbar_items[toolbar_ind][1];\n",
       "        var image = mpl.toolbar_items[toolbar_ind][2];\n",
       "        var method_name = mpl.toolbar_items[toolbar_ind][3];\n",
       "\n",
       "        if (!name) {\n",
       "            /* Instead of a spacer, we start a new button group. */\n",
       "            if (buttonGroup.hasChildNodes()) {\n",
       "                toolbar.appendChild(buttonGroup);\n",
       "            }\n",
       "            buttonGroup = document.createElement('div');\n",
       "            buttonGroup.classList = 'mpl-button-group';\n",
       "            continue;\n",
       "        }\n",
       "\n",
       "        var button = (fig.buttons[name] = document.createElement('button'));\n",
       "        button.classList = 'mpl-widget';\n",
       "        button.setAttribute('role', 'button');\n",
       "        button.setAttribute('aria-disabled', 'false');\n",
       "        button.addEventListener('click', on_click_closure(method_name));\n",
       "        button.addEventListener('mouseover', on_mouseover_closure(tooltip));\n",
       "\n",
       "        var icon_img = document.createElement('img');\n",
       "        icon_img.src = '_images/' + image + '.png';\n",
       "        icon_img.srcset = '_images/' + image + '_large.png 2x';\n",
       "        icon_img.alt = tooltip;\n",
       "        button.appendChild(icon_img);\n",
       "\n",
       "        buttonGroup.appendChild(button);\n",
       "    }\n",
       "\n",
       "    if (buttonGroup.hasChildNodes()) {\n",
       "        toolbar.appendChild(buttonGroup);\n",
       "    }\n",
       "\n",
       "    var fmt_picker = document.createElement('select');\n",
       "    fmt_picker.classList = 'mpl-widget';\n",
       "    toolbar.appendChild(fmt_picker);\n",
       "    this.format_dropdown = fmt_picker;\n",
       "\n",
       "    for (var ind in mpl.extensions) {\n",
       "        var fmt = mpl.extensions[ind];\n",
       "        var option = document.createElement('option');\n",
       "        option.selected = fmt === mpl.default_extension;\n",
       "        option.innerHTML = fmt;\n",
       "        fmt_picker.appendChild(option);\n",
       "    }\n",
       "\n",
       "    var status_bar = document.createElement('span');\n",
       "    status_bar.classList = 'mpl-message';\n",
       "    toolbar.appendChild(status_bar);\n",
       "    this.message = status_bar;\n",
       "};\n",
       "\n",
       "mpl.figure.prototype.request_resize = function (x_pixels, y_pixels) {\n",
       "    // Request matplotlib to resize the figure. Matplotlib will then trigger a resize in the client,\n",
       "    // which will in turn request a refresh of the image.\n",
       "    this.send_message('resize', { width: x_pixels, height: y_pixels });\n",
       "};\n",
       "\n",
       "mpl.figure.prototype.send_message = function (type, properties) {\n",
       "    properties['type'] = type;\n",
       "    properties['figure_id'] = this.id;\n",
       "    this.ws.send(JSON.stringify(properties));\n",
       "};\n",
       "\n",
       "mpl.figure.prototype.send_draw_message = function () {\n",
       "    if (!this.waiting) {\n",
       "        this.waiting = true;\n",
       "        this.ws.send(JSON.stringify({ type: 'draw', figure_id: this.id }));\n",
       "    }\n",
       "};\n",
       "\n",
       "mpl.figure.prototype.handle_save = function (fig, _msg) {\n",
       "    var format_dropdown = fig.format_dropdown;\n",
       "    var format = format_dropdown.options[format_dropdown.selectedIndex].value;\n",
       "    fig.ondownload(fig, format);\n",
       "};\n",
       "\n",
       "mpl.figure.prototype.handle_resize = function (fig, msg) {\n",
       "    var size = msg['size'];\n",
       "    if (size[0] !== fig.canvas.width || size[1] !== fig.canvas.height) {\n",
       "        fig._resize_canvas(size[0], size[1], msg['forward']);\n",
       "        fig.send_message('refresh', {});\n",
       "    }\n",
       "};\n",
       "\n",
       "mpl.figure.prototype.handle_rubberband = function (fig, msg) {\n",
       "    var x0 = msg['x0'] / fig.ratio;\n",
       "    var y0 = (fig.canvas.height - msg['y0']) / fig.ratio;\n",
       "    var x1 = msg['x1'] / fig.ratio;\n",
       "    var y1 = (fig.canvas.height - msg['y1']) / fig.ratio;\n",
       "    x0 = Math.floor(x0) + 0.5;\n",
       "    y0 = Math.floor(y0) + 0.5;\n",
       "    x1 = Math.floor(x1) + 0.5;\n",
       "    y1 = Math.floor(y1) + 0.5;\n",
       "    var min_x = Math.min(x0, x1);\n",
       "    var min_y = Math.min(y0, y1);\n",
       "    var width = Math.abs(x1 - x0);\n",
       "    var height = Math.abs(y1 - y0);\n",
       "\n",
       "    fig.rubberband_context.clearRect(\n",
       "        0,\n",
       "        0,\n",
       "        fig.canvas.width / fig.ratio,\n",
       "        fig.canvas.height / fig.ratio\n",
       "    );\n",
       "\n",
       "    fig.rubberband_context.strokeRect(min_x, min_y, width, height);\n",
       "};\n",
       "\n",
       "mpl.figure.prototype.handle_figure_label = function (fig, msg) {\n",
       "    // Updates the figure title.\n",
       "    fig.header.textContent = msg['label'];\n",
       "};\n",
       "\n",
       "mpl.figure.prototype.handle_cursor = function (fig, msg) {\n",
       "    var cursor = msg['cursor'];\n",
       "    switch (cursor) {\n",
       "        case 0:\n",
       "            cursor = 'pointer';\n",
       "            break;\n",
       "        case 1:\n",
       "            cursor = 'default';\n",
       "            break;\n",
       "        case 2:\n",
       "            cursor = 'crosshair';\n",
       "            break;\n",
       "        case 3:\n",
       "            cursor = 'move';\n",
       "            break;\n",
       "    }\n",
       "    fig.rubberband_canvas.style.cursor = cursor;\n",
       "};\n",
       "\n",
       "mpl.figure.prototype.handle_message = function (fig, msg) {\n",
       "    fig.message.textContent = msg['message'];\n",
       "};\n",
       "\n",
       "mpl.figure.prototype.handle_draw = function (fig, _msg) {\n",
       "    // Request the server to send over a new figure.\n",
       "    fig.send_draw_message();\n",
       "};\n",
       "\n",
       "mpl.figure.prototype.handle_image_mode = function (fig, msg) {\n",
       "    fig.image_mode = msg['mode'];\n",
       "};\n",
       "\n",
       "mpl.figure.prototype.handle_history_buttons = function (fig, msg) {\n",
       "    for (var key in msg) {\n",
       "        if (!(key in fig.buttons)) {\n",
       "            continue;\n",
       "        }\n",
       "        fig.buttons[key].disabled = !msg[key];\n",
       "        fig.buttons[key].setAttribute('aria-disabled', !msg[key]);\n",
       "    }\n",
       "};\n",
       "\n",
       "mpl.figure.prototype.handle_navigate_mode = function (fig, msg) {\n",
       "    if (msg['mode'] === 'PAN') {\n",
       "        fig.buttons['Pan'].classList.add('active');\n",
       "        fig.buttons['Zoom'].classList.remove('active');\n",
       "    } else if (msg['mode'] === 'ZOOM') {\n",
       "        fig.buttons['Pan'].classList.remove('active');\n",
       "        fig.buttons['Zoom'].classList.add('active');\n",
       "    } else {\n",
       "        fig.buttons['Pan'].classList.remove('active');\n",
       "        fig.buttons['Zoom'].classList.remove('active');\n",
       "    }\n",
       "};\n",
       "\n",
       "mpl.figure.prototype.updated_canvas_event = function () {\n",
       "    // Called whenever the canvas gets updated.\n",
       "    this.send_message('ack', {});\n",
       "};\n",
       "\n",
       "// A function to construct a web socket function for onmessage handling.\n",
       "// Called in the figure constructor.\n",
       "mpl.figure.prototype._make_on_message_function = function (fig) {\n",
       "    return function socket_on_message(evt) {\n",
       "        if (evt.data instanceof Blob) {\n",
       "            /* FIXME: We get \"Resource interpreted as Image but\n",
       "             * transferred with MIME type text/plain:\" errors on\n",
       "             * Chrome.  But how to set the MIME type?  It doesn't seem\n",
       "             * to be part of the websocket stream */\n",
       "            evt.data.type = 'image/png';\n",
       "\n",
       "            /* Free the memory for the previous frames */\n",
       "            if (fig.imageObj.src) {\n",
       "                (window.URL || window.webkitURL).revokeObjectURL(\n",
       "                    fig.imageObj.src\n",
       "                );\n",
       "            }\n",
       "\n",
       "            fig.imageObj.src = (window.URL || window.webkitURL).createObjectURL(\n",
       "                evt.data\n",
       "            );\n",
       "            fig.updated_canvas_event();\n",
       "            fig.waiting = false;\n",
       "            return;\n",
       "        } else if (\n",
       "            typeof evt.data === 'string' &&\n",
       "            evt.data.slice(0, 21) === 'data:image/png;base64'\n",
       "        ) {\n",
       "            fig.imageObj.src = evt.data;\n",
       "            fig.updated_canvas_event();\n",
       "            fig.waiting = false;\n",
       "            return;\n",
       "        }\n",
       "\n",
       "        var msg = JSON.parse(evt.data);\n",
       "        var msg_type = msg['type'];\n",
       "\n",
       "        // Call the  \"handle_{type}\" callback, which takes\n",
       "        // the figure and JSON message as its only arguments.\n",
       "        try {\n",
       "            var callback = fig['handle_' + msg_type];\n",
       "        } catch (e) {\n",
       "            console.log(\n",
       "                \"No handler for the '\" + msg_type + \"' message type: \",\n",
       "                msg\n",
       "            );\n",
       "            return;\n",
       "        }\n",
       "\n",
       "        if (callback) {\n",
       "            try {\n",
       "                // console.log(\"Handling '\" + msg_type + \"' message: \", msg);\n",
       "                callback(fig, msg);\n",
       "            } catch (e) {\n",
       "                console.log(\n",
       "                    \"Exception inside the 'handler_\" + msg_type + \"' callback:\",\n",
       "                    e,\n",
       "                    e.stack,\n",
       "                    msg\n",
       "                );\n",
       "            }\n",
       "        }\n",
       "    };\n",
       "};\n",
       "\n",
       "// from http://stackoverflow.com/questions/1114465/getting-mouse-location-in-canvas\n",
       "mpl.findpos = function (e) {\n",
       "    //this section is from http://www.quirksmode.org/js/events_properties.html\n",
       "    var targ;\n",
       "    if (!e) {\n",
       "        e = window.event;\n",
       "    }\n",
       "    if (e.target) {\n",
       "        targ = e.target;\n",
       "    } else if (e.srcElement) {\n",
       "        targ = e.srcElement;\n",
       "    }\n",
       "    if (targ.nodeType === 3) {\n",
       "        // defeat Safari bug\n",
       "        targ = targ.parentNode;\n",
       "    }\n",
       "\n",
       "    // pageX,Y are the mouse positions relative to the document\n",
       "    var boundingRect = targ.getBoundingClientRect();\n",
       "    var x = e.pageX - (boundingRect.left + document.body.scrollLeft);\n",
       "    var y = e.pageY - (boundingRect.top + document.body.scrollTop);\n",
       "\n",
       "    return { x: x, y: y };\n",
       "};\n",
       "\n",
       "/*\n",
       " * return a copy of an object with only non-object keys\n",
       " * we need this to avoid circular references\n",
       " * http://stackoverflow.com/a/24161582/3208463\n",
       " */\n",
       "function simpleKeys(original) {\n",
       "    return Object.keys(original).reduce(function (obj, key) {\n",
       "        if (typeof original[key] !== 'object') {\n",
       "            obj[key] = original[key];\n",
       "        }\n",
       "        return obj;\n",
       "    }, {});\n",
       "}\n",
       "\n",
       "mpl.figure.prototype.mouse_event = function (event, name) {\n",
       "    var canvas_pos = mpl.findpos(event);\n",
       "\n",
       "    if (name === 'button_press') {\n",
       "        this.canvas.focus();\n",
       "        this.canvas_div.focus();\n",
       "    }\n",
       "\n",
       "    var x = canvas_pos.x * this.ratio;\n",
       "    var y = canvas_pos.y * this.ratio;\n",
       "\n",
       "    this.send_message(name, {\n",
       "        x: x,\n",
       "        y: y,\n",
       "        button: event.button,\n",
       "        step: event.step,\n",
       "        guiEvent: simpleKeys(event),\n",
       "    });\n",
       "\n",
       "    /* This prevents the web browser from automatically changing to\n",
       "     * the text insertion cursor when the button is pressed.  We want\n",
       "     * to control all of the cursor setting manually through the\n",
       "     * 'cursor' event from matplotlib */\n",
       "    event.preventDefault();\n",
       "    return false;\n",
       "};\n",
       "\n",
       "mpl.figure.prototype._key_event_extra = function (_event, _name) {\n",
       "    // Handle any extra behaviour associated with a key event\n",
       "};\n",
       "\n",
       "mpl.figure.prototype.key_event = function (event, name) {\n",
       "    // Prevent repeat events\n",
       "    if (name === 'key_press') {\n",
       "        if (event.which === this._key) {\n",
       "            return;\n",
       "        } else {\n",
       "            this._key = event.which;\n",
       "        }\n",
       "    }\n",
       "    if (name === 'key_release') {\n",
       "        this._key = null;\n",
       "    }\n",
       "\n",
       "    var value = '';\n",
       "    if (event.ctrlKey && event.which !== 17) {\n",
       "        value += 'ctrl+';\n",
       "    }\n",
       "    if (event.altKey && event.which !== 18) {\n",
       "        value += 'alt+';\n",
       "    }\n",
       "    if (event.shiftKey && event.which !== 16) {\n",
       "        value += 'shift+';\n",
       "    }\n",
       "\n",
       "    value += 'k';\n",
       "    value += event.which.toString();\n",
       "\n",
       "    this._key_event_extra(event, name);\n",
       "\n",
       "    this.send_message(name, { key: value, guiEvent: simpleKeys(event) });\n",
       "    return false;\n",
       "};\n",
       "\n",
       "mpl.figure.prototype.toolbar_button_onclick = function (name) {\n",
       "    if (name === 'download') {\n",
       "        this.handle_save(this, null);\n",
       "    } else {\n",
       "        this.send_message('toolbar_button', { name: name });\n",
       "    }\n",
       "};\n",
       "\n",
       "mpl.figure.prototype.toolbar_button_onmouseover = function (tooltip) {\n",
       "    this.message.textContent = tooltip;\n",
       "};\n",
       "\n",
       "///////////////// REMAINING CONTENT GENERATED BY embed_js.py /////////////////\n",
       "// prettier-ignore\n",
       "var _JSXTOOLS_RESIZE_OBSERVER=function(A){var t,i=new WeakMap,n=new WeakMap,a=new WeakMap,r=new WeakMap,o=new Set;function s(e){if(!(this instanceof s))throw new TypeError(\"Constructor requires 'new' operator\");i.set(this,e)}function h(){throw new TypeError(\"Function is not a constructor\")}function c(e,t,i,n){e=0 in arguments?Number(arguments[0]):0,t=1 in arguments?Number(arguments[1]):0,i=2 in arguments?Number(arguments[2]):0,n=3 in arguments?Number(arguments[3]):0,this.right=(this.x=this.left=e)+(this.width=i),this.bottom=(this.y=this.top=t)+(this.height=n),Object.freeze(this)}function d(){t=requestAnimationFrame(d);var s=new WeakMap,p=new Set;o.forEach((function(t){r.get(t).forEach((function(i){var r=t instanceof window.SVGElement,o=a.get(t),d=r?0:parseFloat(o.paddingTop),f=r?0:parseFloat(o.paddingRight),l=r?0:parseFloat(o.paddingBottom),u=r?0:parseFloat(o.paddingLeft),g=r?0:parseFloat(o.borderTopWidth),m=r?0:parseFloat(o.borderRightWidth),w=r?0:parseFloat(o.borderBottomWidth),b=u+f,F=d+l,v=(r?0:parseFloat(o.borderLeftWidth))+m,W=g+w,y=r?0:t.offsetHeight-W-t.clientHeight,E=r?0:t.offsetWidth-v-t.clientWidth,R=b+v,z=F+W,M=r?t.width:parseFloat(o.width)-R-E,O=r?t.height:parseFloat(o.height)-z-y;if(n.has(t)){var k=n.get(t);if(k[0]===M&&k[1]===O)return}n.set(t,[M,O]);var S=Object.create(h.prototype);S.target=t,S.contentRect=new c(u,d,M,O),s.has(i)||(s.set(i,[]),p.add(i)),s.get(i).push(S)}))})),p.forEach((function(e){i.get(e).call(e,s.get(e),e)}))}return s.prototype.observe=function(i){if(i instanceof window.Element){r.has(i)||(r.set(i,new Set),o.add(i),a.set(i,window.getComputedStyle(i)));var n=r.get(i);n.has(this)||n.add(this),cancelAnimationFrame(t),t=requestAnimationFrame(d)}},s.prototype.unobserve=function(i){if(i instanceof window.Element&&r.has(i)){var n=r.get(i);n.has(this)&&(n.delete(this),n.size||(r.delete(i),o.delete(i))),n.size||r.delete(i),o.size||cancelAnimationFrame(t)}},A.DOMRectReadOnly=c,A.ResizeObserver=s,A.ResizeObserverEntry=h,A}; // eslint-disable-line\n",
       "mpl.toolbar_items = [[\"Home\", \"Reset original view\", \"fa fa-home icon-home\", \"home\"], [\"Back\", \"Back to previous view\", \"fa fa-arrow-left icon-arrow-left\", \"back\"], [\"Forward\", \"Forward to next view\", \"fa fa-arrow-right icon-arrow-right\", \"forward\"], [\"\", \"\", \"\", \"\"], [\"Pan\", \"Left button pans, Right button zooms\\nx/y fixes axis, CTRL fixes aspect\", \"fa fa-arrows icon-move\", \"pan\"], [\"Zoom\", \"Zoom to rectangle\\nx/y fixes axis, CTRL fixes aspect\", \"fa fa-square-o icon-check-empty\", \"zoom\"], [\"\", \"\", \"\", \"\"], [\"Download\", \"Download plot\", \"fa fa-floppy-o icon-save\", \"download\"]];\n",
       "\n",
       "mpl.extensions = [\"eps\", \"jpeg\", \"pdf\", \"png\", \"ps\", \"raw\", \"svg\", \"tif\"];\n",
       "\n",
       "mpl.default_extension = \"png\";/* global mpl */\n",
       "\n",
       "var comm_websocket_adapter = function (comm) {\n",
       "    // Create a \"websocket\"-like object which calls the given IPython comm\n",
       "    // object with the appropriate methods. Currently this is a non binary\n",
       "    // socket, so there is still some room for performance tuning.\n",
       "    var ws = {};\n",
       "\n",
       "    ws.close = function () {\n",
       "        comm.close();\n",
       "    };\n",
       "    ws.send = function (m) {\n",
       "        //console.log('sending', m);\n",
       "        comm.send(m);\n",
       "    };\n",
       "    // Register the callback with on_msg.\n",
       "    comm.on_msg(function (msg) {\n",
       "        //console.log('receiving', msg['content']['data'], msg);\n",
       "        // Pass the mpl event to the overridden (by mpl) onmessage function.\n",
       "        ws.onmessage(msg['content']['data']);\n",
       "    });\n",
       "    return ws;\n",
       "};\n",
       "\n",
       "mpl.mpl_figure_comm = function (comm, msg) {\n",
       "    // This is the function which gets called when the mpl process\n",
       "    // starts-up an IPython Comm through the \"matplotlib\" channel.\n",
       "\n",
       "    var id = msg.content.data.id;\n",
       "    // Get hold of the div created by the display call when the Comm\n",
       "    // socket was opened in Python.\n",
       "    var element = document.getElementById(id);\n",
       "    var ws_proxy = comm_websocket_adapter(comm);\n",
       "\n",
       "    function ondownload(figure, _format) {\n",
       "        window.open(figure.canvas.toDataURL());\n",
       "    }\n",
       "\n",
       "    var fig = new mpl.figure(id, ws_proxy, ondownload, element);\n",
       "\n",
       "    // Call onopen now - mpl needs it, as it is assuming we've passed it a real\n",
       "    // web socket which is closed, not our websocket->open comm proxy.\n",
       "    ws_proxy.onopen();\n",
       "\n",
       "    fig.parent_element = element;\n",
       "    fig.cell_info = mpl.find_output_cell(\"<div id='\" + id + \"'></div>\");\n",
       "    if (!fig.cell_info) {\n",
       "        console.error('Failed to find cell for figure', id, fig);\n",
       "        return;\n",
       "    }\n",
       "    fig.cell_info[0].output_area.element.on(\n",
       "        'cleared',\n",
       "        { fig: fig },\n",
       "        fig._remove_fig_handler\n",
       "    );\n",
       "};\n",
       "\n",
       "mpl.figure.prototype.handle_close = function (fig, msg) {\n",
       "    var width = fig.canvas.width / fig.ratio;\n",
       "    fig.cell_info[0].output_area.element.off(\n",
       "        'cleared',\n",
       "        fig._remove_fig_handler\n",
       "    );\n",
       "    fig.resizeObserverInstance.unobserve(fig.canvas_div);\n",
       "\n",
       "    // Update the output cell to use the data from the current canvas.\n",
       "    fig.push_to_output();\n",
       "    var dataURL = fig.canvas.toDataURL();\n",
       "    // Re-enable the keyboard manager in IPython - without this line, in FF,\n",
       "    // the notebook keyboard shortcuts fail.\n",
       "    IPython.keyboard_manager.enable();\n",
       "    fig.parent_element.innerHTML =\n",
       "        '<img src=\"' + dataURL + '\" width=\"' + width + '\">';\n",
       "    fig.close_ws(fig, msg);\n",
       "};\n",
       "\n",
       "mpl.figure.prototype.close_ws = function (fig, msg) {\n",
       "    fig.send_message('closing', msg);\n",
       "    // fig.ws.close()\n",
       "};\n",
       "\n",
       "mpl.figure.prototype.push_to_output = function (_remove_interactive) {\n",
       "    // Turn the data on the canvas into data in the output cell.\n",
       "    var width = this.canvas.width / this.ratio;\n",
       "    var dataURL = this.canvas.toDataURL();\n",
       "    this.cell_info[1]['text/html'] =\n",
       "        '<img src=\"' + dataURL + '\" width=\"' + width + '\">';\n",
       "};\n",
       "\n",
       "mpl.figure.prototype.updated_canvas_event = function () {\n",
       "    // Tell IPython that the notebook contents must change.\n",
       "    IPython.notebook.set_dirty(true);\n",
       "    this.send_message('ack', {});\n",
       "    var fig = this;\n",
       "    // Wait a second, then push the new image to the DOM so\n",
       "    // that it is saved nicely (might be nice to debounce this).\n",
       "    setTimeout(function () {\n",
       "        fig.push_to_output();\n",
       "    }, 1000);\n",
       "};\n",
       "\n",
       "mpl.figure.prototype._init_toolbar = function () {\n",
       "    var fig = this;\n",
       "\n",
       "    var toolbar = document.createElement('div');\n",
       "    toolbar.classList = 'btn-toolbar';\n",
       "    this.root.appendChild(toolbar);\n",
       "\n",
       "    function on_click_closure(name) {\n",
       "        return function (_event) {\n",
       "            return fig.toolbar_button_onclick(name);\n",
       "        };\n",
       "    }\n",
       "\n",
       "    function on_mouseover_closure(tooltip) {\n",
       "        return function (event) {\n",
       "            if (!event.currentTarget.disabled) {\n",
       "                return fig.toolbar_button_onmouseover(tooltip);\n",
       "            }\n",
       "        };\n",
       "    }\n",
       "\n",
       "    fig.buttons = {};\n",
       "    var buttonGroup = document.createElement('div');\n",
       "    buttonGroup.classList = 'btn-group';\n",
       "    var button;\n",
       "    for (var toolbar_ind in mpl.toolbar_items) {\n",
       "        var name = mpl.toolbar_items[toolbar_ind][0];\n",
       "        var tooltip = mpl.toolbar_items[toolbar_ind][1];\n",
       "        var image = mpl.toolbar_items[toolbar_ind][2];\n",
       "        var method_name = mpl.toolbar_items[toolbar_ind][3];\n",
       "\n",
       "        if (!name) {\n",
       "            /* Instead of a spacer, we start a new button group. */\n",
       "            if (buttonGroup.hasChildNodes()) {\n",
       "                toolbar.appendChild(buttonGroup);\n",
       "            }\n",
       "            buttonGroup = document.createElement('div');\n",
       "            buttonGroup.classList = 'btn-group';\n",
       "            continue;\n",
       "        }\n",
       "\n",
       "        button = fig.buttons[name] = document.createElement('button');\n",
       "        button.classList = 'btn btn-default';\n",
       "        button.href = '#';\n",
       "        button.title = name;\n",
       "        button.innerHTML = '<i class=\"fa ' + image + ' fa-lg\"></i>';\n",
       "        button.addEventListener('click', on_click_closure(method_name));\n",
       "        button.addEventListener('mouseover', on_mouseover_closure(tooltip));\n",
       "        buttonGroup.appendChild(button);\n",
       "    }\n",
       "\n",
       "    if (buttonGroup.hasChildNodes()) {\n",
       "        toolbar.appendChild(buttonGroup);\n",
       "    }\n",
       "\n",
       "    // Add the status bar.\n",
       "    var status_bar = document.createElement('span');\n",
       "    status_bar.classList = 'mpl-message pull-right';\n",
       "    toolbar.appendChild(status_bar);\n",
       "    this.message = status_bar;\n",
       "\n",
       "    // Add the close button to the window.\n",
       "    var buttongrp = document.createElement('div');\n",
       "    buttongrp.classList = 'btn-group inline pull-right';\n",
       "    button = document.createElement('button');\n",
       "    button.classList = 'btn btn-mini btn-primary';\n",
       "    button.href = '#';\n",
       "    button.title = 'Stop Interaction';\n",
       "    button.innerHTML = '<i class=\"fa fa-power-off icon-remove icon-large\"></i>';\n",
       "    button.addEventListener('click', function (_evt) {\n",
       "        fig.handle_close(fig, {});\n",
       "    });\n",
       "    button.addEventListener(\n",
       "        'mouseover',\n",
       "        on_mouseover_closure('Stop Interaction')\n",
       "    );\n",
       "    buttongrp.appendChild(button);\n",
       "    var titlebar = this.root.querySelector('.ui-dialog-titlebar');\n",
       "    titlebar.insertBefore(buttongrp, titlebar.firstChild);\n",
       "};\n",
       "\n",
       "mpl.figure.prototype._remove_fig_handler = function (event) {\n",
       "    var fig = event.data.fig;\n",
       "    if (event.target !== this) {\n",
       "        // Ignore bubbled events from children.\n",
       "        return;\n",
       "    }\n",
       "    fig.close_ws(fig, {});\n",
       "};\n",
       "\n",
       "mpl.figure.prototype._root_extra_style = function (el) {\n",
       "    el.style.boxSizing = 'content-box'; // override notebook setting of border-box.\n",
       "};\n",
       "\n",
       "mpl.figure.prototype._canvas_extra_style = function (el) {\n",
       "    // this is important to make the div 'focusable\n",
       "    el.setAttribute('tabindex', 0);\n",
       "    // reach out to IPython and tell the keyboard manager to turn it's self\n",
       "    // off when our div gets focus\n",
       "\n",
       "    // location in version 3\n",
       "    if (IPython.notebook.keyboard_manager) {\n",
       "        IPython.notebook.keyboard_manager.register_events(el);\n",
       "    } else {\n",
       "        // location in version 2\n",
       "        IPython.keyboard_manager.register_events(el);\n",
       "    }\n",
       "};\n",
       "\n",
       "mpl.figure.prototype._key_event_extra = function (event, _name) {\n",
       "    var manager = IPython.notebook.keyboard_manager;\n",
       "    if (!manager) {\n",
       "        manager = IPython.keyboard_manager;\n",
       "    }\n",
       "\n",
       "    // Check for shift+enter\n",
       "    if (event.shiftKey && event.which === 13) {\n",
       "        this.canvas_div.blur();\n",
       "        // select the cell after this one\n",
       "        var index = IPython.notebook.find_cell_index(this.cell_info[0]);\n",
       "        IPython.notebook.select(index + 1);\n",
       "    }\n",
       "};\n",
       "\n",
       "mpl.figure.prototype.handle_save = function (fig, _msg) {\n",
       "    fig.ondownload(fig, null);\n",
       "};\n",
       "\n",
       "mpl.find_output_cell = function (html_output) {\n",
       "    // Return the cell and output element which can be found *uniquely* in the notebook.\n",
       "    // Note - this is a bit hacky, but it is done because the \"notebook_saving.Notebook\"\n",
       "    // IPython event is triggered only after the cells have been serialised, which for\n",
       "    // our purposes (turning an active figure into a static one), is too late.\n",
       "    var cells = IPython.notebook.get_cells();\n",
       "    var ncells = cells.length;\n",
       "    for (var i = 0; i < ncells; i++) {\n",
       "        var cell = cells[i];\n",
       "        if (cell.cell_type === 'code') {\n",
       "            for (var j = 0; j < cell.output_area.outputs.length; j++) {\n",
       "                var data = cell.output_area.outputs[j];\n",
       "                if (data.data) {\n",
       "                    // IPython >= 3 moved mimebundle to data attribute of output\n",
       "                    data = data.data;\n",
       "                }\n",
       "                if (data['text/html'] === html_output) {\n",
       "                    return [cell, data, j];\n",
       "                }\n",
       "            }\n",
       "        }\n",
       "    }\n",
       "};\n",
       "\n",
       "// Register the function which deals with the matplotlib target/channel.\n",
       "// The kernel may be null if the page has been refreshed.\n",
       "if (IPython.notebook.kernel !== null) {\n",
       "    IPython.notebook.kernel.comm_manager.register_target(\n",
       "        'matplotlib',\n",
       "        mpl.mpl_figure_comm\n",
       "    );\n",
       "}\n"
      ],
      "text/plain": [
       "<IPython.core.display.Javascript object>"
      ]
     },
     "metadata": {},
     "output_type": "display_data"
    },
    {
     "data": {
      "text/html": [
       "<img src=\"data:image/png;base64,iVBORw0KGgoAAAANSUhEUgAABaAAAAWgCAYAAACooOTIAAAgAElEQVR4XuzYMREAAAgDMerfNCp+CwI65Jh+5wgQIECAAAECBAgQIECAAAECBAgQIECAQCCwYNMkAQIECBAgQIAAAQIECBAgQIAAAQIECBA4AdoTECBAgAABAgQIECBAgAABAgQIECBAgEAiIEAnrEYJECBAgAABAgQIECBAgAABAgQIECBAQID2AwQIECBAgAABAgQIECBAgAABAgQIECCQCAjQCatRAgQIECBAgAABAgQIECBAgAABAgQIEBCg/QABAgQIECBAgAABAgQIECBAgAABAgQIJAICdMJqlAABAgQIECBAgAABAgQIECBAgAABAgQEaD9AgAABAgQIECBAgAABAgQIECBAgAABAomAAJ2wGiVAgAABAgQIECBAgAABAgQIECBAgAABAdoPECBAgAABAgQIECBAgAABAgQIECBAgEAiIEAnrEYJECBAgAABAgQIECBAgAABAgQIECBAQID2AwQIECBAgAABAgQIECBAgAABAgQIECCQCAjQCatRAgQIECBAgAABAgQIECBAgAABAgQIEBCg/QABAgQIECBAgAABAgQIECBAgAABAgQIJAICdMJqlAABAgQIECBAgAABAgQIECBAgAABAgQEaD9AgAABAgQIECBAgAABAgQIECBAgAABAomAAJ2wGiVAgAABAgQIECBAgAABAgQIECBAgAABAdoPECBAgAABAgQIECBAgAABAgQIECBAgEAiIEAnrEYJECBAgAABAgQIECBAgAABAgQIECBAQID2AwQIECBAgAABAgQIECBAgAABAgQIECCQCAjQCatRAgQIECBAgAABAgQIECBAgAABAgQIEBCg/QABAgQIECBAgAABAgQIECBAgAABAgQIJAICdMJqlAABAgQIECBAgAABAgQIECBAgAABAgQEaD9AgAABAgQIECBAgAABAgQIECBAgAABAomAAJ2wGiVAgAABAgQIECBAgAABAgQIECBAgAABAdoPECBAgAABAgQIECBAgAABAgQIECBAgEAiIEAnrEYJECBAgAABAgQIECBAgAABAgQIECBAQID2AwQIECBAgAABAgQIECBAgAABAgQIECCQCAjQCatRAgQIECBAgAABAgQIECBAgAABAgQIEBCg/QABAgQIECBAgAABAgQIECBAgAABAgQIJAICdMJqlAABAgQIECBAgAABAgQIECBAgAABAgQEaD9AgAABAgQIECBAgAABAgQIECBAgAABAomAAJ2wGiVAgAABAgQIECBAgAABAgQIECBAgAABAdoPECBAgAABAgQIECBAgAABAgQIECBAgEAiIEAnrEYJECBAgAABAgQIECBAgAABAgQIECBAQID2AwQIECBAgAABAgQIECBAgAABAgQIECCQCAjQCatRAgQIECBAgAABAgQIECBAgAABAgQIEBCg/QABAgQIECBAgAABAgQIECBAgAABAgQIJAICdMJqlAABAgQIECBAgAABAgQIECBAgAABAgQEaD9AgAABAgQIECBAgAABAgQIECBAgAABAomAAJ2wGiVAgAABAgQIECBAgAABAgQIECBAgAABAdoPECBAgAABAgQIECBAgAABAgQIECBAgEAiIEAnrEYJECBAgAABAgQIECBAgAABAgQIECBAQID2AwQIECBAgAABAgQIECBAgAABAgQIECCQCAjQCatRAgQIECBAgAABAgQIECBAgAABAgQIEBCg/QABAgQIECBAgAABAgQIECBAgAABAgQIJAICdMJqlAABAgQIECBAgAABAgQIECBAgAABAgQEaD9AgAABAgQIECBAgAABAgQIECBAgAABAomAAJ2wGiVAgAABAgQIECBAgAABAgQIECBAgAABAdoPECBAgAABAgQIECBAgAABAgQIECBAgEAiIEAnrEYJECBAgAABAgQIECBAgAABAgQIECBAQID2AwQIECBAgAABAgQIECBAgAABAgQIECCQCAjQCatRAgQIECBAgAABAgQIECBAgAABAgQIEBCg/QABAgQIECBAgAABAgQIECBAgAABAgQIJAICdMJqlAABAgQIECBAgAABAgQIECBAgAABAgQEaD9AgAABAgQIECBAgAABAgQIECBAgAABAomAAJ2wGiVAgAABAgQIECBAgAABAgQIECBAgAABAdoPECBAgAABAgQIECBAgAABAgQIECBAgEAiIEAnrEYJECBAgAABAgQIECBAgAABAgQIECBAQID2AwQIECBAgAABAgQIECBAgAABAgQIECCQCAjQCatRAgQIECBAgAABAgQIECBAgAABAgQIEBCg/QABAgQIECBAgAABAgQIECBAgAABAgQIJAICdMJqlAABAgQIECBAgAABAgQIECBAgAABAgQEaD9AgAABAgQIECBAgAABAgQIECBAgAABAomAAJ2wGiVAgAABAgQIECBAgAABAgQIECBAgAABAdoPECBAgAABAgQIECBAgAABAgQIECBAgEAiIEAnrEYJECBAgAABAgQIECBAgAABAgQIECBAQID2AwQIECBAgAABAgQIECBAgAABAgQIECCQCAjQCatRAgQIECBAgAABAgQIECBAgAABAgQIEBCg/QABAgQIECBAgAABAgQIECBAgAABAgQIJAICdMJqlAABAgQIECBAgAABAgQIECBAgAABAgQEaD9AgAABAgQIECBAgAABAgQIECBAgAABAomAAJ2wGiVAgAABAgQIECBAgAABAgQIECBAgAABAdoPECBAgAABAgQIECBAgAABAgQIECBAgEAiIEAnrEYJECBAgAABAgQIECBAgAABAgQIECBAQID2AwQIECBAgAABAgQIECBAgAABAgQIECCQCAjQCatRAgQIECBAgAABAgQIECBAgAABAgQIEBCg/QABAgQIECBAgAABAgQIECBAgAABAgQIJAICdMJqlAABAgQIECBAgAABAgQIECBAgAABAgQEaD9AgAABAgQIECBAgAABAgQIECBAgAABAomAAJ2wGiVAgAABAgQIECBAgAABAgQIECBAgAABAdoPECBAgAABAgQIECBAgAABAgQIECBAgEAiIEAnrEYJECBAgAABAgQIECBAgAABAgQIECBAQID2AwQIECBAgAABAgQIECBAgAABAgQIECCQCAjQCatRAgQIECBAgAABAgQIECBAgAABAgQIEBCg/QABAgQIECBAgAABAgQIECBAgAABAgQIJAICdMJqlAABAgQIECBAgAABAgQIECBAgAABAgQEaD9AgAABAgQIECBAgAABAgQIECBAgAABAomAAJ2wGiVAgAABAgQIECBAgAABAgQIECBAgAABAdoPECBAgAABAgQIECBAgAABAgQIECBAgEAiIEAnrEYJECBAgAABAgQIECBAgAABAgQIECBAQID2AwQIECBAgAABAgQIECBAgAABAgQIECCQCAjQCatRAgQIECBAgAABAgQIECBAgAABAgQIEBCg/QABAgQIECBAgAABAgQIECBAgAABAgQIJAICdMJqlAABAgQIECBAgAABAgQIECBAgAABAgQEaD9AgAABAgQIECBAgAABAgQIECBAgAABAomAAJ2wGiVAgAABAgQIECBAgAABAgQIECBAgAABAdoPECBAgAABAgQIECBAgAABAgQIECBAgEAiIEAnrEYJECBAgAABAgQIECBAgAABAgQIECBAQID2AwQIECBAgAABAgQIECBAgAABAgQIECCQCAjQCatRAgQIECBAgAABAgQIECBAgAABAgQIEBCg/QABAgQIECBAgAABAgQIECBAgAABAgQIJAICdMJqlAABAgQIECBAgAABAgQIECBAgAABAgQEaD9AgAABAgQIECBAgAABAgQIECBAgAABAomAAJ2wGiVAgAABAgQIECBAgAABAgQIECBAgAABAdoPECBAgAABAgQIECBAgAABAgQIECBAgEAiIEAnrEYJECBAgAABAgQIECBAgAABAgQIECBAQID2AwQIECBAgAABAgQIECBAgAABAgQIECCQCAjQCatRAgQIECBAgAABAgQIECBAgAABAgQIEBCg/QABAgQIECBAgAABAgQIECBAgAABAgQIJAICdMJqlAABAgQIECBAgAABAgQIECBAgAABAgQEaD9AgAABAgQIECBAgAABAgQIECBAgAABAomAAJ2wGiVAgAABAgQIECBAgAABAgQIECBAgAABAdoPECBAgAABAgQIECBAgAABAgQIECBAgEAiIEAnrEYJECBAgAABAgQIECBAgAABAgQIECBAQID2AwQIECBAgAABAgQIECBAgAABAgQIECCQCAjQCatRAgQIECBAgAABAgQIECBAgAABAgQIEBCg/QABAgQIECBAgAABAgQIECBAgAABAgQIJAICdMJqlAABAgQIECBAgAABAgQIECBAgAABAgQEaD9AgAABAgQIECBAgAABAgQIECBAgAABAomAAJ2wGiVAgAABAgQIECBAgAABAgQIECBAgAABAdoPECBAgAABAgQIECBAgAABAgQIECBAgEAiIEAnrEYJECBAgAABAgQIECBAgAABAgQIECBAQID2AwQIECBAgAABAgQIECBAgAABAgQIECCQCAjQCatRAgQIECBAgAABAgQIECBAgAABAgQIEBCg/QABAgQIECBAgAABAgQIECBAgAABAgQIJAICdMJqlAABAgQIECBAgAABAgQIECBAgAABAgQEaD9AgAABAgQIECBAgAABAgQIECBAgAABAomAAJ2wGiVAgAABAgQIECBAgAABAgQIECBAgAABAdoPECBAgAABAgQIECBAgAABAgQIECBAgEAiIEAnrEYJECBAgAABAgQIECBAgAABAgQIECBAQID2AwQIECBAgAABAgQIECBAgAABAgQIECCQCAjQCatRAgQIECBAgAABAgQIECBAgAABAgQIEBCg/QABAgQIECBAgAABAgQIECBAgAABAgQIJAICdMJqlAABAgQIECBAgAABAgQIECBAgAABAgQEaD9AgAABAgQIECBAgAABAgQIECBAgAABAomAAJ2wGiVAgAABAgQIECBAgAABAgQIECBAgAABAdoPECBAgAABAgQIECBAgAABAgQIECBAgEAiIEAnrEYJECBAgAABAgQIECBAgAABAgQIECBAQID2AwQIECBAgAABAgQIECBAgAABAgQIECCQCAjQCatRAgQIECBAgAABAgQIECBAgAABAgQIEBCg/QABAgQIECBAgAABAgQIECBAgAABAgQIJAICdMJqlAABAgQIECBAgAABAgQIECBAgAABAgQEaD9AgAABAgQIECBAgAABAgQIECBAgAABAomAAJ2wGiVAgAABAgQIECBAgAABAgQIECBAgAABAdoPECBAgAABAgQIECBAgAABAgQIECBAgEAiIEAnrEYJECBAgAABAgQIECBAgAABAgQIECBAQID2AwQIECBAgAABAgQIECBAgAABAgQIECCQCAjQCatRAgQIECBAgAABAgQIECBAgAABAgQIEBCg/QABAgQIECBAgAABAgQIECBAgAABAgQIJAICdMJqlAABAgQIECBAgAABAgQIECBAgAABAgQEaD9AgAABAgQIECBAgAABAgQIECBAgAABAomAAJ2wGiVAgAABAgQIECBAgAABAgQIECBAgAABAdoPECBAgAABAgQIECBAgAABAgQIECBAgEAiIEAnrEYJECBAgAABAgQIECBAgAABAgQIECBAQID2AwQIECBAgAABAgQIECBAgAABAgQIECCQCAjQCatRAgQIECBAgAABAgQIECBAgAABAgQIEBCg/QABAgQIECBAgAABAgQIECBAgAABAgQIJAICdMJqlAABAgQIECBAgAABAgQIECBAgAABAgQEaD9AgAABAgQIECBAgAABAgQIECBAgAABAomAAJ2wGiVAgAABAgQIECBAgAABAgQIECBAgAABAdoPECBAgAABAgQIECBAgAABAgQIECBAgEAiIEAnrEYJECBAgAABAgQIECBAgAABAgQIECBAQID2AwQIECBAgAABAgQIECBAgAABAgQIECCQCAjQCatRAgQIECBAgAABAgQIECBAgAABAgQIEBCg/QABAgQIECBAgAABAgQIECBAgAABAgQIJAICdMJqlAABAgQIECBAgAABAgQIECBAgAABAgQEaD9AgAABAgQIECBAgAABAgQIECBAgAABAomAAJ2wGiVAgAABAgQIECBAgAABAgQIECBAgAABAdoPECBAgAABAgQIECBAgAABAgQIECBAgEAiIEAnrEYJECBAgAABAgQIECBAgAABAgQIECBAQID2AwQIECBAgAABAgQIECBAgAABAgQIECCQCAjQCatRAgQIECBAgAABAgQIECBAgAABAgQIEBCg/QABAgQIECBAgAABAgQIECBAgAABAgQIJAICdMJqlAABAgQIECBAgAABAgQIECBAgAABAgQEaD9AgAABAgQIECBAgAABAgQIECBAgAABAomAAJ2wGiVAgAABAgQIECBAgAABAgQIECBAgAABAdoPECBAgAABAgQIECBAgAABAgQIECBAgEAiIEAnrEYJECBAgAABAgQIECBAgAABAgQIECBAQID2AwQIECBAgAABAgQIECBAgAABAgQIECCQCAjQCatRAgQIECBAgAABAgQIECBAgAABAgQIEBCg/QABAgQIECBAgAABAgQIECBAgAABAgQIJAICdMJqlAABAgQIECBAgAABAgQIECBAgAABAgQEaD9AgAABAgQIECBAgAABAgQIECBAgAABAomAAJ2wGiVAgAABAgQIECBAgAABAgQIECBAgAABAdoPECBAgAABAgQIECBAgAABAgQIECBAgEAiIEAnrEYJECBAgAABAgQIECBAgAABAgQIECBAQID2AwQIECBAgAABAgQIECBAgAABAgQIECCQCAjQCatRAgQIECBAgAABAgQIECBAgAABAgQIEBCg/QABAgQIECBAgAABAgQIECBAgAABAgQIJAICdMJqlAABAgQIECBAgAABAgQIECBAgAABAgQEaD9AgAABAgQIECBAgAABAgQIECBAgAABAomAAJ2wGiVAgAABAgQIECBAgAABAgQIECBAgAABAdoPECBAgAABAgQIECBAgAABAgQIECBAgEAiIEAnrEYJECBAgAABAgQIECBAgAABAgQIECBAQID2AwQIECBAgAABAgQIECBAgAABAgQIECCQCAjQCatRAgQIECBAgAABAgQIECBAgAABAgQIEBCg/QABAgQIECBAgAABAgQIECBAgAABAgQIJAICdMJqlAABAgQIECBAgAABAgQIECBAgAABAgQEaD9AgAABAgQIECBAgAABAgQIECBAgAABAomAAJ2wGiVAgAABAgQIECBAgAABAgQIECBAgAABAdoPECBAgAABAgQIECBAgAABAgQIECBAgEAiIEAnrEYJECBAgAABAgQIECBAgAABAgQIECBAQID2AwQIECBAgAABAgQIECBAgAABAgQIECCQCAjQCatRAgQIECBAgAABAgQIECBAgAABAgQIEBCg/QABAgQIECBAgAABAgQIECBAgAABAgQIJAICdMJqlAABAgQIECBAgAABAgQIECBAgAABAgQEaD9AgAABAgQIECBAgAABAgQIECBAgAABAomAAJ2wGiVAgAABAgQIECBAgAABAgQIECBAgAABAdoPECBAgAABAgQIECBAgAABAgQIECBAgEAiIEAnrEYJECBAgAABAgQIECBAgAABAgQIECBAQID2AwQIECBAgAABAgQIECBAgAABAgQIECCQCAjQCatRAgQIECBAgAABAgQIECBAgAABAgQIEBCg/QABAgQIECBAgAABAgQIECBAgAABAgQIJAICdMJqlAABAgQIECBAgAABAgQIECBAgAABAgQEaD9AgAABAgQIECBAgAABAgQIECBAgAABAomAAJ2wGiVAgAABAgQIECBAgAABAgQIECBAgAABAdoPECBAgAABAgQIECBAgAABAgQIECBAgEAiIEAnrEYJECBAgAABAgQIECBAgAABAgQIECBAQID2AwQIECBAgAABAgQIECBAgAABAgQIECCQCAjQCatRAgQIECBAgAABAgQIECBAgAABAgQIEBCg/QABAgQIECBAgAABAgQIECBAgAABAgQIJAICdMJqlAABAgQIECBAgAABAgQIECBAgAABAgQEaD9AgAABAgQIECBAgAABAgQIECBAgAABAomAAJ2wGiVAgAABAgQIECBAgAABAgQIECBAgAABAdoPECBAgAABAgQIECBAgAABAgQIECBAgEAiIEAnrEYJECBAgAABAgQIECBAgAABAgQIECBAQID2AwQIECBAgAABAgQIECBAgAABAgQIECCQCAjQCatRAgQIECBAgAABAgQIECBAgAABAgQIEBCg/QABAgQIECBAgAABAgQIECBAgAABAgQIJAICdMJqlAABAgQIECBAgAABAgQIECBAgAABAgQEaD9AgAABAgQIECBAgAABAgQIECBAgAABAomAAJ2wGiVAgAABAgQIECBAgAABAgQIECBAgAABAdoPECBAgAABAgQIECBAgAABAgQIECBAgEAiIEAnrEYJECBAgAABAgQIECBAgAABAgQIECBAQID2AwQIECBAgAABAgQIECBAgAABAgQIECCQCAjQCatRAgQIECBAgAABAgQIECBAgAABAgQIEBCg/QABAgQIECBAgAABAgQIECBAgAABAgQIJAICdMJqlAABAgQIECBAgAABAgQIECBAgAABAgQEaD9AgAABAgQIECBAgAABAgQIECBAgAABAomAAJ2wGiVAgAABAgQIECBAgAABAgQIECBAgAABAdoPECBAgAABAgQIECBAgAABAgQIECBAgEAiIEAnrEYJECBAgAABAgQIECBAgAABAgQIECBAQID2AwQIECBAgAABAgQIECBAgAABAgQIECCQCAjQCatRAgQIECBAgAABAgQIECBAgAABAgQIEBCg/QABAgQIECBAgAABAgQIECBAgAABAgQIJAICdMJqlAABAgQIECBAgAABAgQIECBAgAABAgQEaD9AgAABAgQIECBAgAABAgQIECBAgAABAomAAJ2wGiVAgAABAgQIECBAgAABAgQIECBAgAABAdoPECBAgAABAgQIECBAgAABAgQIECBAgEAiIEAnrEYJECBAgAABAgQIECBAgAABAgQIECBAQID2AwQIECBAgAABAgQIECBAgAABAgQIECCQCAjQCatRAgQIECBAgAABAgQIECBAgAABAgQIEBCg/QABAgQIECBAgAABAgQIECBAgAABAgQIJAICdMJqlAABAgQIECBAgAABAgQIECBAgAABAgQEaD9AgAABAgQIECBAgAABAgQIECBAgAABAomAAJ2wGiVAgAABAgQIECBAgAABAgQIECBAgAABAdoPECBAgAABAgQIECBAgAABAgQIECBAgEAiIEAnrEYJECBAgAABAgQIECBAgAABAgQIECBAQID2AwQIECBAgAABAgQIECBAgAABAgQIECCQCAjQCatRAgQIECBAgAABAgQIECBAgAABAgQIEBCg/QABAgQIECBAgAABAgQIECBAgAABAgQIJAICdMJqlAABAgQIECBAgAABAgQIECBAgAABAgQEaD9AgAABAgQIECBAgAABAgQIECBAgAABAomAAJ2wGiVAgAABAgQIECBAgAABAgQIECBAgAABAdoPECBAgAABAgQIECBAgAABAgQIECBAgEAiIEAnrEYJECBAgAABAgQIECBAgAABAgQIECBAQID2AwQIECBAgAABAgQIECBAgAABAgQIECCQCAjQCatRAgQIECBAgAABAgQIECBAgAABAgQIEBCg/QABAgQIECBAgAABAgQIECBAgAABAgQIJAICdMJqlAABAgQIECBAgAABAgQIECBAgAABAgQEaD9AgAABAgQIECBAgAABAgQIECBAgAABAomAAJ2wGiVAgAABAgQIECBAgAABAgQIECBAgAABAdoPECBAgAABAgQIECBAgAABAgQIECBAgEAiIEAnrEYJECBAgAABAgQIECBAgAABAgQIECBAQID2AwQIECBAgAABAgQIECBAgAABAgQIECCQCAjQCatRAgQIECBAgAABAgQIECBAgAABAgQIEBCg/QABAgQIECBAgAABAgQIECBAgAABAgQIJAICdMJqlAABAgQIECBAgAABAgQIECBAgAABAgQEaD9AgAABAgQIECBAgAABAgQIECBAgAABAomAAJ2wGiVAgAABAgQIECBAgAABAgQIECBAgAABAdoPECBAgAABAgQIECBAgAABAgQIECBAgEAiIEAnrEYJECBAgAABAgQIECBAgAABAgQIECBAQID2AwQIECBAgAABAgQIECBAgAABAgQIECCQCAjQCatRAgQIECBAgAABAgQIECBAgAABAgQIEBCg/QABAgQIECBAgAABAgQIECBAgAABAgQIJAICdMJqlAABAgQIECBAgAABAgQIECBAgAABAgQEaD9AgAABAgQIECBAgAABAgQIECBAgAABAomAAJ2wGiVAgAABAgQIECBAgAABAgQIECBAgAABAdoPECBAgAABAgQIECBAgAABAgQIECBAgEAiIEAnrEYJECBAgAABAgQIECBAgAABAgQIECBAQID2AwQIECBAgAABAgQIECBAgAABAgQIECCQCAjQCatRAgQIECBAgAABAgQIECBAgAABAgQIEBCg/QABAgQIECBAgAABAgQIECBAgAABAgQIJAICdMJqlAABAgQIECBAgAABAgQIECBAgAABAgQEaD9AgAABAgQIECBAgAABAgQIECBAgAABAomAAJ2wGiVAgAABAgQIECBAgAABAgQIECBAgAABAdoPECBAgAABAgQIEJOrRUIAACAASURBVCBAgAABAgQIECBAgEAiIEAnrEYJECBAgAABAgQIECBAgAABAgQIECBAQID2AwQIECBAgAABAgQIECBAgAABAgQIECCQCAjQCatRAgQIECBAgAABAgQIECBAgAABAgQIEBCg/QABAgQIECBAgAABAgQIECBAgAABAgQIJAICdMJqlAABAgQIECBAgAABAgQIECBAgAABAgQEaD9AgAABAgQIECBAgAABAgQIECBAgAABAomAAJ2wGiVAgAABAgQIECBAgAABAgQIECBAgAABAdoPECBAgAABAgQIECBAgAABAgQIECBAgEAiIEAnrEYJECBAgAABAgQIECBAgAABAgQIECBAQID2AwQIECBAgAABAgQIECBAgAABAgQIECCQCAjQCatRAgQIECBAgAABAgQIECBAgAABAgQIEBCg/QABAgQIECBAgAABAgQIECBAgAABAgQIJAICdMJqlAABAgQIECBAgAABAgQIECBAgAABAgQEaD9AgAABAgQIECBAgAABAgQIECBAgAABAomAAJ2wGiVAgAABAgQIECBAgAABAgQIECBAgAABAdoPECBAgAABAgQIECBAgAABAgQIECBAgEAiIEAnrEYJECBAgAABAgQIECBAgAABAgQIECBAQID2AwQIECBAgAABAgQIECBAgAABAgQIECCQCAjQCatRAgQIECBAgAABAgQIECBAgAABAgQIEBCg/QABAgQIECBAgAABAgQIECBAgAABAgQIJAICdMJqlAABAgQIECBAgAABAgQIECBAgAABAgQEaD9AgAABAgQIECBAgAABAgQIECBAgAABAomAAJ2wGiVAgAABAgQIECBAgAABAgQIECBAgAABAdoPECBAgAABAgQIECBAgAABAgQIECBAgEAiIEAnrEYJECBAgAABAgQIECBAgAABAgQIECBAQID2AwQIECBAgAABAgQIECBAgAABAgQIECCQCAjQCatRAgQIECBAgAABAgQIECBAgAABAgQIEBCg/QABAgQIECBAgAABAgQIECBAgAABAgQIJAICdMJqlAABAgQIECBAgAABAgQIECBAgAABAgQEaD9AgAABAgQIECBAgAABAgQIECBAgAABAomAAJ2wGiVAgAABAgQIECBAgAABAgQIECBAgAABAdoPECBAgAABAgQIECBAgAABAgQIECBAgEAiIEAnrEYJECBAgAABAgQIECBAgAABAgQIECBAQID2AwQIECBAgAABAgQIECBAgAABAgQIECCQCAjQCatRAgQIECBAgAABAgQIECBAgAABAgQIEBCg/QABAgQIECBAgAABAgQIECBAgAABAgQIJAICdMJqlAABAgQIECBAgAABAgQIECBAgAABAgQEaD9AgAABAgQIECBAgAABAgQIECBAgAABAomAAJ2wGiVAgAABAgQIECBAgAABAgQIECBAgAABAdoPECBAgAABAgQIECBAgAABAgQIECBAgEAiIEAnrEYJECBAgAABAgQIECBAgAABAgQIECBAQID2AwQIECBAgAABAgQIECBAgAABAgQIECCQCAjQCatRAgQIECBAgAABAgQIECBAgAABAgQIEBCg/QABAgQIECBAgAABAgQIECBAgAABAgQIJAICdMJqlAABAgQIECBAgAABAgQIECBAgAABAgQEaD9AgAABAgQIECBAgAABAgQIECBAgAABAomAAJ2wGiVAgAABAgQIECBAgAABAgQIECBAgAABAdoPECBAgAABAgQIECBAgAABAgQIECBAgEAiIEAnrEYJECBAgAABAgQIECBAgAABAgQIECBAQID2AwQIECBAgAABAgQIECBAgAABAgQIECCQCAjQCatRAgQIECBAgAABAgQIECBAgAABAgQIEBCg/QABAgQIECBAgAABAgQIECBAgAABAgQIJAICdMJqlAABAgQIECBAgAABAgQIECBAgAABAgQEaD9AgAABAgQIECBAgAABAgQIECBAgAABAomAAJ2wGiVAgAABAgQIECBAgAABAgQIECBAgAABAdoPECBAgAABAgQIECBAgAABAgQIECBAgEAiIEAnrEYJECBAgAABAgQIECBAgAABAgQIECBAQID2AwQIECBAgAABAgQIECBAgAABAgQIECCQCAjQCatRAgQIECBAgAABAgQIECBAgAABAgQIEBCg/QABAgQIECBAgAABAgQIECBAgAABAgQIJAICdMJqlAABAgQIECBAgAABAgQIECBAgAABAgQEaD9AgAABAgQIECBAgAABAgQIECBAgAABAomAAJ2wGiVAgAABAgQIECBAgAABAgQIECBAgAABAdoPECBAgAABAgQIECBAgAABAgQIECBAgEAiIEAnrEYJECBAgAABAgQIECBAgAABAgQIECBAQID2AwQIECBAgAABAgQIECBAgAABAgQIECCQCAjQCatRAgQIECBAgAABAgQIECBAgAABAgQIEBCg/QABAgQIECBAgAABAgQIECBAgAABAgQIJAICdMJqlAABAgQIECBAgAABAgQIECBAgAABAgQEaD9AgAABAgQIECBAgAABAgQIECBAgAABAomAAJ2wGiVAgAABAgQIECBAgAABAgQIECBAgAABAdoPECBAgAABAgQIECBAgAABAgQIECBAgEAiIEAnrEYJECBAgAABAgQIECBAgAABAgQIECBAQID2AwQIECBAgAABAgQIECBAgAABAgQIECCQCAjQCatRAgQIECBAgAABAgQIECBAgAABAgQIEBCg/QABAgQIECBAgAABAgQIECBAgAABAgQIJAICdMJqlAABAgQIECBAgAABAgQIECBAgAABAgQEaD9AgAABAgQIECBAgAABAgQIECBAgAABAomAAJ2wGiVAgAABAgQIECBAgAABAgQIECBAgAABAdoPECBAgAABAgQIECBAgAABAgQIECBAgEAiIEAnrEYJECBAgAABAgQIECBAgAABAgQIECBAQID2AwQIECBAgAABAgQIECBAgAABAgQIECCQCAjQCatRAgQIECBAgAABAgQIECBAgAABAgQIEBCg/QABAgQIECBAgAABAgQIECBAgAABAgQIJAICdMJqlAABAgQIECBAgAABAgQIECBAgAABAgQEaD9AgAABAgQIECBAgAABAgQIECBAgAABAomAAJ2wGiVAgAABAgQIECBAgAABAgQIECBAgAABAdoPECBAgAABAgQIECBAgAABAgQIECBAgEAiIEAnrEYJECBAgAABAgQIECBAgAABAgQIECBAQID2AwQIECBAgAABAgQIECBAgAABAgQIECCQCAjQCatRAgQIECBAgAABAgQIECBAgAABAgQIEBCg/QABAgQIECBAgAABAgQIECBAgAABAgQIJAICdMJqlAABAgQIECBAgAABAgQIECBAgAABAgQEaD9AgAABAgQIECBAgAABAgQIECBAgAABAomAAJ2wGiVAgAABAgQIECBAgAABAgQIECBAgAABAdoPECBAgAABAgQIECBAgAABAgQIECBAgEAiIEAnrEYJECBAgAABAgQIECBAgAABAgQIECBAQID2AwQIECBAgAABAgQIECBAgAABAgQIECCQCAjQCatRAgQIECBAgAABAgQIECBAgAABAgQIEBCg/QABAgQIECBAgAABAgQIECBAgAABAgQIJAICdMJqlAABAgQIECBAgAABAgQIECBAgAABAgQEaD9AgAABAgQIECBAgAABAgQIECBAgAABAomAAJ2wGiVAgAABAgQIECBAgAABAgQIECBAgAABAdoPECBAgAABAgQIECBAgAABAgQIECBAgEAiIEAnrEYJECBAgAABAgQIECBAgAABAgQIECBAQID2AwQIECBAgAABAgQIECBAgAABAgQIECCQCAjQCatRAgQIECBAgAABAgQIECBAgAABAgQIEBCg/QABAgQIECBAgAABAgQIECBAgAABAgQIJAICdMJqlAABAgQIECBAgAABAgQIECBAgAABAgQEaD9AgAABAgQIECBAgAABAgQIECBAgAABAomAAJ2wGiVAgAABAgQIECBAgAABAgQIECBAgAABAdoPECBAgAABAgQIECBAgAABAgQIECBAgEAiIEAnrEYJECBAgAABAgQIECBAgAABAgQIECBAQID2AwQIECBAgAABAgQIECBAgAABAgQIECCQCAjQCatRAgQIECBAgAABAgQIECBAgAABAgQIEBCg/QABAgQIECBAgAABAgQIECBAgAABAgQIJAICdMJqlAABAgQIECBAgAABAgQIECBAgAABAgQEaD9AgAABAgQIECBAgAABAgQIECBAgAABAomAAJ2wGiVAgAABAgQIECBAgAABAgQIECBAgAABAdoPECBAgAABAgQIECBAgAABAgQIECBAgEAiIEAnrEYJECBAgAABAgQIECBAgAABAgQIECBAQID2AwQIECBAgAABAgQIECBAgAABAgQIECCQCAjQCatRAgQIECBAgAABAgQIECBAgAABAgQIEBCg/QABAgQIECBAgAABAgQIECBAgAABAgQIJAICdMJqlAABAgQIECBAgAABAgQIECBAgAABAgQEaD9AgAABAgQIECBAgAABAgQIECBAgAABAomAAJ2wGiVAgAABAgQIECBAgAABAgQIECBAgAABAdoPECBAgAABAgQIECBAgAABAgQIECBAgEAiIEAnrEYJECBAgAABAgQIECBAgAABAgQIECBAQID2AwQIECBAgAABAgQIECBAgAABAgQIECCQCAjQCatRAgQIECBAgAABAgQIECBAgAABAgQIEBCg/QABAgQIECBAgAABAgQIECBAgAABAgQIJAICdMJqlAABAgQIECBAgAABAgQIECBAgAABAgQEaD9AgAABAgQIECBAgAABAgQIECBAgAABAomAAJ2wGiVAgAABAgQIECBAgAABAgQIECBAgAABAdoPECBAgAABAgQIECBAgAABAgQIECBAgEAiIEAnrEYJECBAgAABAgQIECBAgAABAgQIECBAQID2AwQIECBAgAABAgQIECBAgAABAgQIECCQCAjQCatRAgQIECBAgAABAgQIECBAgAABAgQIEBCg/QABAgQIECBAgAABAgQIECBAgAABAgQIJAICdMJqlAABAgQIECBAgAABAgQIECBAgAABAgQEaD9AgAABAgQIECBAgAABAgQIECBAgAABAomAAJ2wGiVAgAABAgQIECBAgAABAgQIECBAgAABAdoPECBAgAABAgQIECBAgAABAgQIECBAgEAiIEAnrEYJECBAgAABAgQIECBAgAABAgQIECBAQID2AwQIECBAgAABAgQIECBAgAABAgQIECCQCAjQCatRAgQIECBAgAABAgQIECBAgAABAgQIEBCg/QABAgQIECBAgAABAgQIECBAgAABAgQIJAICdMJqlAABAgQIECBAgAABAgQIECBAgAABAgQEaD9AgAABAgQIECBAgAABAgQIECBAgAABAomAAJ2wGiVAgAABAgQIECBAgAABAgQIECBAgAABAdoPECBAgAABAgQIECBAgAABAgQIECBAgEAiIEAnrEYJECBAgAABAgQIECBAgAABAgQIECBAQID2AwQIECBAgAABAgQIECBAgAABAgQIECCQCAjQCatRAgQIECBAgAABAgQIECBAgAABAgQIEBCg/QABAgQIECBAgAABAgQIECBAgAABAgQIJAICdMJqlAABAgQIECBAgAABAgQIECBAgAABAgQEaD9AgAABAgQIECBAgAABAgQIECBAgAABAomAAJ2wGiVAgAABAgQIECBAgAABAgQIECBAgAABAdoPECBAgAABAgQIECBAgAABAgQIECBAgEAiIEAnrEYJECBAgAABAgQIECBAgAABAgQIECBAQID2AwQIECBAgAABAgQIECBAgAABAgQIECCQCAjQCatRAgQIECBAgAABAgQIECBAgAABAgQIEBCg/QABAgQIECBAgAABAgQIECBAgAABAgQIJAICdMJqlAABAgQIECBAgAABAgQIECBAgAABAgQEaD9AgAABAgQIECBAgAABAgQIECBAgAABAomAAJ2wGiVAgAABAgQIECBAgAABAgQIECBAgAABAdoPECBAgAABAgQIECBAgAABAgQIECBAgEAiIEAnrEYJECBAgAABAgQIECBAgAABAgQIECBAQID2AwQIECBAgAABAgQIECBAgAABAgQIECCQCAjQCatRAgQIECBAgAABAgQIECBAgAABAgQIEBCg/QABAgQIECBAgAABAgQIECBAgAABAgQIJAICdMJqlAABAgQIECBAgAABAgQIECBAgAABAgQEaD9AgAABAgQIECBAgAABAgQIECBAgAABAomAAJ2wGiVAgAABAgQIECBAgAABAgQIECBAgAABAdoPECBAgAABAgQIECBAgAABAgQIECBAgEAiIEAnrEYJECBAgAABAgQIECBAgAABAgQIECBAQID2AwQIECBAgAABAgQIECBAgAABAgQIECCQCAjQCatRAgQIECBAgAABAgQIECBAgAABAgQIEBCg/QABAgQIECBAgAABAgQIECBAgAABAgQIJAICdMJqlAABAgQIECBAgAABAgQIECBAgAABAgQEaD9AgAABAgQIECBAgAABAgQIECBAgAABAomAAJ2wGiVAgAABAgQIECBAgAABAgQIECBAgAABAdoPECBAgAABAgQIECBAgAABAgQIECBAgEAiIEAnrEYJECBAgAABAgQIECBAgAABAgQIECBAQID2AwQIECBAgAABAgQIECBAgAABAgQIECCQCAjQCatRAgQIECBAgAABAgQIECBAgAABAgQIEBCg/QABAgQIECBAgAABAgQIECBAgAABAgQIJAICdMJqlAABAgQIECBAgAABAgQIECBAgAABAgQEaD9AgAABAgQIECBAgAABAgQIECBAgAABAomAAJ2wGiVAgAABAgQIECBAgAABAgQIECBAgAABAdoPECBAgAABAgQIECBAgAABAgQIECBAgEAiIEAnrEYJECBAgAABAgQIECBAgAABAgQIECBAQID2AwQIECBAgAABAgQIECBAgAABAgQIECCQCAjQCatRAgQIECBAgAABAgQIECBAgAABAgQIEBCg/QABAgQIECBAgAABAgQIECBAgAABAgQIJAICdMJqlAABAgQIECBAgAABAgQIECBAgAABAgQEaD9AgAABAgQIECBAgAABAgQIECBAgAABAomAAJ2wGiVAgAABAgQIECBAgAABAgQIECBAgAABAdoPECBAgAABAgQIECBAgAABAgQIECBAgEAiIEAnrEYJECBAgAABAgQIECBAgAABAgQIECBAQID2AwQIECBAgAABAgQIECBAgAABAgQIECCQCAjQCatRAgQIECBAgAABAgQIECBAgAABAgQIEBCg/QABAgQIECBAgAABAgQIECBAgAABAgQIJAICdMJqlAABAgQIECBAgAABAgQIECBAgAABAgQEaD9AgAABAgQIECBAgAABAgQIECBAgAABAomAAJ2wGiVAgAABAgQIECBAgAABAgQIECBAgAABAdoPECBAgAABAgQIECBAgAABAgQIECBAgEAiIEAnrEYJECBAgAABAgQIECBAgAABAgQIECBAQID2AwQIECBAgAABAgQIECBAgAABAgQIECCQCAjQCatRAgQIECBAgAABAgQIECBAgAABAgQIEBCg/QABAgQIECBAgAABAgQIECBAgAABAgQIJAICdMJqlAABAgQIECBAgAABAgQIECBAgAABAgQEaD9AgAABAgQIECBAgAABAgQIECBAgAABAomAAJ2wGiVAgAABAgQIECBAgAABAgQIECBAgAABAdoPECBAgAABAgQIECBAgAABAgQIECBAgEAiIEAnrEYJECBAgAABAgQIECBAgAABAgQIECBAQID2AwQIECBAgAABAgQIECBAgAABAgQIECCQCAjQCatRAgQIECBAgAABAgQIECBAgAABAgQIEBCg/QABAgQIECBAgAABAgQIECBAgAABAgQIJAICdMJqlAABAgQIECBAgAABAgQIECBAgAABAgQEaD9AgAABAgQIECBAgAABAgQIECBAgAABAomAAJ2wGiVAgAABAgQIECBAgAABAgQIECBAgAABAdoPECBAgAABAgQIECBAgAABAgQIECBAgEAiIEAnrEYJECBAgAABAgQIECBAgAABAgQIECBAQID2AwQIECBAgAABAgQIECBAgAABAgQIECCQCAjQCatRAgQIECBAgAABAgQIECBAgAABAgQIEBCg/QABAgQIECBAgAABAgQIECBAgAABAgQIJAICdMJqlAABAgQIECBAgAABAgQIECBAgAABAgQEaD9AgAABAgQIECBAgAABAgQIECBAgAABAomAAJ2wGiVAgAABAgQIECBAgAABAgQIECBAgAABAdoPECBAgAABAgQIECBAgAABAgQIECBAgEAiIEAnrEYJECBAgAABAgQIECBAgAABAgQIECBAQID2AwQIECBAgAABAgQIECBAgAABAgQIECCQCAjQCatRAgQIECBAgAABAgQIECBAgAABAgQIEBCg/QABAgQIECBAgAABAgQIECBAgAABAgQIJAICdMJqlAABAgQIECBAgAABAgQIECBAgAABAgQEaD9AgAABAgQIECBAgAABAgQIECBAgAABAomAAJ2wGiVAgAABAgQIECBAgAABAgQIECBAgAABAdoPECBAgAABAgQIECBAgAABAgQIECBAgEAiIEAnrEYJECBAgAABAgQIECBAgAABAgQIECBAQID2AwQIECBAgAABAgQIECBAgAABAgQIECCQCAjQCatRAgQIECBAgAABAgQIECBAgAABAgQIEBCg/QABAgQIECBAgAABAgQIECBAgAABAgQIJAICdMJqlAABAgQIECBAgAABAgQIECBAgAABAgQEaD9AgAABAgQIECBAgAABAgQIECBAgAABAomAAJ2wGiVAgAABAgQIECBAgAABAgQIECBAgAABAdoPECBAgAABAgQIECBAgAABAgQIECBAgEAiIEAnrEYJECBAgAABAgQIECBAgAABAgQIECBAQID2AwQIECBAgAABAgQIECBAgAABAgQIECCQCAjQCatRAgQIECBAgAABAgQIECBAgAABAgQIEBCg/QABAgQIECBAgAABAgQIECBAgAABAgQIJAICdMJqlAABAgQIECBAgAABAgQIECBAgAABAgQEaD9AgAABAgQIECBAgAABAgQIECBAgAABAomAAJ2wGiVAgAABAgQIECBAgAABAgQIECBAgAABAdoPECBAgAABAgQIECBAgAABAgQIECBAgEAiIEAnrEYJECBAgAABAgQIECBAgAABAgQIECBAQID2AwQIECBAgAABAgQIECBAgAABAgQIECCQCAjQCatRAgQIECBAgAABAgQIECBAgAABAgQIEBCg/QABAgQIECBAgAABAgQIECBAgAABAgQIJAICdMJqlAABAgQIECBAgAABAgQIECBAgAABAgQEaD9AgAABAgQIECBAgAABAgQIECBAgAABAomAAJ2wGiVAgAABAgQIECBAgAABAgQIECBAgAABAdoPECBAgAABAgQIECBAgAABAgQIECBAgEAiIEAnrEYJECBAgAABAgQIECBAgAABAgQIECBAQID2AwQIECBAgAABAgQIECBAgAABAgQIECCQCAjQCatRAgQIECBAgAABAgQIECBAgAABAgQIEBCg/QABAgQIECBAgAABAgQIECBAgAABAgQIJAICdMJqlAABAgQIECBAgAABAgQIECBAgAABAgQEaD9AgAABAgQIECBAgAABAgQIECBAgAABAomAAJ2wGiVAgAABAgQIECBAgAABAgQIECBAgAABAdoPECBAgAABAgQIECBAgAABAgQIECBAgEAiIEAnrEYJECBAgAABAgQIECBAgAABAgQIECBAQID2AwQIECBAgAABAgQIECBAgAABAgQIECCQCAjQCatRAgQIECBAgAABAgQIECBAgAABAgQIEBCg/QABAgQIECBAgAABAgQIECBAgAABAgQIJAICdMJqlAABAgQIECBAgAABAgQIECBAgAABAgQEaD9AgAABAgQIECBAgAABAgQIECBAgAABAomAAJ2wGiVAgAABAgQIECBAgAABAgQIECBAgAABAdoPECBAgAABAgQIECBAgAABAgQIECBAgEAiIEAnrEYJECBAgAABAgQIECBAgAABAgQIECBAQID2AwQIECBAgAABAgQIECBAgAABAgQIECCQCAjQCatRAgQIECBAgAABAgQIECBAgAABAgQIEBCg/QABAgQIECBAgAABAgQIECBAgAABAgQIJAICdMJqlAABAgQIECBAgAABAgQIECBAgAABAgQEaD9AgAABAgQIECBAgAABAgQIECBAgAABAomAAJ2wGiVAgAABAgQIECBAgAABAgQIECBAgAABAdoPECBAgAABAgQIECBAgAABAgQIECBAgEAiIEAnrEYJECBAgAABAgQIECBAgAABAgQIECBAQID2AwQIECBAgAABAgQIECBAgAABAgQIECCQCAjQCatRAgQIECBAgAABAgQIECBAgAABAgQIEBCg/QABAgQIECBAgAABAgQIECBAgAABAgQIJAICdMJqlAABAgQIECBAgAABAgQIECBAgAABAgQEaD9AgAABAgQIECBAgAABAgQIECBAgAABAomAAJ2wGiVAgAABAgQIECBAgAABAgQIECBAgAABAdoPECBAgAABAgQIECBAgAABAgQIECBAgEAiIEAnrEYJECBAgAABAgQIECBAgAABAgQIECBAQID2AwQIECBAgAABAgQIECBAgAABAgQIECCQCAjQCatRAgQIECBAgAABAgQIECBAX9xPdQAAIABJREFUgAABAgQIEBCg/QABAgQIECBAgAABAgQIECBAgAABAgQIJAICdMJqlAABAgQIECBAgAABAgQIECBAgAABAgQEaD9AgAABAgQIECBAgAABAgQIECBAgAABAomAAJ2wGiVAgAABAgQIECBAgAABAgQIECBAgAABAdoPECBAgAABAgQIECBAgAABAgQIECBAgEAiIEAnrEYJECBAgAABAgQIECBAgAABAgQIECBAQID2AwQIECBAgAABAgQIECBAgAABAgQIECCQCAjQCatRAgQIECBAgAABAgQIECBAgAABAgQIEBCg/QABAgQIECBAgAABAgQIECBAgAABAgQIJAICdMJqlAABAgQIECBAgAABAgQIECBAgAABAgQEaD9AgAABAgQIECBAgAABAgQIECBAgAABAomAAJ2wGiVAgAABAgQIECBAgAABAgQIECBAgAABAdoPECBAgAABAgQIECBAgAABAgQIECBAgEAiIEAnrEYJECBAgAABAgQIECBAgAABAgQIECBAQID2AwQIECBAgAABAgQIECBAgAABAgQIECCQCAjQCatRAgQIECBAgAABAgQIECBAgAABAgQIEBCg/QABAgQIECBAgAABAgQIECBAgAABAgQIJAICdMJqlAABAgQIECBAgAABAgQIECBAgAABAgQEaD9AgAABAgQIECBAgAABAgQIECBAgAABAomAAJ2wGiVAgAABAgQIECBAgAABAgQIECBAgAABAdoPECBAgAABAgQIECBAgAABAgQIECBAgEAiIEAnrEYJECBAgAABAgQIECBAgAABAgQIECBAQID2AwQIECBAgAABAgQIECBAgAABAgQIECCQCAjQCatRAgQIECBAgAABAgQIECBAgAABAgQIEBCg/QABAgQIECBAgAABAgQIECBAgAABAgQIJAICdMJqlAABAgQIECBAgAABAgQIECBAgAABAgQEaD9AgAABAgQIECBAgAABAgQIECBAgAABAomAAJ2wGiVAgAABAgQIECBAgAABAgQIECBAgAABAdoPECBAgAABAgQIECBAgAABAgQIECBAgEAiIEAnrEYJECBAgAABAgQIECBAgAABAgQIECBAQID2AwQIECBAgAABAgQIECBAgAABAgQIECCQCAjQCatRAgQIECBAgAABAgQIECBAgAABAgQIEBCg/QABAgQIECBAgAABAgQIECBAgAABAgQIJAICdMJqlAABAgQIECBAgAABAgQIECBAgAABAgQEaD9AgAABAgQIECBAgAABAgQIECBAgAABAomAAJ2wGiVAgAABAgQIECBAgAABAgQIECBAgAABAdoPECBAgAABAgQIECBAgAABAgQIECBAgEAiIEAnrEYJECBAgAABAgQIECBAgAABAgQIECBAQID2AwQIECBAgAABAgQIECBAgAABAgQIECCQCAjQCatRAgQIECBAgAABAgQIECBAgAABAgQIEBCg/QABAgQIECBAgAABAgQIECBAgAABAgQIJAICdMJqlAABAgQIECBAgAABAgQIECBAgAABAgQEaD9AgAABAgQIECBAgAABAgQIECBAgAABAomAAJ2wGiVAgAABAgQIECBAgAABAgQIECBAgAABAdoPECBAgAABAgQIECBAgAABAgQIECBAgEAiIEAnrEYJECBAgAABAgQIECBAgAABAgQIECBAQID2AwQIECBAgAABAgQIECBAgAABAgQIECCQCAjQCatRAgQIECBAgAABAgQIECBAgAABAgQIEBCg/QABAgQIECBAgAABAgQIECBAgAABAgQIJAICdMJqlAABAgQIECBAgAABAgQIECBAgAABAgQEaD9AgAABAgQIECBAgAABAgQIECBAgAABAomAAJ2wGiVAgAABAgQIECBAgAABAgQIECBAgAABAdoPECBAgAABAgQIECBAgAABAgQIECBAgEAiIEAnrEYJECBAgAABAgQIECBAgAABAgQIECBAQID2AwQIECBAgAABAgQIECBAgAABAgQIECCQCAjQCatRAgQIECBAgAABAgQIECBAgAABAgQIEBCg/QABAgQIECBAgAABAgQIECBAgAABAgQIJAICdMJqlAABAgQIECBAgAABAgQIECBAgAABAgQEaD9AgAABAgQIECBAgAABAgQIECBAgAABAomAAJ2wGiVAgAABAgQIECBAgAABAgQIECBAgAABAdoPECBAgAABAgQIECBAgAABAgQIECBAgEAiIEAnrEYJECBAgAABAgQIECBAgAABAgQIECBAQID2AwQIECBAgAABAgQIECBAgAABAgQIECCQCAjQCatRAgQIECBAgAABAgQIECBAgAABAgQIEBCg/QABAgQIECBAgAABAgQIECBAgAABAgQIJAICdMJqlAABAgQIECBAgAABAgQIECBAgAABAgQEaD9AgAABAgQIECBAgAABAgQIECBAgAABAomAAJ2wGiVAgAABAgQIECBAgAABAgQIECBAgAABAdoPECBAgAABAgQIECBAgAABAgQIECBAgEAiIEAnrEYJECBAgAABAgQIECBAgAABAgQIECBAQID2AwQIECBAgAABAgQIECBAgAABAgQIECCQCAjQCatRAgQIECBAgAABAgQIECBAgAABAgQIEBCg/QABAgQIECBAgAABAgQIECBAgAABAgQIJAICdMJqlAABAgQIECBAgAABAgQIECBAgAABAgQEaD9AgAABAgQIECBAgAABAgQIECBAgAABAomAAJ2wGiVAgAABAgQIECBAgAABAgQIECBAgAABAdoPECBAgAABAgQIECBAgAABAgQIECBAgEAiIEAnrEYJECBAgAABAgQIECBAgAABAgQIECBAQID2AwQIECBAgAABAgQIECBAgAABAgQIECCQCAjQCatRAgQIECBAgAABAgQIECBAgAABAgQIEBCg/QABAgQIECBAgAABAgQIECBAgAABAgQIJAICdMJqlAABAgQIECBAgAABAgQIECBAgAABAgQEaD9AgAABAgQIECBAgAABAgQIECBAgAABAomAAJ2wGiVAgAABAgQIECBAgAABAgQIECBAgAABAdoPECBAgAABAgQIECBAgAABAgQIECBAgEAiIEAnrEYJECBAgAABAgQIECBAgAABAgQIECBAQID2AwQIECBAgAABAgQIECBAgAABAgQIECCQCAjQCatRAgQIECBAgAABAgQIECBAgAABAgQIEBCg/QABAgQIECBAgAABAgQIECBAgAABAgQIJAICdMJqlAABAgQIECBAgAABAgQIECBAgAABAgQEaD9AgAABAgQIECBAgAABAgQIECBAgAABAomAAJ2wGiVAgAABAgQIECBAgAABAgQIECBAgAABAdoPECBAgAABAgQIECBAgAABAgQIECBAgEAiIEAnrEYJECBAgAABAgQIECBAgAABAgQIECBAQID2AwQIECBAgAABAgQIECBAgAABAgQIECCQCAjQCatRAgQIECBAgAABAgQIECBAgAABAgQIEBCg/QABAgQIECBAgAABAgQIECBAgAABAgQIJAICdMJqlAABAgQIECBAgAABAgQIECBAgAABAgQEaD9AgAABAgQIECBAgAABAgQIECBAgAABAomAAJ2wGiVAgAABAgQIECBAgAABAgQIECBAgAABAdoPECBAgAABAgQIECBAgAABAgQIECBAgEAiIEAnrEYJECBAgAABAgQIECBAgAABAgQIECBAQID2AwQIECBAgAABAgQIECBAgAABAgQIECCQCAjQCatRAgQIECBAgAABAgQIECBAgAABAgQIEBCg/QABAgQIECBAgAABAgQIECBAgAABAgQIJAICdMJqlAABAgQIECBAgAABAgQIECBAgAABAgQEaD9AgAABAgQIECBAgAABAgQIECBAgAABAomAAJ2wGiVAgAABAgQIECBAgAABAgQIECBAgAABAdoPECBAgAABAgQIECBAgAABAgQIECBAgEAiIEAnrEYJECBAgAABAgQIECBAgAABAgQIECBAQID2AwQIECBAgAABAgQIECBAgAABAgQIECCQCAjQCatRAgQIECBAgAABAgQIECBAgAABAgQIEBCg/QABAgQIECBAgAABAgQIECBAgAABAgQIJAICdMJqlAABAgQIECBAgAABAgQIECBAgAABAgQEaD9A4NmxQxoAAACGYf5dT8VYDRw0RyNAgAABAgQIECBAgAABAgQIECBAgMAiIEAvrEYJECBAgAABAgQIECBAgAABAgQIECBAQID2AQIECBAgQIAAAQIECBAgQIAAAQIECBBYBATohdUoAQIECBAgQIAAAQIECBAgQIAAAQIECAjQPkCAAAECBAgQIECAAAECBAgQIECAAAECi4AAvbAaJUCAAAECBAgQIECAAAECBAgQIECAAAEB2gcIECBAgAABAgQIECBAgAABAgQIECBAYBEQoBdWowQIECBAgAABAgQIECBAgAABAgQIECAgQPsAAQIECBAgQIAAAQIECBAgQIAAAQIECCwCAvTCapQAAQIECBAgQIAAAQIECBAgQIAAAQIEBGgfIECAAAECBAgQIECAAAECBAgQIECAAIFFQIBeWI0SIECAAAECBAgQIECAAAECBAgQIECAgADtAwQIECBAgAABAgQIECBAgAABAgQIECCwCAjQC6tRAgQIECBAgAABAgQIECBAgAABAgQIEBCgfYAAAQIECBAgQIAAAQIECBAgQIAAAQIEFgEBemE1SoAAAQIECBAgQIAAAQIECBAgQIAAAQICtA8QIECAAAECBAgQIECAAAECBAgQIECAwCIgQC+sRgkQIECAAAECBAgQIECAAAECBAgQIEBAgPYBAgQIECBAgAABAgQIECBAgAABAgQIEFgEBOiF1SgBAgQIECBAgAABAgQIECBAgAABAgQICNA+QIAAAQIECBAgQIAAAQIECBAgQIAAAQKLgAC9sBolQIAAAQIECBAgQIAAAQIECBAgQIAAAQHaBwgQIECAAAECBAgQIECAAAECBAgQIEBgERCgF1ajBAgQIECAAAECBAgQIECAAAECBAgQICBA+wABAgQIECBAgAABAgQIECBAgAABAgQILAIC9MJqlAABAgQIECBAgAABAgQIECBAgAABAgQEaB8gQIAAAQIECBAgQIAAAQIECBAgQIAAgUVAgF5YjRIgQIAAAQIECBAgQIAAAQIECBAgQICAAO0DBAgQIECAAAECBAgQIECAAAECBAgQILAICNALq1ECBAgQIECAAAECBAgQIECAAAECBAgQEKB9gAABAgQIECBAgAABAgQIECBAgAABAgQWAQF6YTVKgAABAgQIECBAgAABAgQIECBAgAABAgK0DxAgQIAAAQIECBAgQIAAAQIECBAgQIDAIiBAL6xGCRAgQIAAAQIECBAgQIAAAQIECBAgQECA9gECBAgQIECAAAECBAgQIECAAAECBAgQWAQE6IXVKAECBAgQIECAAAECBAgQIECAAAECBAgI0D5AgAABAgQIECBAgAABAgQIECBAgAABAouAAL2wGiVAgAABAgQIECBAgAABAgQIECBAgAABAdoHCBAgQIAAAQIECBAgQIAAAQIECBAgQGAREKAXVqMECBAgQIAAAQIECBAgQIAAAQIECBAgIED7AAECBAgQIECAAAECBAgQIECAAAECBAgsAgL0wmqUAAECBAgQIECAAAECBAgQIECAAAECBARoHyBAgAABAgQIECBAgAABAgQIECBAgACBRUCAXliNEiBAgAABAgQIECBAgAABAgQIECBAgIAA7QMECBAgQIAAAQIECBAgQIAAAQIECBAgsAgI0AurUQIECBAgQIAAAQIECBAgQIAAAQIECBAQoH2AAAECBAgQIECAAAECBAgQIECAAAECBBYBAXphNUqAAAECBAgQIECAAAECBAgQIECAAAECArQPECBAgAABAgQIECBAgAABAgQIECBAgMAiIEAvrEYJECBAgAABAgQIECBAgAABAgQIECBAQID2AQIECBAgQIAAAQIECBAgQIAAAQIECBBYBATohdUoAQIECBAgQIAAAQIECBAgQIAAAQIECAjQPkCAAAECBAgQIECAAAECBAgQIECAAAECi4AAvbAaJUCAAAECBAgQIECAAAECBAgQIECAAAEB2gcIECBAgAABAgQIECBAgAABAgQIECBAYBEQoBdWowQIECBAgAABAgQIECBAgAABAgQIECAgQPsAAQIECBAgQIAAAQIECBAgQIAAAQIECCwCAvTCapQAAQIECBAgQIAAAQIECBAgQIAAAQIEBGgfIECAAAECBAgQIECAAAECBAgQIECAAIFFQIBeWI0SIECAAAECBAgQIECAAAECBAgQIECAgADtAwQIECBAgAABAgQIECBAgAABAgQIECCwCAjQC6tRAgQIECBAgAABAgQIECBAgAABAgQIEBCgfYAAAQIECBAgQIAAAQIECBAgQIAAAQIEFgEBemE1SoAAAQIECBAgQIAAAQIECBAgQIAAAQICtA8QIECAAAECBAgQIECAAAECBAgQIECAwCIgQC+sRgkQIECAAAECBAgQIECAAAECBAgQIEBAgPYBAgQIECBAgAABAgQIECBAgAABAgQIEFgEBOiF1SgBAgQIECBAgAABAgQIECBAgAABAgQICNA+QIAAAQIECBAgQIAAAQIECBAgQIAAAQKLgAC9sBolQIAAAQIECBAgQIAAAQIECBAgQIAAAQHaBwgQIECAAAECBAgQIECAAAECBAgQIEBgERCgF1ajBAgQIECAAAECBAgQIECAAAECBAgQICBA+wABAgQIECBAgAABAgQIECBAgAABAgQILAIC9MJqlAABAgQIECBAgAABAgQIECBAgAABAgQEaB8gQIAAAQIECBAgQIAAAQIECBAgQIAAgUVAgF5YjRIgQIAAAQIECBAgQIAAAQIECBAgQICAAO0DBAgQIECAAAECBAgQIECAAAECBAgQILAICNALq1ECBAgQIECAAAECBAgQIECAAAECBAgQEKB9gAABAgQIECBAgAABAgQIECBAgAABAgQWAQF6YTVKgAABAgQIECBAgAABAgQIECBAgAABAgK0DxAgQIAAAQIECBAgQIAAAQIECBAgQIDAIiBAL6xGCRAgQIAAAQIECBAgQIAAAQIECBAgQECA9gECBAgQIECAAAECBAgQIECAAAECBAgQWAQE6IXVKAECBAgQIECAAAECBAgQIECAAAECBAgI0D5AgAABAgQIECBAgAABAgQIECBAgAABAouAAL2wGiVAgAABAgQIECBAgAABAgQIECBAgAABAdoHCBAgQIAAAQIECBAgQIAAAQIECBAgQGAREKAXVqMECBAgQIAAAQIECBAgQIAAAQIECBAgIED7AAECBAgQIECAAAECBAgQIECAAAECBAgsAgL0wmqUAAECBAgQIECAAAECBAgQIECAAAECBARoHyBAgAABAgQIECBAgAABAgQIECBAgACBRUCAXliNEiBAgAABAgQIECBAgAABAgQIECBAgIAA7QMECBAgQIAAAQIECBAgQIAAAQIECBAgsAgI0AurUQIECBAgQIAAAQIECBAgQIAAAQIECBAQoH2AAAECBAgQIECAAAECBAgQIECAAAECBBYBAXphNUqAAAECBAgQIECAAAECBAgQIECAAAECArQPECBAgAABAgQIECBAgAABAgQIECBAgMAiIEAvrEYJECBAgAABAgQIECBAgAABAgQIECBAQID2AQIECBAgQIAAAQIECBAgQIAAAQIECBBYBATohdUoAQIECBAgQIAAAQIECBAgQIAAAQIECAjQPkCAAAECBAgQIECAAAECBAgQIECAAAECi4AAvbAaJUCAAAECBAgQIECAAAECBAgQIECAAAEB2gcIECBAgAABAgQIECBAgAABAgQIECBAYBEQoBdWowQIECBAgAABAgQIECBAgAABAgQIECAgQPsAAQIECBAgQIAAAQIECBAgQIAAAQIECCwCAvTCapQAAQIECBAgQIAAAQIECBAgQIAAAQIEBGgfIECAAAECBAgQIECAAAECBAgQIECAAIFFQIBeWI0SIECAAAECBAgQIECAAAECBAgQIECAgADtAwQIECBAgAABAgQIECBAgAABAgQIECCwCAjQC6tRAgQIECBAgAABAgQIECBAgAABAgQIEBCgfYAAAQIECBAgQIAAAQIECBAgQIAAAQIEFgEBemE1SoAAAQIECBAgQIAAAQIECBAgQIAAAQICtA8QIECAAAECBAgQIECAAAECBAgQIECAwCIgQC+sRgkQIECAAAECBAgQIECAAAECBAgQIEBAgPYBAgQIECBAgAABAgQIECBAgAABAgQIEFgEBOiF1SgBAgQIECBAgAABAgQIECBAgAABAgQICNA+QIAAAQIECBAgQIAAAQIECBAgQIAAAQKLgAC9sBolQIAAAQIECBAgQIAAAQIECBAgQIAAAQHaBwgQIECAAAECBAgQIECAAAECBAgQIEBgERCgF1ajBAgQIECAAAECBAgQIECAAAECBAgQICBA+wABAgQIECBAgAABAgQIECBAgAABAgQILAIC9MJqlAABAgQIECBAgAABAgQIECBAgAABAgQEaB8gQIAAAQIECBAgQIAAAQIECBAgQIAAgUVAgF5YjRIgQIAAAQIECBAgQIAAAQIECBAgQICAAO0DBAgQIECAAAECBAgQIECAAAECBAgQILAICNALq1ECBAgQIECAAAECBAgQIECAAAECBAgQEKB9gAABAgQIECBAgAABAgQIECBAgAABAgQWAQF6YTVKgAABAgQIECBAgAABAgQIECBAgAABAgK0DxAgQIAAAQIECBAgQIAAAQIECBAgQIDAIiBAL6xGCRAgQIAAAQIECBAgQIAAAQIECBAgQECA9gECBAgQIECAAAECBAgQIECAAAECBAgQWAQE6IXVKAECBAgQIECAAAECBAgQIECAAAECBAgI0D5AgAABAgQIECBAgAABAgQIECBAgAABAouAAL2wGiVAgAABAgQIECBAgAABAgQIECBAgAABAdoHCBAgQIAAAQIECBAgQIAAAQIECBAgQGAREKAXVqMECBAgQIAAAQIECBAgQIAAAQIECBAgIED7AAECBAgQIECAAAECBAgQIECAAAECBAgsAgL0wmqUAAECBAgQIECAAAECBAgQIECAAAECBARoHyBAgAABAgQIECBAgAABAgQIECBAgACBRUCAXliNEiBAgAABAgQIECBAgAABAgQIECBAgIAA7QMECBAgQIAAAQIECBAgQIAAAQIECBAgsAgI0AurUQIECBAgQIAAAQIECBAgQIAAAQIECBAQoH2AAAECBAgQIECAAAECBAgQIECAAAECBBYBAXphNUqAAAECBAgQIECAAAECBAgQIECAAAECArQPECBAgAABAgQIECBAgAABAgQIECBAgMAiIEAvrEYJECBAgAABAgQIECBAgAABAgQIECBAQID2AQIECBAgQIAAAQIECBAgQIAAAQIECBBYBATohdUoAQIECBAgQIAAAQIECBAgQIAAAQIECAjQPkCAAAECBAgQIECAAAECBAgQIECAAAECi4AAvbAaJUCAAAECBAgQIECAAAECBAgQIECAAAEB2gcIECBAgAABAgQIECBAgAABAgQIECBAYBEQoBdWowQIECBAgAABAgQIECBAgAABAgQIECAgQPsAAQIECBAgQIAAAQIECBAgQIAAAQIECCwCAvTCapQAAQIECBAgQIAAAQIECBAgQIAAAQIEBGgfIECAAAECBAgQIECAAAECBAgQIECAAIFFQIBeWI0SIECAAAECBAgQIECAAAECBAgQIECAgADtAwQIECBAgAABAgQIECBAgAABAgQIECCwCAjQC6tRAgQIECBAgAABAgQIECBAgAABAgQIEBCgfYAAAQIECBAgQIAAAQIECBAgQIAAAQIEFgEBemE1SoAAAQIECBAgQIAAAQIECBAgQIAAAQICtA8QIECAAAECBAgQIECAAAECBAgQIECAwCIgQC+sRgkQIECAAAECBAgQIECAAAECBAgQIEBAgPYBAgQIECBAgAABAgQIECBAgAABAgQIEFgEBOiF1SgBAgQIECBAgAABAgQIECBAgAABAgQICNA+QIAAAQIECBAgQIAAAQIECBAgQIAAAQKLgAC9sBolQIAAAQIECBAgQIAAAQIECBAgQIAAAQHaBwgQIECAAAECBAgQIECAAAECBAgQIEBgERCgF1ajBAgQIECAAAECBAgQIECAAAECBAgQICBA+wABAgQIECBAgAABAgQIECBAgAABAgQILAIC9MJqlAABAgQIECBAgAABAgQIECBAgAABAgQEaB8gQIAAAQIECBAgQIAAAQIECBAgQIAAgUVAgF5YjRIgQIAAAQIECBAgQIAAAQIECBAgQICAAO0DBAgQIECAAAECBAgQIECAAAECBAgQILAICNALq1ECBAgQIECAAAECBAgQIECAAAECBAgQEKB9gAABAgQIECBAgAABAgQIECBAgAABAgQWAQF6YTVKgAABAgQIECBAgAABAgQIECBAgAABAgK0DxAgQIAAAQIECBAgQIAAAQIECBAgQIDAIiBAL6xGCRAgQIAAAQIECBAgQIAAAQIECBAgQECA9gECBAgQIECAAAECBAgQIECAAAECBAgQWAQE6IXVKAECBAgQIECAAAECBAgQIECAAAECBAgI0D5AgAABAgQIECBAgAABAgQIECBAgAABAouAAL2wGiVAgAABAgQIECBAgAABAgQIECBAgAABAdoHCBAgQIAAAQIECBAgQIAAAQIECBAgQGAREKAXVqMECBAgQIAAAQIECBAgQIAAAQIECBAgIED7AAECBAgQIECAAAECBAgQIEAETem7AAAgAElEQVSAAAECBAgsAgL0wmqUAAECBAgQIECAAAECBAgQIECAAAECBARoHyBAgAABAgQIECBAgAABAgQIECBAgACBRUCAXliNEiBAgAABAgQIECBAgAABAgQIECBAgIAA7QMECBAgQIAAAQIECBAgQIAAAQIECBAgsAgI0AurUQIECBAgQIAAAQIECBAgQIAAAQIECBAQoH2AAAECBAgQIECAAAECBAgQIECAAAECBBYBAXphNUqAAAECBAgQIECAAAECBAgQIECAAAECArQPECBAgAABAgQIECBAgAABAgQIECBAgMAiIEAvrEYJECBAgAABAgQIECBAgAABAgQIECBAQID2AQIECBAgQIAAAQIECBAgQIAAAQIECBBYBATohdUoAQIECBAgQIAAAQIECBAgQIAAAQIECAjQPkCAAAECBAgQIECAAAECBAgQIECAAAECi4AAvbAaJUCAAAECBAgQIECAAAECBAgQIECAAAEB2gcIECBAgAABAgQIECBAgAABAgQIECBAYBEQoBdWowQIECBAgAABAgQIECBAgAABAgQIECAgQPsAAQIECBAgQIAAAQIECBAgQIAAAQIECCwCAvTCapQAAQIECBAgQIAAAQIECBAgQIAAAQIEBGgfIECAAAECBAgQIECAAAECBAgQIECAAIFFQIBeWI0SIECAAAECBAgQIECAAAECBAgQIECAgADtAwQIECBAgAABAgQIECBAgAABAgQIECCwCAjQC6tRAgQIECBAgAABAgQIECBAgAABAgQIEBCgfYAAAQIECBAgQIAAAQIECBAgQIAAAQIEFgEBemE1SoAAAQIECBAgQIAAAQIECBAgQIAAAQICtA8QIECAAAECBAgQIECAAAECBAgQIECAwCIgQC+sRgkQIECAAAECBAgQIECAAAECBAgQIEBAgPYBAgQIECBAgAABAgQIECBAgAABAgQIEFgEBOiF1SgBAgQIECBAgAABAgQIECBAgAABAgQICNA+QIAAAQIECBAgQIAAAQIECBAgQIAAAQKLgAC9sBolQIAAAQIECBAgQIAAAQIECBAgQIAAAQHaBwgQIECAAAECBAgQIECAAAECBAgQIEBgERCgF1ajBAgQIECAAAECBAgQIECAAAECBAgQICBA+wABAgQIECBAgAABAgQIECBAgAABAgQILAIC9MJqlAABAgQIECBAgAABAgQIECBAgAABAgQEaB8gQIAAAQIECBAgQIAAAQIECBAgQIAAgUVAgF5YjRIgQIAAAQIECBAgQIAAAQIECBAgQICAAO0DBAgQIECAAAECBAgQIECAAAECBAgQILAICNALq1ECBAgQIECAAAECBAgQIECAAAECBAgQEKB9gAABAgQIECBAgAABAgQIECBAgAABAgQWAQF6YTVKgAABAgQIECBAgAABAgQIECBAgAABAgK0DxAgQIAAAQIECBAgQIAAAQIECBAgQIDAIiBAL6xGCRAgQIAAAQIECBAgQIAAAQIECBAgQECA9gECBAgQIECAAAECBAgQIECAAAECBAgQWAQE6IXVKAECBAgQIECAAAECBAgQIECAAAECBAgI0D5AgAABAgQIECBAgAABAgQIECBAgAABAouAAL2wGiVAgAABAgQIECBAgAABAgQIECBAgAABAdoHCBAgQIAAAQIECBAgQIAAAQIECBAgQGAREKAXVqMECBAgQIAAAQIECBAgQIAAAQIECBAgIED7AAECBAgQIECAAAECBAgQIECAAAECBAgsAgL0wmqUAAECBAgQIECAAAECBAgQIECAAAECBARoHyBAgAABAgQIECBAgAABAgQIECBAgACBRUCAXliNEiBAgAABAgQIECBAgAABAgQIECBAgIAA7QMECBAgQIAAAQIECBAgQIAAAQIECBAgsAgI0AurUQIECBAgQIAAAQIECBAgQIAAAQIECBAQoH2AAAECBAgQIECAAAECBAgQIECAAAECBBYBAXphNUqAAAECBAgQIECAAAECBAgQIECAAAECArQPECBAgAABAgQIECBAgAABAgQIECBAgMAiIEAvrEYJECBAgAABAgQIECBAgAABAgQIECBAQID2AQIECBAgQIAAAQIECBAgQIAAAQIECBBYBATohdUoAQIECBAgQIAAAQIECBAgQIAAAQIECAjQPkCAAAECBAgQIECAAAECBAgQIECAAAECi4AAvbAaJUCAAAECBAgQIECAAAECBAgQIECAAAEB2gcIECBAgAABAgQIECBAgAABAgQIECBAYBEQoBdWowQIECBAgAABAgQIECBAgAABAgQIECAgQPsAAQIECBAgQIAAAQIECBAgQIAAAQIECCwCAvTCapQAAQIECBAgQIAAAQIECBAgQIAAAQIEBGgfIECAAAECBAgQIECAAAECBAgQIECAAIFFQIBeWI0SIECAAAECBAgQIECAAAECBAgQIECAgADtAwQIECBAgAABAgQIECBAgAABAgQIECCwCAjQC6tRAgQIECBAgAABAgQIECBAgAABAgQIEBCgfYAAAQIECBAgQIAAAQIECBAgQIAAAQIEFgEBemE1SoAAAQIECBAgQIAAAQIECBAgQIAAAQICtA8QIECAAAECBAgQIECAAAECBAgQIECAwCIgQC+sRgkQIECAAAECBAgQIECAAAECBAgQIEBAgPYBAgQIECBAgAABAgQIECBAgAABAgQIEFgEBOiF1SgBAgQIECBAgAABAgQIECBAgAABAgQICNA+QIAAAQIECBAgQIAAAQIECBAgQIAAAQKLgAC9sBolQIAAAQIECBAgQIAAAQIECBAgQIAAAQHaBwgQIECAAAECBAgQIECAAAECBAgQIEBgERCgF1ajBAgQIECAAAECBAgQIECAAAECBAgQICBA+wABAgQIECBAgAABAgQIECBAgAABAgQILAIC9MJqlAABAgQIECBAgAABAgQIECBAgAABAgQEaB8gQIAAAQIECBAgQIAAAQIECBAgQIAAgUVAgF5YjRIgQIAAAQIECBAgQIAAAQIECBAgQICAAO0DBAgQIECAAAECBAgQIECAAAECBAgQILAICNALq1ECBAgQIECAAAECBAgQIECAAAECBAgQEKB9gAABAgQIECBAgAABAgQIECBAgAABAgQWAQF6YTVKgAABAgQIECBAgAABAgQIECBAgAABAgK0DxAgQIAAAQIECBAgQIAAAQIECBAgQIDAIiBAL6xGCRAgQIAAAQIECBAgQIAAAQIECBAgQECA9gECBAgQIECAAAECBAgQIECAAAECBAgQWAQE6IXVKAECBAgQIECAAAECBAgQIECAAAECBAgI0D5AgAABAgQIECBAgAABAgQIECBAgAABAouAAL2wGiVAgAABAgQIECBAgAABAgQIECBAgAABAdoHCBAgQIAAAQIECBAgQIAAAQIECBAgQGAREKAXVqMECBAgQIAAAQIECBAgQIAAAQIECBAgIED7AAECBAgQIECAAAECBAgQIECAAAECBAgsAgL0wmqUAAECBAgQIECAAAECBAgQIECAAAECBARoHyBAgAABAgQIECBAgAABAgQIECBAgACBRUCAXliNEiBAgAABAgQIECBAgAABAgQIECBAgIAA7QMECBAgQIAAAQIECBAgQIAAAQIECBAgsAgI0AurUQIECBAgQIAAAQIECBAgQIAAAQIECBAQoH2AAAECBAgQIECAAAECBAgQIECAAAECBBYBAXphNUqAAAECBAgQIECAAAECBAgQIECAAAECArQPECBAgAABAgQIECBAgAABAgQIECBAgMAiIEAvrEYJECBAgAABAgQIECBAgAABAgQIECBAQID2AQIECBAgQIAAAQIECBAgQIAAAQIECBBYBATohdUoAQIECBAgQIAAAQIECBAgQIAAAQIECAjQPkCAAAECBAgQIECAAAECBAgQIECAAAECi4AAvbAaJUCAAAECBAgQIECAAAECBAgQIECAAAEB2gcIECBAgAABAgQIECBAgAABAgQIECBAYBEQoBdWowQIECBAgAABAgQIECBAgAABAgQIECAgQPsAAQIECBAgQIAAAQIECBAgQIAAAQIECCwCAvTCapQAAQIECBAgQIAAAQIECBAgQIAAAQIEBGgfIECAAAECBAgQIECAAAECBAgQIECAAIFFQIBeWI0SIECAAAECBAgQIECAAAECBAgQIECAgADtAwQIECBAgAABAgQIECBAgAABAgQIECCwCAjQC6tRAgQIECBAgAABAgQIECBAgAABAgQIEBCgfYAAAQIECBAgQIAAAQIECBAgQIAAAQIEFgEBemE1SoAAAQIECBAgQIAAAQIECBAgQIAAAQICtA8QIECAAAECBAgQIECAAAECBAgQIECAwCIgQC+sRgkQIECAAAECBAgQIECAAAECBAgQIEBAgPYBAgQIECBAgAABAgQIECBAgAABAgQIEFgEBOiF1SgBAgQIECBAgAABAgQIECBAgAABAgQICNA+QIAAAQIECBAgQIAAAQIECBAgQIAAAQKLgAC9sBolQIAAAQIECBAgQIAAAQIECBAgQIAAAQHaBwgQIECAAAECBAgQIECAAAECBAgQIEBgERCgF1ajBAgQIECAAAECBAgQIECAAAECBAgQICBA+wABAgQIECBAgAABAgQIECBAgAABAgQILAIC9MJqlAABAgQIECBAgAABAgQIECBAgAABAgQEaB8gQIAAAQIECBAgQIAAAQIECBAgQIAAgUVAgF5YjRIgQIAAAQIECBAgQIAAAQIECBAgQICAAO0DBAgQIECAAAECBAgQIECAAAECBAgQILAICNALq1ECBAgQIECAAAECBAgQIECAAAECBAgQEKB9gAABAgQIECBAgAABAgQIECBAgAABAgQWAQF6YTVKgAABAgQIECBAgAABAgQIECBAgAABAgK0DxAgQIAAAQIECBAgQIAAAQIECBAgQIDAIiBAL6xGCRAgQIAAAQIECBAgQIAAAQIECBAgQECA9gECBAgQIECAAAECBAgQIECAAAECBAgQWAQE6IXVKAECBAgQIECAAAECBAgQIECAAAECBAgI0D5AgAABAgQIECBAgAABAgQIECBAgAABAouAAL2wGiVAgAABAgQIECBAgAABAgQIECBAgAABAdoHCBAgQIAAAQIECBAgQIAAAQIECBAgQGAREKAXVqMECBAgQIAAAQIECBAgQIAAAQIECBAgIED7AAECBAgQIECAAAECBAgQIECAAAECBAgsAgL0wmqUAAECBAgQIECAAAECBAgQIECAAAECBARoHyBAgAABAgQIECBAgAABAgQIECBAgACBRUCAXliNEiBAgAABAgQIECBAgAABAgQIECBAgIAA7QMECBAgQIAAAQIECBAgQIAAAQIECBAgsAgI0AurUQIECBAgQIAAAQIECBAgQIAAAQIECBAQoH2AAAECBAgQIECAAAECBAgQIECAAAECBBYBAXphNUqAAAECBAgQIECAAAECBAgQIECAAAECArQPECBAgAABAgQIECBAgAABAgQIECBAgMAiIEAvrEYJECBAgAABAgQIECBAgAABAgQIECBAQID2AQIECBAgQIAAAQIECBAgQIAAAQIECBBYBATohdUoAQIECBAgQIAAAQIECBAgQIAAAQIECAjQPkCAAAECBAgQIECAAAECBAgQIECAAAECi4AAvbAaJUCAAAECBAgQIECAAAECBAgQIECAAAEB2gcIECBAgAABAgQIECBAgAABAgQIECBAYBEQoBdWowQIECBAgAABAgQIECBAgAABAgQIECAgQPsAAQIECBAgQIAAAQIECBAgQIAAAQIECCwCAvTCapQAAQIECBAgQIAAAQIECBAgQIAAAQIEBGgfIECAAAECBAgQIECAAAECBAgQIECAAIFFQIBeWI0SIECAAAECBAgQIECAAAECBAgQIECAgADtAwQIECBAgAABAgQIECBAgAABAgQIECCwCAjQC6tRAgQIECBAgAABAgQIECBAgAABAgQIEBCgfYAAAQIECBAgQIAAAQIECBAgQIAAAQIEFgEBemE1SoAAAQIECBAgQIAAAQIECBAgQIAAAQICtA8QIECAAAECBAgQIECAAAECBAgQIECAwCIgQC+sRgkQIECAAAECBAgQIECAAAECBAgQIEBAgPYBAgQIECBAgAABAgQIECBAgAABAgQIEFgEBOiF1SgBAgQIECBAgAABAgQIECBAgAABAgQICNA+QIAAAQIECBAgQIAAAQIECBAgQIAAAQKLgAC9sBolQIAAAQIECBAgQIAAAQIECBAgQIAAAQHaBwgQIECAAAECBAgQIECAAAECBAgQIEBgERCgF1ajBAgQIECAAAECBAgQIECAAAECBAgQICBA+wABAgQIECBAgAABAgQIECBAgAABAgQILAIC9MJqlAABAgQIECBAgAABAgQIECBAgAABAgQEaB8gQIAAAQIECBAgQIAAAQIECBAgQIAAgUVAgF5YjRIgQIAAAQIECBAgQIAAAQIECBAgQICAAO0DBAgQIECAAAECBAgQIECAAAECBAgQILAICNALq1ECBAgQIECAAAECBAgQIECAAAECBAgQEKB9gAABAgQIECBAgAABAgQIECBAgAABAgQWAQF6YTVKgAABAgQIECBAgAABAgQIECBAgAABAgK0DxAgQIAAAQIECBAgQIAAAQIECBAgQIDAIiBAL6xGCRAgQIAAAQIECBAgQIAAAQIECBAgQECA9gECBAgQIECAAAECBAgQIECAAAECBAgQWAQE6IXVKAECBAgQIECAAAECBAgQIECAAAECBAgI0D5AgAABAgQIECBAgAABAgQIECBAgAABAouAAL2wGiVAgAABAgQIECBAgAABAgQIECBAgAABAdoHCBAgQIAAAQIECBAgQIAAAQIECBAgQGAREKAXVqMECBAgQIAAAQIECBAgQIAAAQIECBAgIED7AAECBAgQIECAAAECBAgQIECAAAECBAgsAgL0wmqUAAECBAgQIECAAAECBAgQIECAAAECBARoHyBAgAABAgQIECBAgAABAgQIECBAgACBRUCAXliNEiBAgAABAgQIECBAgAABAgQIECBAgIAA7QMECBAgQIAAAQIECBAgQIAAAQIECBAgsAgI0AurUQIECBAgQIAAAQIECBAgQIAAAQIECBAQoH2AAAECBAgQIECAAAECBAgQIECAAAECBBYBAXphNUqAAAECBAgQIECAAAECBAgQIECAAAECArQPECBAgAABAgQIECBAgAABAgQIECBAgMAiIEAvrEYJECBAgAABAgQIECBAgAABAgQIECBAQID2AQIECBAgQIAAAQIECBAgQIAAAQIECBBYBATohdUoAQIECBAgQIAAAQIECBAgQIAAAQIECAjQPkCAAAECBAgQIECAAAECBAgQIECAAAECi4AAvbAaJUCAAAECBAgQIECAAAECBAgQIECAAAEB2gcIECBAgAABAgQIECBAgAABAgQIECBAYBEQoBdWowQIECBAgAABAgQIECBAgAABAgQIECAgQPsAAQIECBAgQIAAAQIECBAgQIAAAQIECCwCAvTCapQAAQIECBAgQIAAAQIECBAgQIAAAQIEBGgfIECAAAECBAgQIECAAAECBAgQIECAAIFFQIBeWI0SIECAAAECBAgQIECAAAECBAgQIECAgADtAwQIECBAgAABAgQIECBAgAABAgQIECCwCAjQC6tRAgQIECBAgAABAgQIECBAgAABAgQIEBCgfYAAAQIECBAgQIAAAQIECBAgQIAAAQIEFgEBemE1SoAAAQIECBAgQIAAAQIECBAgQIAAAQICtA8QIECAAAECBAgQIECAAAECBAgQIECAwCIgQC+sRgkQIECAAAECBAgQIECAAAECBAgQIEBAgPYBAgQIECBAgAABAgQIECBAgAABAgQIEFgEBOiF1SgBAgQIECBAgAABAgQIECBAgAABAgQICNA+QIAAAQIECBAgQIAAAQIECBAgQIAAAQKLgAC9sBolQIAAAQIECBAgQIAAAQIECBAgQIAAAQHaBwgQIECAAAECBAgQIECAAAECBAgQIEBgERCgF1ajBAgQIECAAAECBAgQIECAAAECBAgQICBA+wABAgQIECBAgAABAgQIECBAgAABAgQILAIC9MJqlAABAgQIECBAgAABAgQIECBAgAABAgQEaB8gQIAAAQIECBAgQIAAAQIECBAgQIAAgUVAgF5YjRIgQIAAAQIECBAgQIAAAQIECBAgQICAAO0DBAgQIECAAAECBAgQIECAAAECBAgQILAICNALq1ECBAgQIECAAAECBAgQIECAAAECBAgQEKB9gAABAgQIECBAgAABAgQIECBAgAABAgQWAQF6YTVKgAABAgQIECBAgAABAgQIECBAgAABAgK0DxAgQIAAAQIECBAgQIAAAQIECBAgQIDAIiBAL6xGCRAgQIAAAQIECBAgQIAAAQIECBAgQECA9gECBAgQIECAAAECBAgQIECAAAECBAgQWAQE6IXVKAECBAgQIECAAAECBAgQIECAAAECBAgI0D5AgAABAgQIECBAgAABAgQIECBAgAABAouAAL2wGiVAgAABAgQIECBAgAABAgQIECBAgAABAdoHCBAgQIAAAQIECBAgQIAAAQIECBAgQGAREKAXVqMECBAgQIAAAQIECBAgQIAAAQIECBAgIED7AAECBAgQIECAAAECBAgQIECAAAECBAgsAgL0wmqUAAECBAgQIECAAAECBAgQIECAAAECBARoHyBAgAABAgQIECBAgAABAgQIECBAgACBRUCAXliNEiBAgAABAgQIECBAgAABAgQIECBAgIAA7QMECBAgQIAAAQIECBAgQIAAAQIECBAgsAgI0AurUQIECBAgQIAAAQIECBAgQIAAAQIECBAQoH2AAAECBAgQIECAAAECBAgQIECAAAECBBYBAXphNUqAAAECBAgQIECAAAECBAgQIECAAAECArQPECBAgAABAgQIECBAgAABAgQIECBAgMAiIEAvrEYJECBAgAABAgQIECBAgAABAgQIECBAQID2AQIECBAgQIAAAQIECBAgQIAAAQIECBBYBATohdUoAQIECBAgQIAAAQIECBAgQIAAAQIECAjQPkCAAAECBAgQIECAAAECBAgQIECAAAECi4AAvbAaJUCAAAECBAgQIECAAAECBAgQIECAAAEB2gcIECBAgAABAgQIECBAgAABAgQIECBAYBEQoBdWowQIECBAgAABAgQIECBAgAABAgQIECAgQPsAAQIECBAgQIAAAQIECBAgQIAAAQIECCwCAvTCapQAAQIECBAgQIAAAQIECBAgQIAAAQIEBGgfIECAAAECBAgQIECAAAECBAgQIECAAIFFQIBeWI0SIECAAAECBAgQIECAAAECBAgQIECAgADtAwQIECBAgAABAgQIECBAgAABAgQIECCwCAjQC6tRAgQIECBAgAABAgQIECBAgAABAgQIEBCgfYAAAQIECBAgQIAAAQIECBAgQIAAAQIEFgEBemE1SoAAAQIECBAgQIAAAQIECBAgQIAAAQICtA8QIECAAAECBAgQIECAAAECBAgQIECAwCIgQC+sRgkQIECAAAECBAgQIECAAAECBAgQIEBAgPYBAgQIECBAgAABAgQIECBAgAABAgQIEFgEBOiF1SgBAgQIECBAgAABAgQIECBAgAABAgQICNA+QIAAAQIECBAgQIAAAQIECBAgQIAAAQKLgAC9sBolQIAAAQIECBAgQIAAAQIECBAgQIAAAQHaBwgQIECAAAECBAgQIECAAAECBAgQIEBgERCgF1ajBAgQIECAAAECBAgQIECAAAECBAgQICBA+wABAgQIECBAgAABAgQIECBAgAABAgQILAIC9MJqlAABAgQIECBAgAABAgQIECBAgAABAgQEaB8gQIAAAQIECBAgQIAAAQIECBAgQIAAgUVAgF5YjRIgQIAAAQIECBAgQIAAAQIECBAgQICAAO0DBAgQIECAAAECBAgQIECAAAECBAgQILAICNALq1ECBAgQIECAAAECBAgQIECAAAECBAgQEKB9gAABAgQIECBAgAABAgQIECBAgAABAgQWAQF6YTVKgAABAgQIECBAgAABAgQIECBAgAABAgK0DxAgQIAAAQIECBAgQIAAAQIECBAgQIDAIiBAL6xGCRAgQIAAAQIECBAgQIAAAQIECBAgQECA9gECBAgQIECAAAECBAgQIECAAAECBAgQWAQE6IXVKAECBAgQIECAAAECBAgQIECAAAECBAgI0D5AgAABAgQIECBAgAABAgQIECBAgAABAouAAL2wGiVAgAABAgQIECBAgAABAgQIECBAgAABAdoHCBAgQIAAAQIECBAgQIAAAQIECBAgQGAREKAXVqMECBAgQIAAAQIECBAgQIAAAQIECBAgIED7AAECBAgQIECAAAECBAgQIECAAAECBAgsAgL0wmqUAAECBAgQIECAAAECBAgQIECAAAECBARoHyBAgAABAgQIECBAgAABAgQIECBAgACBRUCAXliNEiBAgAABAgQIECBAgAABAgQIECBAgIAA7QMECBAgQIAAAQIECBAgQIAAAQIECBAgsAgI0AurUQIECBAgQIAAAQIECBAgQIAAAQIECBAQoH2AAAECBAgQIECAAAECBAgQIECAAAECBBYBAXphNUqAAAECBAgQIECAAAECBAgQIECAAAECArQPECBAgAABAgQIECBAgAABAgQIECBAgMAiIEAvrEYJECBAgAABAgQIECBAgAABAgQIECBAQID2AQIECBAgQIAAAQIECBAgQIAAAQIECBBYBATohdUoAQIECBAgQIAAAQIECBAgQIAAAQIECAjQPkCAAAECBAgQIECAAAECBLLrGTcAABoOSURBVAgQIECAAAECi4AAvbAaJUCAAAECBAgQIECAAAECBAgQIECAAAEB2gcIECBAgAABAgQIECBAgAABAgQIECBAYBEQoBdWowQIECBAgAABAgQIECBAgAABAgQIECAgQPsAAQIECBAgQIAAAQIECBAgQIAAAQIECCwCAvTCapQAAQIECBAgQIAAAQIECBAgQIAAAQIEBGgfIECAAAECBAgQIECAAAECBAgQIECAAIFFQIBeWI0SIECAAAECBAgQIECAAAECBAgQIECAgADtAwQIECBAgAABAgQIECBAgAABAgQIECCwCAjQC6tRAgQIECBAgAABAgQIECBAgAABAgQIEBCgfYAAAQIECBAgQIAAAQIECBAgQIAAAQIEFgEBemE1SoAAAQIECBAgQIAAAQIECBAgQIAAAQICtA8QIECAAAECBAgQIECAAAECBAgQIECAwCIgQC+sRgkQIECAAAECBAgQIECAAAECBAgQIEBAgPYBAgQIECBAgAABAgQIECBAgAABAgQIEFgEBOiF1SgBAgQIECBAgAABAgQIECBAgAABAgQICNA+QIAAAQIECBAgQIAAAQIECBAgQIAAAQKLgAC9sBolQIAAAQIECBAgQIAAAQIECBAgQIAAAQHaBwgQIECAAAECBAgQIECAAAECBAgQIEBgERCgF1ajBAgQIECAAAECBAgQIECAAAECBAgQICBA+wABAgQIECBAgAABAgQIECBAgAABAgQILAIC9MJqlAABAgQIECBAgAABAgQIECBAgAABAgQEaB8gQIAAAQIECBAgQIAAAQIECBAgQIAAgUVAgF5YjRIgQIAAAQIECBAgQIAAAQIECBAgQICAAO0DBAgQIECAAAECBAgQIECAAAECBAgQILAICNALq1ECBAgQIECAAAECBAgQIECAAAECBAgQEKB9gAABAgQIECBAgAABAgQIECBAgAABAgQWAQF6YTVKgAABAgQIECBAgAABAgQIECBAgAABAgK0DxAgQIAAAQIECBAgQIAAAQIECBAgQIDAIiBAL6xGCRAgQIAAAQIECBAgQIAAAQIECBAgQECA9gECBAgQIECAAAECBAgQIECAAAECBAgQWAQE6IXVKAECBAgQIECAAAECBAgQIECAAAECBAgI0D5AgAABAgQIECBAgAABAgQIECBAgAABAouAAL2wGiVAgAABAgQIECBAgAABAgQIECBAgAABAdoHCBAgQIAAAQIECBAgQIAAAQIECBAgQGAREKAXVqMECBAgQIAAAQIECBAgQIAAAQIECBAgIED7AAECBAgQIECAAAECBAgQIECAAAECBAgsAgL0wmqUAAECBAgQIECAAAECBAgQIECAAAECBARoHyBAgAABAgQIECBAgAABAgQIECBAgACBRUCAXliNEiBAgAABAgQIECBAgAABAgQIECBAgIAA7QMECBAgQIAAAQIECBAgQIAAAQIECBAgsAgI0AurUQIECBAgQIAAAQIECBAgQIAAAQIECBAQoH2AAAECBAgQIECAAAECBAgQIECAAAECBBYBAXphNUqAAAECBAgQIECAAAECBAgQIECAAAECArQPECBAgAABAgQIECBAgAABAgQIECBAgMAiIEAvrEYJECBAgAABAgQIECBAgAABAgQIECBAQID2AQIECBAgQIAAAQIECBAgQIAAAQIECBBYBATohdUoAQIECBAgQIAAAQIECBAgQIAAAQIECAjQPkCAAAECBAgQIECAAAECBAgQIECAAAECi4AAvbAaJUCAAAECBAgQIECAAAECBAgQIECAAAEB2gcIECBAgAABAgQIECBAgAABAgQIECBAYBEQoBdWowQIECBAgAABAgQIECBAgAABAgQIECAgQPsAAQIECBAgQIAAAQIECBAgQIAAAQIECCwCAvTCapQAAQIECBAgQIAAAQIECBAgQIAAAQIEBGgfIECAAAECBAgQIECAAAECBAgQIECAAIFFQIBeWI0SIECAAAECBAgQIECAAAECBAgQIECAgADtAwQIECBAgAABAgQIECBAgAABAgQIECCwCAjQC6tRAgQIECBAgAABAgQIECBAgAABAgQIEBCgfYAAAQIECBAgQIAAAQIECBAgQIAAAQIEFgEBemE1SoAAAQIECBAgQIAAAQIECBAgQIAAAQICtA8QIECAAAECBAgQIECAAAECBAgQIECAwCIgQC+sRgkQIECAAAECBAgQIECAAAECBAgQIEBAgPYBAgQIECBAgAABAgQIECBAgAABAgQIEFgEBOiF1SgBAgQIECBAgAABAgQIECBAgAABAgQICNA+QIAAAQIECBAgQIAAAQIECBAgQIAAAQKLgAC9sBolQIAAAQIECBAgQIAAAQIECBAgQIAAAQHaBwgQIECAAAECBAgQIECAAAECBAgQIEBgERCgF1ajBAgQIECAAAECBAgQIECAAAECBAgQICBA+wABAgQIECBAgAABAgQIECBAgAABAgQILAIC9MJqlAABAgQIECBAgAABAgQIECBAgAABAgQEaB8gQIAAAQIECBAgQIAAAQIECBAgQIAAgUVAgF5YjRIgQIAAAQIECBAgQIAAAQIECBAgQICAAO0DBAgQIECAAAECBAgQIECAAAECBAgQILAICNALq1ECBAgQIECAAAECBAgQIECAAAECBAgQEKB9gAABAgQIECBAgAABAgQIECBAgAABAgQWAQF6YTVKgAABAgQIECBAgAABAgQIECBAgAABAgK0DxAgQIAAAQIECBAgQIAAAQIECBAgQIDAIiBAL6xGCRAgQIAAAQIECBAgQIAAAQIECBAgQECA9gECBAgQIECAAAECBAgQIECAAAECBAgQWAQE6IXVKAECBAgQIECAAAECBAgQIECAAAECBAgI0D5AgAABAgQIECBAgAABAgQIECBAgAABAouAAL2wGiVAgAABAgQIECBAgAABAgQIECBAgAABAdoHCBAgQIAAAQIECBAgQIAAAQIECBAgQGAREKAXVqMECBAgQIAAAQIECBAgQIAAAQIECBAgIED7AAECBAgQIECAAAECBAgQIECAAAECBAgsAgL0wmqUAAECBAgQIECAAAECBAgQIECAAAECBARoHyBAgAABAgQIECBAgAABAgQIECBAgACBRUCAXliNEiBAgAABAgQIECBAgAABAgQIECBAgIAA7QMECBAgQIAAAQIECBAgQIAAAQIECBAgsAgI0AurUQIECBAgQIAAAQIECBAgQIAAAQIECBAQoH2AAAECBAgQIECAAAECBAgQIECAAAECBBYBAXphNUqAAAECBAgQIECAAAECBAgQIECAAAECArQPECBAgAABAgQIECBAgAABAgQIECBAgMAiIEAvrEYJECBAgAABAgQIECBAgAABAgQIECBAQID2AQIECBAgQIAAAQIECBAgQIAAAQIECBBYBATohdUoAQIECBAgQIAAAQIECBAgQIAAAQIECAjQPkCAAAECBAgQIECAAAECBAgQIECAAAECi4AAvbAaJUCAAAECBAgQIECAAAECBAgQIECAAAEB2gcIECBAgAABAgQIECBAgAABAgQIECBAYBEQoBdWowQIECBAgAABAgQIECBAgAABAgQIECAgQPsAAQIECBAgQIAAAQIECBAgQIAAAQIECCwCAvTCapQAAQIECBAgQIAAAQIECBAgQIAAAQIEBGgfIECAAAECBAgQIECAAAECBAgQIECAAIFFQIBeWI0SIECAAAECBAgQIECAAAECBAgQIECAgADtAwQIECBAgAABAgQIECBAgAABAgQIECCwCAjQC6tRAgQIECBAgAABAgQIECBAgAABAgQIEBCgfYAAAQIECBAgQIAAAQIECBAgQIAAAQIEFgEBemE1SoAAAQIECBAgQIAAAQIECBAgQIAAAQICtA8QIECAAAECBAgQIECAAAECBAgQIECAwCIgQC+sRgkQIECAAAECBAgQIECAAAECBAgQIEBAgPYBAgQIECBAgAABAgQIECBAgAABAgQIEFgEBOiF1SgBAgQIECBAgAABAgQIECBAgAABAgQICNA+QIAAAQIECBAgQIAAAQIECBAgQIAAAQKLgAC9sBolQIAAAQIECBAgQIAAAQIECBAgQIAAAQHaBwgQIECAAAECBAgQIECAAAECBAgQIEBgERCgF1ajBAgQIECAAAECBAgQIECAAAECBAgQICBA+wABAgQIECBAgAABAgQIECBAgAABAgQILAIC9MJqlAABAgQIECBAgAABAgQIECBAgAABAgQEaB8gQIAAAQIECBAgQIAAAQIECBAgQIAAgUVAgF5YjRIgQIAAAQIECBAgQIAAAQIECBAgQICAAO0DBAgQIECAAAECBAgQIECAAAECBAgQILAICNALq1ECBAgQIECAAAECBAgQIECAAAECBAgQEKB9gAABAgQIECBAgAABAgQIECBAgAABAgQWAQF6YTVKgAABAgQIECBAgAABAgQIECBAgAABAgK0DxAgQIAAAQIECBAgQIAAAQIECBAgQIDAIiBAL6xGCRAgQIAAAQIECBAgQIAAAQIECBAgQECA9gECBAgQIECAAAECBAgQIECAAAECBAgQWAQE6IXVKAECBAgQIECAAAECBAgQIECAAAECBAgI0D5AgAABAgQIECBAgAABAgQIECBAgAABAouAAL2wGiVAgAABAgQIECBAgAABAgQIECBAgAABAdoHCBAgQIAAAQIECBAgQIAAAQIECBAgQGAREKAXVqMECBAgQIAAAQIECBAgQIAAAQIECBAgIED7AAECBAgQIECAAAECBAgQIECAAAECBAgsAgL0wmqUAAECBAgQIECAAAECBAgQIECAAAECBARoHyBAgAABAgQIECBAgAABAgQIECBAgACBRUCAXliNEiBAgAABAgQIECBAgAABAgQIECBAgIAA7QMECBAgQIAAAQIECBAgQIAAAQIECBAgsAgI0AurUQIECBAgQIAAAQIECBAgQIAAAQIECBAQoH2AAAECBAgQIECAAAECBAgQIECAAAECBBYBAXphNUqAAAECBAgQIECAAAECBAgQIECAAAECArQPECBAgAABAgQIECBAgAABAgQIECBAgMAiIEAvrEYJECBAgAABAgQIECBAgAABAgQIECBAQID2AQIECBAgQIAAAQIECBAgQIAAAQIECBBYBATohdUoAQIECBAgQIAAAQIECBAgQIAAAQIECAjQPkCAAAECBAgQIECAAAECBAgQIECAAAECi4AAvbAaJUCAAAECBAgQIECAAAECBAgQIECAAAEB2gcIECBAgAABAgQIECBAgAABAgQIECBAYBEQoBdWowQIECBAgAABAgQIECBAgAABAgQIECAgQPsAAQIECBAgQIAAAQIECBAgQIAAAQIECCwCAvTCapQAAQIECBAgQIAAAQIECBAgQIAAAQIEBGgfIECAAAECBAgQIECAAAECBAgQIECAAIFFQIBeWI0SIECAAAECBAgQIECAAAECBAgQIECAgADtAwQIECBAgAABAgQIECBAgAABAgQIECCwCAjQC6tRAgQIECBAgAABAgQIECBAgAABAgQIEBCgfYAAAQIECBAgQIAAAQIECBAgQIAAAQIEFgEBemE1SoAAAQIECBAgQIAAAQIECBAgQIAAAQICtA8QIECAAAECBAgQIECAAAECBAgQIECAwCIgQC+sRgkQIECAAAECBAgQIECAAAECBAgQIEBAgPYBAgQIECBAgAABAgQIECBAgAABAgQIEFgEBOiF1SgBAgQIECBAgAABAgQIECBAgAABAgQICNA+QIAAAQIECBAgQIAAAQIECBAgQIAAAQKLgAC9sBolQIAAAQIECBAgQIAAAQIECBAgQIAAAQHaBwgQIECAAAECBAgQIECAAAECBAgQIEBgERCgF1ajBAgQIECAAAECBAgQIECAAAECBAgQICBA+wABAgQIECBAgAABAgQIECBAgAABAgQILAIC9MJqlAABAgQIECBAgAABAgQIECBAgAABAgQEaB8gQIAAAQIECBAgQIAAAQIECBAgQIAAgUVAgF5YjRIgQIAAAQIECBAgQIAAAQIECBAgQICAAO0DBAgQIECAAAECBAgQIECAAAECBAgQILAICNALq1ECBAgQIECAAAECBAgQIECAAAECBAgQEKB9gAABAgQIECBAgAABAgQIECBAgAABAgQWAQF6YTVKgAABAgQIECBAgAABAgQIECBAgAABAgK0DxAgQIAAAQIECBAgQIAAAQIECBAgQIDAIiBAL6xGCRAgQIAAAQIECBAgQIAAAQIECBAgQECA9gECBAgQIECAAAECBAgQIECAAAECBAgQWAQE6IXVKAECBAgQIECAAAECBAgQIECAAAECBAgI0D5AgAABAgQIECBAgAABAgQIECBAgAABAouAAL2wGiVAgAABAgQIECBAgAABAgQIECBAgAABAdoHCBAgQIAAAQIECBAgQIAAAQIECBAgQGAREKAXVqMECBAgQIAAAQIECBAgQIAAAQIECBAgIED7AAECBAgQIECAAAECBAgQIECAAAECBAgsAgL0wmqUAAECBAgQIECAAAECBAgQIECAAAECBARoHyBAgAABAgQIECBAgAABAgQIECBAgACBRUCAXliNEiBAgAABAgQIECBAgAABAgQIECBAgIAA7QMECBAgQIAAAQIECBAgQIAAAQIECBAgsAgI0AurUQIECBAgQIAAAQIECBAgQIAAAQIECBAQoH2AAAECBAgQIECAAAECBAgQIECAAAECBBYBAXphNUqAAAECBAgQIECAAAECBAgQIECAAAECArQPECBAgAABAgQIECBAgAABAgQIECBAgMAiIEAvrEYJECBAgAABAgQIECBAgAABAgQIECBAQID2AQIECBAgQIAAAQIECBAgQIAAAQIECBBYBATohdUoAQIECBAgQIAAAQIECBAgQIAAAQIECAjQPkCAAAECBAgQIECAAAECBAgQIECAAAECi4AAvbAaJUCAAAECBAgQIECAAAECBAgQIECAAAEB2gcIECBAgAABAgQIECBAgAABAgQIECBAYBEQoBdWowQIECBAgAABAgQIECBAgAABAgQIECAgQPsAAQIECBAgQIAAAQIECBAgQIAAAQIECCwCAvTCapQAAQIECBAgQIAAAQIECBAgQIAAAQIEBGgfIECAAAECBAgQIECAAAECBAgQIECAAIFFQIBeWI0SIECAAAECBAgQIECAAAECBAgQIECAgADtAwQIECBAgAABAgQIECBAgAABAgQIECCwCAjQC6tRAgQIECBAgAABAgQIECBAgAABAgQIEBCgfYAAAQIECBAgQIAAAQIECBAgQIAAAQIEFgEBemE1SoAAAQIECBAgQIAAAQIECBAgQIAAAQICtA8QIECAAAECBAgQIECAAAECBAgQIECAwCIgQC+sRgkQIECAAAECBAgQIECAAAECBAgQIEBAgPYBAgQIECBAgAABAgQIECBAgAABAgQIEFgEBOiF1SgBAgQIECBAgAABAgQIECBAgAABAgQICNA+QIAAAQIECBAgQIAAAQIECBAgQIAAAQKLgAC9sBolQIAAAQIECBAgQIAAAQIECBAgQIAAAQHaBwgQIECAAAECBAgQIECAAAECBAgQIEBgERCgF1ajBAgQIECAAAECBAgQIECAAAECBAgQICBA+wABAgQIECBAgAABAgQIECBAgAABAgQILAIC9MJqlAABAgQIECBAgAABAgQIECBAgAABAgQEaB8gQIAAAQIECBAgQIAAAQIECBAgQIAAgUVAgF5YjRIgQIAAAQIECBAgQIAAAQIECBAgQICAAO0DBAgQIECAAAECBAgQIECAAAECBAgQILAICNALq1ECBAgQIECAAAECBAgQIECAAAECBAgQEKB9gAABAgQIECBAgAABAgQIECBAgAABAgQWAQF6YTVKgAABAgQIECBAgAABAgQIECBAgAABAgK0DxAgQIAAAQIECBAgQIAAAQIECBAgQIDAIiBAL6xGCRAgQIAAAQIECBAgQIAAAQIECBAgQECA9gECBAgQIECAAAECBAgQIECAAAECBAgQWAQE6IXVKAECBAgQIECAAAECBAgQIECAAAECBAgI0D5AgAABAgQIECBAgAABAgQIECBAgAABAouAAL2wGiVAgAABAgQIECBAgAABAgQIECBAgAABAdoHCBAgQIAAAQIECBAgQIAAAQIECBAgQGAREKAXVqMECBAgQIAAAQIECBAgQIAAAQIECBAgIED7AAECBAgQIECAQO3YIQ0AAADDMP+up2KsBg6aoxEgQIAAAQIECBAgQIDAIiBAL6xGCRAgQIAAAQIECBAgQIAAAQIECBAgQECA9gECBAgQIECAAAECBAgQIECAAAECBAgQWAQE6IXVKAECBAgQIECAAAECBAgQIECAAAECBAgI0D5AgAABAgQIECBAgAABAgQIECBAgAABAouAAL2wGiVAgAABAgQIECBAgAABAgQIECBAgAABAdoHCBAgQIAAAQIECBAgQIAAAQIECBAgQGAREKAXVqMECBAgQIAAAQIECBAgQIAAAQIECBAgIED7AAECBAgQIECAAAECBAgQIECAAAECBAgsAgL0wmqUAAECBAgQIECAAAECBAgQIECAAAECBARoHyBAgAABAgQIECBAgAABAgQIECBAgACBRUCAXliNEiBAgAABAgQIECBAgAABAgQIECBAgIAA7QMECBAgQIAAAQIECBAgQIAAAQIECBAgsAgI0AurUQIECBAgQIAAAQIECBAgQIAAAQIECBAQoH2AAAECBAgQIECAAAECBAgQIECAAAECBBYBAXphNUqAAAECBAgQIECAAAECBAgQIECAAAECAZsJBaEAvxo0AAAAAElFTkSuQmCC\" width=\"1440\">"
      ],
      "text/plain": [
       "<IPython.core.display.HTML object>"
      ]
     },
     "metadata": {},
     "output_type": "display_data"
    }
   ],
   "source": [
    "airlinedf.hist(figsize=(20,20));"
   ]
  },
  {
   "cell_type": "code",
   "execution_count": 187,
   "id": "welsh-locator",
   "metadata": {},
   "outputs": [
    {
     "data": {
      "application/javascript": [
       "/* Put everything inside the global mpl namespace */\n",
       "/* global mpl */\n",
       "window.mpl = {};\n",
       "\n",
       "mpl.get_websocket_type = function () {\n",
       "    if (typeof WebSocket !== 'undefined') {\n",
       "        return WebSocket;\n",
       "    } else if (typeof MozWebSocket !== 'undefined') {\n",
       "        return MozWebSocket;\n",
       "    } else {\n",
       "        alert(\n",
       "            'Your browser does not have WebSocket support. ' +\n",
       "                'Please try Chrome, Safari or Firefox ≥ 6. ' +\n",
       "                'Firefox 4 and 5 are also supported but you ' +\n",
       "                'have to enable WebSockets in about:config.'\n",
       "        );\n",
       "    }\n",
       "};\n",
       "\n",
       "mpl.figure = function (figure_id, websocket, ondownload, parent_element) {\n",
       "    this.id = figure_id;\n",
       "\n",
       "    this.ws = websocket;\n",
       "\n",
       "    this.supports_binary = this.ws.binaryType !== undefined;\n",
       "\n",
       "    if (!this.supports_binary) {\n",
       "        var warnings = document.getElementById('mpl-warnings');\n",
       "        if (warnings) {\n",
       "            warnings.style.display = 'block';\n",
       "            warnings.textContent =\n",
       "                'This browser does not support binary websocket messages. ' +\n",
       "                'Performance may be slow.';\n",
       "        }\n",
       "    }\n",
       "\n",
       "    this.imageObj = new Image();\n",
       "\n",
       "    this.context = undefined;\n",
       "    this.message = undefined;\n",
       "    this.canvas = undefined;\n",
       "    this.rubberband_canvas = undefined;\n",
       "    this.rubberband_context = undefined;\n",
       "    this.format_dropdown = undefined;\n",
       "\n",
       "    this.image_mode = 'full';\n",
       "\n",
       "    this.root = document.createElement('div');\n",
       "    this.root.setAttribute('style', 'display: inline-block');\n",
       "    this._root_extra_style(this.root);\n",
       "\n",
       "    parent_element.appendChild(this.root);\n",
       "\n",
       "    this._init_header(this);\n",
       "    this._init_canvas(this);\n",
       "    this._init_toolbar(this);\n",
       "\n",
       "    var fig = this;\n",
       "\n",
       "    this.waiting = false;\n",
       "\n",
       "    this.ws.onopen = function () {\n",
       "        fig.send_message('supports_binary', { value: fig.supports_binary });\n",
       "        fig.send_message('send_image_mode', {});\n",
       "        if (fig.ratio !== 1) {\n",
       "            fig.send_message('set_dpi_ratio', { dpi_ratio: fig.ratio });\n",
       "        }\n",
       "        fig.send_message('refresh', {});\n",
       "    };\n",
       "\n",
       "    this.imageObj.onload = function () {\n",
       "        if (fig.image_mode === 'full') {\n",
       "            // Full images could contain transparency (where diff images\n",
       "            // almost always do), so we need to clear the canvas so that\n",
       "            // there is no ghosting.\n",
       "            fig.context.clearRect(0, 0, fig.canvas.width, fig.canvas.height);\n",
       "        }\n",
       "        fig.context.drawImage(fig.imageObj, 0, 0);\n",
       "    };\n",
       "\n",
       "    this.imageObj.onunload = function () {\n",
       "        fig.ws.close();\n",
       "    };\n",
       "\n",
       "    this.ws.onmessage = this._make_on_message_function(this);\n",
       "\n",
       "    this.ondownload = ondownload;\n",
       "};\n",
       "\n",
       "mpl.figure.prototype._init_header = function () {\n",
       "    var titlebar = document.createElement('div');\n",
       "    titlebar.classList =\n",
       "        'ui-dialog-titlebar ui-widget-header ui-corner-all ui-helper-clearfix';\n",
       "    var titletext = document.createElement('div');\n",
       "    titletext.classList = 'ui-dialog-title';\n",
       "    titletext.setAttribute(\n",
       "        'style',\n",
       "        'width: 100%; text-align: center; padding: 3px;'\n",
       "    );\n",
       "    titlebar.appendChild(titletext);\n",
       "    this.root.appendChild(titlebar);\n",
       "    this.header = titletext;\n",
       "};\n",
       "\n",
       "mpl.figure.prototype._canvas_extra_style = function (_canvas_div) {};\n",
       "\n",
       "mpl.figure.prototype._root_extra_style = function (_canvas_div) {};\n",
       "\n",
       "mpl.figure.prototype._init_canvas = function () {\n",
       "    var fig = this;\n",
       "\n",
       "    var canvas_div = (this.canvas_div = document.createElement('div'));\n",
       "    canvas_div.setAttribute(\n",
       "        'style',\n",
       "        'border: 1px solid #ddd;' +\n",
       "            'box-sizing: content-box;' +\n",
       "            'clear: both;' +\n",
       "            'min-height: 1px;' +\n",
       "            'min-width: 1px;' +\n",
       "            'outline: 0;' +\n",
       "            'overflow: hidden;' +\n",
       "            'position: relative;' +\n",
       "            'resize: both;'\n",
       "    );\n",
       "\n",
       "    function on_keyboard_event_closure(name) {\n",
       "        return function (event) {\n",
       "            return fig.key_event(event, name);\n",
       "        };\n",
       "    }\n",
       "\n",
       "    canvas_div.addEventListener(\n",
       "        'keydown',\n",
       "        on_keyboard_event_closure('key_press')\n",
       "    );\n",
       "    canvas_div.addEventListener(\n",
       "        'keyup',\n",
       "        on_keyboard_event_closure('key_release')\n",
       "    );\n",
       "\n",
       "    this._canvas_extra_style(canvas_div);\n",
       "    this.root.appendChild(canvas_div);\n",
       "\n",
       "    var canvas = (this.canvas = document.createElement('canvas'));\n",
       "    canvas.classList.add('mpl-canvas');\n",
       "    canvas.setAttribute('style', 'box-sizing: content-box;');\n",
       "\n",
       "    this.context = canvas.getContext('2d');\n",
       "\n",
       "    var backingStore =\n",
       "        this.context.backingStorePixelRatio ||\n",
       "        this.context.webkitBackingStorePixelRatio ||\n",
       "        this.context.mozBackingStorePixelRatio ||\n",
       "        this.context.msBackingStorePixelRatio ||\n",
       "        this.context.oBackingStorePixelRatio ||\n",
       "        this.context.backingStorePixelRatio ||\n",
       "        1;\n",
       "\n",
       "    this.ratio = (window.devicePixelRatio || 1) / backingStore;\n",
       "\n",
       "    var rubberband_canvas = (this.rubberband_canvas = document.createElement(\n",
       "        'canvas'\n",
       "    ));\n",
       "    rubberband_canvas.setAttribute(\n",
       "        'style',\n",
       "        'box-sizing: content-box; position: absolute; left: 0; top: 0; z-index: 1;'\n",
       "    );\n",
       "\n",
       "    // Apply a ponyfill if ResizeObserver is not implemented by browser.\n",
       "    if (this.ResizeObserver === undefined) {\n",
       "        if (window.ResizeObserver !== undefined) {\n",
       "            this.ResizeObserver = window.ResizeObserver;\n",
       "        } else {\n",
       "            var obs = _JSXTOOLS_RESIZE_OBSERVER({});\n",
       "            this.ResizeObserver = obs.ResizeObserver;\n",
       "        }\n",
       "    }\n",
       "\n",
       "    this.resizeObserverInstance = new this.ResizeObserver(function (entries) {\n",
       "        var nentries = entries.length;\n",
       "        for (var i = 0; i < nentries; i++) {\n",
       "            var entry = entries[i];\n",
       "            var width, height;\n",
       "            if (entry.contentBoxSize) {\n",
       "                if (entry.contentBoxSize instanceof Array) {\n",
       "                    // Chrome 84 implements new version of spec.\n",
       "                    width = entry.contentBoxSize[0].inlineSize;\n",
       "                    height = entry.contentBoxSize[0].blockSize;\n",
       "                } else {\n",
       "                    // Firefox implements old version of spec.\n",
       "                    width = entry.contentBoxSize.inlineSize;\n",
       "                    height = entry.contentBoxSize.blockSize;\n",
       "                }\n",
       "            } else {\n",
       "                // Chrome <84 implements even older version of spec.\n",
       "                width = entry.contentRect.width;\n",
       "                height = entry.contentRect.height;\n",
       "            }\n",
       "\n",
       "            // Keep the size of the canvas and rubber band canvas in sync with\n",
       "            // the canvas container.\n",
       "            if (entry.devicePixelContentBoxSize) {\n",
       "                // Chrome 84 implements new version of spec.\n",
       "                canvas.setAttribute(\n",
       "                    'width',\n",
       "                    entry.devicePixelContentBoxSize[0].inlineSize\n",
       "                );\n",
       "                canvas.setAttribute(\n",
       "                    'height',\n",
       "                    entry.devicePixelContentBoxSize[0].blockSize\n",
       "                );\n",
       "            } else {\n",
       "                canvas.setAttribute('width', width * fig.ratio);\n",
       "                canvas.setAttribute('height', height * fig.ratio);\n",
       "            }\n",
       "            canvas.setAttribute(\n",
       "                'style',\n",
       "                'width: ' + width + 'px; height: ' + height + 'px;'\n",
       "            );\n",
       "\n",
       "            rubberband_canvas.setAttribute('width', width);\n",
       "            rubberband_canvas.setAttribute('height', height);\n",
       "\n",
       "            // And update the size in Python. We ignore the initial 0/0 size\n",
       "            // that occurs as the element is placed into the DOM, which should\n",
       "            // otherwise not happen due to the minimum size styling.\n",
       "            if (fig.ws.readyState == 1 && width != 0 && height != 0) {\n",
       "                fig.request_resize(width, height);\n",
       "            }\n",
       "        }\n",
       "    });\n",
       "    this.resizeObserverInstance.observe(canvas_div);\n",
       "\n",
       "    function on_mouse_event_closure(name) {\n",
       "        return function (event) {\n",
       "            return fig.mouse_event(event, name);\n",
       "        };\n",
       "    }\n",
       "\n",
       "    rubberband_canvas.addEventListener(\n",
       "        'mousedown',\n",
       "        on_mouse_event_closure('button_press')\n",
       "    );\n",
       "    rubberband_canvas.addEventListener(\n",
       "        'mouseup',\n",
       "        on_mouse_event_closure('button_release')\n",
       "    );\n",
       "    // Throttle sequential mouse events to 1 every 20ms.\n",
       "    rubberband_canvas.addEventListener(\n",
       "        'mousemove',\n",
       "        on_mouse_event_closure('motion_notify')\n",
       "    );\n",
       "\n",
       "    rubberband_canvas.addEventListener(\n",
       "        'mouseenter',\n",
       "        on_mouse_event_closure('figure_enter')\n",
       "    );\n",
       "    rubberband_canvas.addEventListener(\n",
       "        'mouseleave',\n",
       "        on_mouse_event_closure('figure_leave')\n",
       "    );\n",
       "\n",
       "    canvas_div.addEventListener('wheel', function (event) {\n",
       "        if (event.deltaY < 0) {\n",
       "            event.step = 1;\n",
       "        } else {\n",
       "            event.step = -1;\n",
       "        }\n",
       "        on_mouse_event_closure('scroll')(event);\n",
       "    });\n",
       "\n",
       "    canvas_div.appendChild(canvas);\n",
       "    canvas_div.appendChild(rubberband_canvas);\n",
       "\n",
       "    this.rubberband_context = rubberband_canvas.getContext('2d');\n",
       "    this.rubberband_context.strokeStyle = '#000000';\n",
       "\n",
       "    this._resize_canvas = function (width, height, forward) {\n",
       "        if (forward) {\n",
       "            canvas_div.style.width = width + 'px';\n",
       "            canvas_div.style.height = height + 'px';\n",
       "        }\n",
       "    };\n",
       "\n",
       "    // Disable right mouse context menu.\n",
       "    this.rubberband_canvas.addEventListener('contextmenu', function (_e) {\n",
       "        event.preventDefault();\n",
       "        return false;\n",
       "    });\n",
       "\n",
       "    function set_focus() {\n",
       "        canvas.focus();\n",
       "        canvas_div.focus();\n",
       "    }\n",
       "\n",
       "    window.setTimeout(set_focus, 100);\n",
       "};\n",
       "\n",
       "mpl.figure.prototype._init_toolbar = function () {\n",
       "    var fig = this;\n",
       "\n",
       "    var toolbar = document.createElement('div');\n",
       "    toolbar.classList = 'mpl-toolbar';\n",
       "    this.root.appendChild(toolbar);\n",
       "\n",
       "    function on_click_closure(name) {\n",
       "        return function (_event) {\n",
       "            return fig.toolbar_button_onclick(name);\n",
       "        };\n",
       "    }\n",
       "\n",
       "    function on_mouseover_closure(tooltip) {\n",
       "        return function (event) {\n",
       "            if (!event.currentTarget.disabled) {\n",
       "                return fig.toolbar_button_onmouseover(tooltip);\n",
       "            }\n",
       "        };\n",
       "    }\n",
       "\n",
       "    fig.buttons = {};\n",
       "    var buttonGroup = document.createElement('div');\n",
       "    buttonGroup.classList = 'mpl-button-group';\n",
       "    for (var toolbar_ind in mpl.toolbar_items) {\n",
       "        var name = mpl.toolbar_items[toolbar_ind][0];\n",
       "        var tooltip = mpl.toolbar_items[toolbar_ind][1];\n",
       "        var image = mpl.toolbar_items[toolbar_ind][2];\n",
       "        var method_name = mpl.toolbar_items[toolbar_ind][3];\n",
       "\n",
       "        if (!name) {\n",
       "            /* Instead of a spacer, we start a new button group. */\n",
       "            if (buttonGroup.hasChildNodes()) {\n",
       "                toolbar.appendChild(buttonGroup);\n",
       "            }\n",
       "            buttonGroup = document.createElement('div');\n",
       "            buttonGroup.classList = 'mpl-button-group';\n",
       "            continue;\n",
       "        }\n",
       "\n",
       "        var button = (fig.buttons[name] = document.createElement('button'));\n",
       "        button.classList = 'mpl-widget';\n",
       "        button.setAttribute('role', 'button');\n",
       "        button.setAttribute('aria-disabled', 'false');\n",
       "        button.addEventListener('click', on_click_closure(method_name));\n",
       "        button.addEventListener('mouseover', on_mouseover_closure(tooltip));\n",
       "\n",
       "        var icon_img = document.createElement('img');\n",
       "        icon_img.src = '_images/' + image + '.png';\n",
       "        icon_img.srcset = '_images/' + image + '_large.png 2x';\n",
       "        icon_img.alt = tooltip;\n",
       "        button.appendChild(icon_img);\n",
       "\n",
       "        buttonGroup.appendChild(button);\n",
       "    }\n",
       "\n",
       "    if (buttonGroup.hasChildNodes()) {\n",
       "        toolbar.appendChild(buttonGroup);\n",
       "    }\n",
       "\n",
       "    var fmt_picker = document.createElement('select');\n",
       "    fmt_picker.classList = 'mpl-widget';\n",
       "    toolbar.appendChild(fmt_picker);\n",
       "    this.format_dropdown = fmt_picker;\n",
       "\n",
       "    for (var ind in mpl.extensions) {\n",
       "        var fmt = mpl.extensions[ind];\n",
       "        var option = document.createElement('option');\n",
       "        option.selected = fmt === mpl.default_extension;\n",
       "        option.innerHTML = fmt;\n",
       "        fmt_picker.appendChild(option);\n",
       "    }\n",
       "\n",
       "    var status_bar = document.createElement('span');\n",
       "    status_bar.classList = 'mpl-message';\n",
       "    toolbar.appendChild(status_bar);\n",
       "    this.message = status_bar;\n",
       "};\n",
       "\n",
       "mpl.figure.prototype.request_resize = function (x_pixels, y_pixels) {\n",
       "    // Request matplotlib to resize the figure. Matplotlib will then trigger a resize in the client,\n",
       "    // which will in turn request a refresh of the image.\n",
       "    this.send_message('resize', { width: x_pixels, height: y_pixels });\n",
       "};\n",
       "\n",
       "mpl.figure.prototype.send_message = function (type, properties) {\n",
       "    properties['type'] = type;\n",
       "    properties['figure_id'] = this.id;\n",
       "    this.ws.send(JSON.stringify(properties));\n",
       "};\n",
       "\n",
       "mpl.figure.prototype.send_draw_message = function () {\n",
       "    if (!this.waiting) {\n",
       "        this.waiting = true;\n",
       "        this.ws.send(JSON.stringify({ type: 'draw', figure_id: this.id }));\n",
       "    }\n",
       "};\n",
       "\n",
       "mpl.figure.prototype.handle_save = function (fig, _msg) {\n",
       "    var format_dropdown = fig.format_dropdown;\n",
       "    var format = format_dropdown.options[format_dropdown.selectedIndex].value;\n",
       "    fig.ondownload(fig, format);\n",
       "};\n",
       "\n",
       "mpl.figure.prototype.handle_resize = function (fig, msg) {\n",
       "    var size = msg['size'];\n",
       "    if (size[0] !== fig.canvas.width || size[1] !== fig.canvas.height) {\n",
       "        fig._resize_canvas(size[0], size[1], msg['forward']);\n",
       "        fig.send_message('refresh', {});\n",
       "    }\n",
       "};\n",
       "\n",
       "mpl.figure.prototype.handle_rubberband = function (fig, msg) {\n",
       "    var x0 = msg['x0'] / fig.ratio;\n",
       "    var y0 = (fig.canvas.height - msg['y0']) / fig.ratio;\n",
       "    var x1 = msg['x1'] / fig.ratio;\n",
       "    var y1 = (fig.canvas.height - msg['y1']) / fig.ratio;\n",
       "    x0 = Math.floor(x0) + 0.5;\n",
       "    y0 = Math.floor(y0) + 0.5;\n",
       "    x1 = Math.floor(x1) + 0.5;\n",
       "    y1 = Math.floor(y1) + 0.5;\n",
       "    var min_x = Math.min(x0, x1);\n",
       "    var min_y = Math.min(y0, y1);\n",
       "    var width = Math.abs(x1 - x0);\n",
       "    var height = Math.abs(y1 - y0);\n",
       "\n",
       "    fig.rubberband_context.clearRect(\n",
       "        0,\n",
       "        0,\n",
       "        fig.canvas.width / fig.ratio,\n",
       "        fig.canvas.height / fig.ratio\n",
       "    );\n",
       "\n",
       "    fig.rubberband_context.strokeRect(min_x, min_y, width, height);\n",
       "};\n",
       "\n",
       "mpl.figure.prototype.handle_figure_label = function (fig, msg) {\n",
       "    // Updates the figure title.\n",
       "    fig.header.textContent = msg['label'];\n",
       "};\n",
       "\n",
       "mpl.figure.prototype.handle_cursor = function (fig, msg) {\n",
       "    var cursor = msg['cursor'];\n",
       "    switch (cursor) {\n",
       "        case 0:\n",
       "            cursor = 'pointer';\n",
       "            break;\n",
       "        case 1:\n",
       "            cursor = 'default';\n",
       "            break;\n",
       "        case 2:\n",
       "            cursor = 'crosshair';\n",
       "            break;\n",
       "        case 3:\n",
       "            cursor = 'move';\n",
       "            break;\n",
       "    }\n",
       "    fig.rubberband_canvas.style.cursor = cursor;\n",
       "};\n",
       "\n",
       "mpl.figure.prototype.handle_message = function (fig, msg) {\n",
       "    fig.message.textContent = msg['message'];\n",
       "};\n",
       "\n",
       "mpl.figure.prototype.handle_draw = function (fig, _msg) {\n",
       "    // Request the server to send over a new figure.\n",
       "    fig.send_draw_message();\n",
       "};\n",
       "\n",
       "mpl.figure.prototype.handle_image_mode = function (fig, msg) {\n",
       "    fig.image_mode = msg['mode'];\n",
       "};\n",
       "\n",
       "mpl.figure.prototype.handle_history_buttons = function (fig, msg) {\n",
       "    for (var key in msg) {\n",
       "        if (!(key in fig.buttons)) {\n",
       "            continue;\n",
       "        }\n",
       "        fig.buttons[key].disabled = !msg[key];\n",
       "        fig.buttons[key].setAttribute('aria-disabled', !msg[key]);\n",
       "    }\n",
       "};\n",
       "\n",
       "mpl.figure.prototype.handle_navigate_mode = function (fig, msg) {\n",
       "    if (msg['mode'] === 'PAN') {\n",
       "        fig.buttons['Pan'].classList.add('active');\n",
       "        fig.buttons['Zoom'].classList.remove('active');\n",
       "    } else if (msg['mode'] === 'ZOOM') {\n",
       "        fig.buttons['Pan'].classList.remove('active');\n",
       "        fig.buttons['Zoom'].classList.add('active');\n",
       "    } else {\n",
       "        fig.buttons['Pan'].classList.remove('active');\n",
       "        fig.buttons['Zoom'].classList.remove('active');\n",
       "    }\n",
       "};\n",
       "\n",
       "mpl.figure.prototype.updated_canvas_event = function () {\n",
       "    // Called whenever the canvas gets updated.\n",
       "    this.send_message('ack', {});\n",
       "};\n",
       "\n",
       "// A function to construct a web socket function for onmessage handling.\n",
       "// Called in the figure constructor.\n",
       "mpl.figure.prototype._make_on_message_function = function (fig) {\n",
       "    return function socket_on_message(evt) {\n",
       "        if (evt.data instanceof Blob) {\n",
       "            /* FIXME: We get \"Resource interpreted as Image but\n",
       "             * transferred with MIME type text/plain:\" errors on\n",
       "             * Chrome.  But how to set the MIME type?  It doesn't seem\n",
       "             * to be part of the websocket stream */\n",
       "            evt.data.type = 'image/png';\n",
       "\n",
       "            /* Free the memory for the previous frames */\n",
       "            if (fig.imageObj.src) {\n",
       "                (window.URL || window.webkitURL).revokeObjectURL(\n",
       "                    fig.imageObj.src\n",
       "                );\n",
       "            }\n",
       "\n",
       "            fig.imageObj.src = (window.URL || window.webkitURL).createObjectURL(\n",
       "                evt.data\n",
       "            );\n",
       "            fig.updated_canvas_event();\n",
       "            fig.waiting = false;\n",
       "            return;\n",
       "        } else if (\n",
       "            typeof evt.data === 'string' &&\n",
       "            evt.data.slice(0, 21) === 'data:image/png;base64'\n",
       "        ) {\n",
       "            fig.imageObj.src = evt.data;\n",
       "            fig.updated_canvas_event();\n",
       "            fig.waiting = false;\n",
       "            return;\n",
       "        }\n",
       "\n",
       "        var msg = JSON.parse(evt.data);\n",
       "        var msg_type = msg['type'];\n",
       "\n",
       "        // Call the  \"handle_{type}\" callback, which takes\n",
       "        // the figure and JSON message as its only arguments.\n",
       "        try {\n",
       "            var callback = fig['handle_' + msg_type];\n",
       "        } catch (e) {\n",
       "            console.log(\n",
       "                \"No handler for the '\" + msg_type + \"' message type: \",\n",
       "                msg\n",
       "            );\n",
       "            return;\n",
       "        }\n",
       "\n",
       "        if (callback) {\n",
       "            try {\n",
       "                // console.log(\"Handling '\" + msg_type + \"' message: \", msg);\n",
       "                callback(fig, msg);\n",
       "            } catch (e) {\n",
       "                console.log(\n",
       "                    \"Exception inside the 'handler_\" + msg_type + \"' callback:\",\n",
       "                    e,\n",
       "                    e.stack,\n",
       "                    msg\n",
       "                );\n",
       "            }\n",
       "        }\n",
       "    };\n",
       "};\n",
       "\n",
       "// from http://stackoverflow.com/questions/1114465/getting-mouse-location-in-canvas\n",
       "mpl.findpos = function (e) {\n",
       "    //this section is from http://www.quirksmode.org/js/events_properties.html\n",
       "    var targ;\n",
       "    if (!e) {\n",
       "        e = window.event;\n",
       "    }\n",
       "    if (e.target) {\n",
       "        targ = e.target;\n",
       "    } else if (e.srcElement) {\n",
       "        targ = e.srcElement;\n",
       "    }\n",
       "    if (targ.nodeType === 3) {\n",
       "        // defeat Safari bug\n",
       "        targ = targ.parentNode;\n",
       "    }\n",
       "\n",
       "    // pageX,Y are the mouse positions relative to the document\n",
       "    var boundingRect = targ.getBoundingClientRect();\n",
       "    var x = e.pageX - (boundingRect.left + document.body.scrollLeft);\n",
       "    var y = e.pageY - (boundingRect.top + document.body.scrollTop);\n",
       "\n",
       "    return { x: x, y: y };\n",
       "};\n",
       "\n",
       "/*\n",
       " * return a copy of an object with only non-object keys\n",
       " * we need this to avoid circular references\n",
       " * http://stackoverflow.com/a/24161582/3208463\n",
       " */\n",
       "function simpleKeys(original) {\n",
       "    return Object.keys(original).reduce(function (obj, key) {\n",
       "        if (typeof original[key] !== 'object') {\n",
       "            obj[key] = original[key];\n",
       "        }\n",
       "        return obj;\n",
       "    }, {});\n",
       "}\n",
       "\n",
       "mpl.figure.prototype.mouse_event = function (event, name) {\n",
       "    var canvas_pos = mpl.findpos(event);\n",
       "\n",
       "    if (name === 'button_press') {\n",
       "        this.canvas.focus();\n",
       "        this.canvas_div.focus();\n",
       "    }\n",
       "\n",
       "    var x = canvas_pos.x * this.ratio;\n",
       "    var y = canvas_pos.y * this.ratio;\n",
       "\n",
       "    this.send_message(name, {\n",
       "        x: x,\n",
       "        y: y,\n",
       "        button: event.button,\n",
       "        step: event.step,\n",
       "        guiEvent: simpleKeys(event),\n",
       "    });\n",
       "\n",
       "    /* This prevents the web browser from automatically changing to\n",
       "     * the text insertion cursor when the button is pressed.  We want\n",
       "     * to control all of the cursor setting manually through the\n",
       "     * 'cursor' event from matplotlib */\n",
       "    event.preventDefault();\n",
       "    return false;\n",
       "};\n",
       "\n",
       "mpl.figure.prototype._key_event_extra = function (_event, _name) {\n",
       "    // Handle any extra behaviour associated with a key event\n",
       "};\n",
       "\n",
       "mpl.figure.prototype.key_event = function (event, name) {\n",
       "    // Prevent repeat events\n",
       "    if (name === 'key_press') {\n",
       "        if (event.which === this._key) {\n",
       "            return;\n",
       "        } else {\n",
       "            this._key = event.which;\n",
       "        }\n",
       "    }\n",
       "    if (name === 'key_release') {\n",
       "        this._key = null;\n",
       "    }\n",
       "\n",
       "    var value = '';\n",
       "    if (event.ctrlKey && event.which !== 17) {\n",
       "        value += 'ctrl+';\n",
       "    }\n",
       "    if (event.altKey && event.which !== 18) {\n",
       "        value += 'alt+';\n",
       "    }\n",
       "    if (event.shiftKey && event.which !== 16) {\n",
       "        value += 'shift+';\n",
       "    }\n",
       "\n",
       "    value += 'k';\n",
       "    value += event.which.toString();\n",
       "\n",
       "    this._key_event_extra(event, name);\n",
       "\n",
       "    this.send_message(name, { key: value, guiEvent: simpleKeys(event) });\n",
       "    return false;\n",
       "};\n",
       "\n",
       "mpl.figure.prototype.toolbar_button_onclick = function (name) {\n",
       "    if (name === 'download') {\n",
       "        this.handle_save(this, null);\n",
       "    } else {\n",
       "        this.send_message('toolbar_button', { name: name });\n",
       "    }\n",
       "};\n",
       "\n",
       "mpl.figure.prototype.toolbar_button_onmouseover = function (tooltip) {\n",
       "    this.message.textContent = tooltip;\n",
       "};\n",
       "\n",
       "///////////////// REMAINING CONTENT GENERATED BY embed_js.py /////////////////\n",
       "// prettier-ignore\n",
       "var _JSXTOOLS_RESIZE_OBSERVER=function(A){var t,i=new WeakMap,n=new WeakMap,a=new WeakMap,r=new WeakMap,o=new Set;function s(e){if(!(this instanceof s))throw new TypeError(\"Constructor requires 'new' operator\");i.set(this,e)}function h(){throw new TypeError(\"Function is not a constructor\")}function c(e,t,i,n){e=0 in arguments?Number(arguments[0]):0,t=1 in arguments?Number(arguments[1]):0,i=2 in arguments?Number(arguments[2]):0,n=3 in arguments?Number(arguments[3]):0,this.right=(this.x=this.left=e)+(this.width=i),this.bottom=(this.y=this.top=t)+(this.height=n),Object.freeze(this)}function d(){t=requestAnimationFrame(d);var s=new WeakMap,p=new Set;o.forEach((function(t){r.get(t).forEach((function(i){var r=t instanceof window.SVGElement,o=a.get(t),d=r?0:parseFloat(o.paddingTop),f=r?0:parseFloat(o.paddingRight),l=r?0:parseFloat(o.paddingBottom),u=r?0:parseFloat(o.paddingLeft),g=r?0:parseFloat(o.borderTopWidth),m=r?0:parseFloat(o.borderRightWidth),w=r?0:parseFloat(o.borderBottomWidth),b=u+f,F=d+l,v=(r?0:parseFloat(o.borderLeftWidth))+m,W=g+w,y=r?0:t.offsetHeight-W-t.clientHeight,E=r?0:t.offsetWidth-v-t.clientWidth,R=b+v,z=F+W,M=r?t.width:parseFloat(o.width)-R-E,O=r?t.height:parseFloat(o.height)-z-y;if(n.has(t)){var k=n.get(t);if(k[0]===M&&k[1]===O)return}n.set(t,[M,O]);var S=Object.create(h.prototype);S.target=t,S.contentRect=new c(u,d,M,O),s.has(i)||(s.set(i,[]),p.add(i)),s.get(i).push(S)}))})),p.forEach((function(e){i.get(e).call(e,s.get(e),e)}))}return s.prototype.observe=function(i){if(i instanceof window.Element){r.has(i)||(r.set(i,new Set),o.add(i),a.set(i,window.getComputedStyle(i)));var n=r.get(i);n.has(this)||n.add(this),cancelAnimationFrame(t),t=requestAnimationFrame(d)}},s.prototype.unobserve=function(i){if(i instanceof window.Element&&r.has(i)){var n=r.get(i);n.has(this)&&(n.delete(this),n.size||(r.delete(i),o.delete(i))),n.size||r.delete(i),o.size||cancelAnimationFrame(t)}},A.DOMRectReadOnly=c,A.ResizeObserver=s,A.ResizeObserverEntry=h,A}; // eslint-disable-line\n",
       "mpl.toolbar_items = [[\"Home\", \"Reset original view\", \"fa fa-home icon-home\", \"home\"], [\"Back\", \"Back to previous view\", \"fa fa-arrow-left icon-arrow-left\", \"back\"], [\"Forward\", \"Forward to next view\", \"fa fa-arrow-right icon-arrow-right\", \"forward\"], [\"\", \"\", \"\", \"\"], [\"Pan\", \"Left button pans, Right button zooms\\nx/y fixes axis, CTRL fixes aspect\", \"fa fa-arrows icon-move\", \"pan\"], [\"Zoom\", \"Zoom to rectangle\\nx/y fixes axis, CTRL fixes aspect\", \"fa fa-square-o icon-check-empty\", \"zoom\"], [\"\", \"\", \"\", \"\"], [\"Download\", \"Download plot\", \"fa fa-floppy-o icon-save\", \"download\"]];\n",
       "\n",
       "mpl.extensions = [\"eps\", \"jpeg\", \"pdf\", \"png\", \"ps\", \"raw\", \"svg\", \"tif\"];\n",
       "\n",
       "mpl.default_extension = \"png\";/* global mpl */\n",
       "\n",
       "var comm_websocket_adapter = function (comm) {\n",
       "    // Create a \"websocket\"-like object which calls the given IPython comm\n",
       "    // object with the appropriate methods. Currently this is a non binary\n",
       "    // socket, so there is still some room for performance tuning.\n",
       "    var ws = {};\n",
       "\n",
       "    ws.close = function () {\n",
       "        comm.close();\n",
       "    };\n",
       "    ws.send = function (m) {\n",
       "        //console.log('sending', m);\n",
       "        comm.send(m);\n",
       "    };\n",
       "    // Register the callback with on_msg.\n",
       "    comm.on_msg(function (msg) {\n",
       "        //console.log('receiving', msg['content']['data'], msg);\n",
       "        // Pass the mpl event to the overridden (by mpl) onmessage function.\n",
       "        ws.onmessage(msg['content']['data']);\n",
       "    });\n",
       "    return ws;\n",
       "};\n",
       "\n",
       "mpl.mpl_figure_comm = function (comm, msg) {\n",
       "    // This is the function which gets called when the mpl process\n",
       "    // starts-up an IPython Comm through the \"matplotlib\" channel.\n",
       "\n",
       "    var id = msg.content.data.id;\n",
       "    // Get hold of the div created by the display call when the Comm\n",
       "    // socket was opened in Python.\n",
       "    var element = document.getElementById(id);\n",
       "    var ws_proxy = comm_websocket_adapter(comm);\n",
       "\n",
       "    function ondownload(figure, _format) {\n",
       "        window.open(figure.canvas.toDataURL());\n",
       "    }\n",
       "\n",
       "    var fig = new mpl.figure(id, ws_proxy, ondownload, element);\n",
       "\n",
       "    // Call onopen now - mpl needs it, as it is assuming we've passed it a real\n",
       "    // web socket which is closed, not our websocket->open comm proxy.\n",
       "    ws_proxy.onopen();\n",
       "\n",
       "    fig.parent_element = element;\n",
       "    fig.cell_info = mpl.find_output_cell(\"<div id='\" + id + \"'></div>\");\n",
       "    if (!fig.cell_info) {\n",
       "        console.error('Failed to find cell for figure', id, fig);\n",
       "        return;\n",
       "    }\n",
       "    fig.cell_info[0].output_area.element.on(\n",
       "        'cleared',\n",
       "        { fig: fig },\n",
       "        fig._remove_fig_handler\n",
       "    );\n",
       "};\n",
       "\n",
       "mpl.figure.prototype.handle_close = function (fig, msg) {\n",
       "    var width = fig.canvas.width / fig.ratio;\n",
       "    fig.cell_info[0].output_area.element.off(\n",
       "        'cleared',\n",
       "        fig._remove_fig_handler\n",
       "    );\n",
       "    fig.resizeObserverInstance.unobserve(fig.canvas_div);\n",
       "\n",
       "    // Update the output cell to use the data from the current canvas.\n",
       "    fig.push_to_output();\n",
       "    var dataURL = fig.canvas.toDataURL();\n",
       "    // Re-enable the keyboard manager in IPython - without this line, in FF,\n",
       "    // the notebook keyboard shortcuts fail.\n",
       "    IPython.keyboard_manager.enable();\n",
       "    fig.parent_element.innerHTML =\n",
       "        '<img src=\"' + dataURL + '\" width=\"' + width + '\">';\n",
       "    fig.close_ws(fig, msg);\n",
       "};\n",
       "\n",
       "mpl.figure.prototype.close_ws = function (fig, msg) {\n",
       "    fig.send_message('closing', msg);\n",
       "    // fig.ws.close()\n",
       "};\n",
       "\n",
       "mpl.figure.prototype.push_to_output = function (_remove_interactive) {\n",
       "    // Turn the data on the canvas into data in the output cell.\n",
       "    var width = this.canvas.width / this.ratio;\n",
       "    var dataURL = this.canvas.toDataURL();\n",
       "    this.cell_info[1]['text/html'] =\n",
       "        '<img src=\"' + dataURL + '\" width=\"' + width + '\">';\n",
       "};\n",
       "\n",
       "mpl.figure.prototype.updated_canvas_event = function () {\n",
       "    // Tell IPython that the notebook contents must change.\n",
       "    IPython.notebook.set_dirty(true);\n",
       "    this.send_message('ack', {});\n",
       "    var fig = this;\n",
       "    // Wait a second, then push the new image to the DOM so\n",
       "    // that it is saved nicely (might be nice to debounce this).\n",
       "    setTimeout(function () {\n",
       "        fig.push_to_output();\n",
       "    }, 1000);\n",
       "};\n",
       "\n",
       "mpl.figure.prototype._init_toolbar = function () {\n",
       "    var fig = this;\n",
       "\n",
       "    var toolbar = document.createElement('div');\n",
       "    toolbar.classList = 'btn-toolbar';\n",
       "    this.root.appendChild(toolbar);\n",
       "\n",
       "    function on_click_closure(name) {\n",
       "        return function (_event) {\n",
       "            return fig.toolbar_button_onclick(name);\n",
       "        };\n",
       "    }\n",
       "\n",
       "    function on_mouseover_closure(tooltip) {\n",
       "        return function (event) {\n",
       "            if (!event.currentTarget.disabled) {\n",
       "                return fig.toolbar_button_onmouseover(tooltip);\n",
       "            }\n",
       "        };\n",
       "    }\n",
       "\n",
       "    fig.buttons = {};\n",
       "    var buttonGroup = document.createElement('div');\n",
       "    buttonGroup.classList = 'btn-group';\n",
       "    var button;\n",
       "    for (var toolbar_ind in mpl.toolbar_items) {\n",
       "        var name = mpl.toolbar_items[toolbar_ind][0];\n",
       "        var tooltip = mpl.toolbar_items[toolbar_ind][1];\n",
       "        var image = mpl.toolbar_items[toolbar_ind][2];\n",
       "        var method_name = mpl.toolbar_items[toolbar_ind][3];\n",
       "\n",
       "        if (!name) {\n",
       "            /* Instead of a spacer, we start a new button group. */\n",
       "            if (buttonGroup.hasChildNodes()) {\n",
       "                toolbar.appendChild(buttonGroup);\n",
       "            }\n",
       "            buttonGroup = document.createElement('div');\n",
       "            buttonGroup.classList = 'btn-group';\n",
       "            continue;\n",
       "        }\n",
       "\n",
       "        button = fig.buttons[name] = document.createElement('button');\n",
       "        button.classList = 'btn btn-default';\n",
       "        button.href = '#';\n",
       "        button.title = name;\n",
       "        button.innerHTML = '<i class=\"fa ' + image + ' fa-lg\"></i>';\n",
       "        button.addEventListener('click', on_click_closure(method_name));\n",
       "        button.addEventListener('mouseover', on_mouseover_closure(tooltip));\n",
       "        buttonGroup.appendChild(button);\n",
       "    }\n",
       "\n",
       "    if (buttonGroup.hasChildNodes()) {\n",
       "        toolbar.appendChild(buttonGroup);\n",
       "    }\n",
       "\n",
       "    // Add the status bar.\n",
       "    var status_bar = document.createElement('span');\n",
       "    status_bar.classList = 'mpl-message pull-right';\n",
       "    toolbar.appendChild(status_bar);\n",
       "    this.message = status_bar;\n",
       "\n",
       "    // Add the close button to the window.\n",
       "    var buttongrp = document.createElement('div');\n",
       "    buttongrp.classList = 'btn-group inline pull-right';\n",
       "    button = document.createElement('button');\n",
       "    button.classList = 'btn btn-mini btn-primary';\n",
       "    button.href = '#';\n",
       "    button.title = 'Stop Interaction';\n",
       "    button.innerHTML = '<i class=\"fa fa-power-off icon-remove icon-large\"></i>';\n",
       "    button.addEventListener('click', function (_evt) {\n",
       "        fig.handle_close(fig, {});\n",
       "    });\n",
       "    button.addEventListener(\n",
       "        'mouseover',\n",
       "        on_mouseover_closure('Stop Interaction')\n",
       "    );\n",
       "    buttongrp.appendChild(button);\n",
       "    var titlebar = this.root.querySelector('.ui-dialog-titlebar');\n",
       "    titlebar.insertBefore(buttongrp, titlebar.firstChild);\n",
       "};\n",
       "\n",
       "mpl.figure.prototype._remove_fig_handler = function (event) {\n",
       "    var fig = event.data.fig;\n",
       "    if (event.target !== this) {\n",
       "        // Ignore bubbled events from children.\n",
       "        return;\n",
       "    }\n",
       "    fig.close_ws(fig, {});\n",
       "};\n",
       "\n",
       "mpl.figure.prototype._root_extra_style = function (el) {\n",
       "    el.style.boxSizing = 'content-box'; // override notebook setting of border-box.\n",
       "};\n",
       "\n",
       "mpl.figure.prototype._canvas_extra_style = function (el) {\n",
       "    // this is important to make the div 'focusable\n",
       "    el.setAttribute('tabindex', 0);\n",
       "    // reach out to IPython and tell the keyboard manager to turn it's self\n",
       "    // off when our div gets focus\n",
       "\n",
       "    // location in version 3\n",
       "    if (IPython.notebook.keyboard_manager) {\n",
       "        IPython.notebook.keyboard_manager.register_events(el);\n",
       "    } else {\n",
       "        // location in version 2\n",
       "        IPython.keyboard_manager.register_events(el);\n",
       "    }\n",
       "};\n",
       "\n",
       "mpl.figure.prototype._key_event_extra = function (event, _name) {\n",
       "    var manager = IPython.notebook.keyboard_manager;\n",
       "    if (!manager) {\n",
       "        manager = IPython.keyboard_manager;\n",
       "    }\n",
       "\n",
       "    // Check for shift+enter\n",
       "    if (event.shiftKey && event.which === 13) {\n",
       "        this.canvas_div.blur();\n",
       "        // select the cell after this one\n",
       "        var index = IPython.notebook.find_cell_index(this.cell_info[0]);\n",
       "        IPython.notebook.select(index + 1);\n",
       "    }\n",
       "};\n",
       "\n",
       "mpl.figure.prototype.handle_save = function (fig, _msg) {\n",
       "    fig.ondownload(fig, null);\n",
       "};\n",
       "\n",
       "mpl.find_output_cell = function (html_output) {\n",
       "    // Return the cell and output element which can be found *uniquely* in the notebook.\n",
       "    // Note - this is a bit hacky, but it is done because the \"notebook_saving.Notebook\"\n",
       "    // IPython event is triggered only after the cells have been serialised, which for\n",
       "    // our purposes (turning an active figure into a static one), is too late.\n",
       "    var cells = IPython.notebook.get_cells();\n",
       "    var ncells = cells.length;\n",
       "    for (var i = 0; i < ncells; i++) {\n",
       "        var cell = cells[i];\n",
       "        if (cell.cell_type === 'code') {\n",
       "            for (var j = 0; j < cell.output_area.outputs.length; j++) {\n",
       "                var data = cell.output_area.outputs[j];\n",
       "                if (data.data) {\n",
       "                    // IPython >= 3 moved mimebundle to data attribute of output\n",
       "                    data = data.data;\n",
       "                }\n",
       "                if (data['text/html'] === html_output) {\n",
       "                    return [cell, data, j];\n",
       "                }\n",
       "            }\n",
       "        }\n",
       "    }\n",
       "};\n",
       "\n",
       "// Register the function which deals with the matplotlib target/channel.\n",
       "// The kernel may be null if the page has been refreshed.\n",
       "if (IPython.notebook.kernel !== null) {\n",
       "    IPython.notebook.kernel.comm_manager.register_target(\n",
       "        'matplotlib',\n",
       "        mpl.mpl_figure_comm\n",
       "    );\n",
       "}\n"
      ],
      "text/plain": [
       "<IPython.core.display.Javascript object>"
      ]
     },
     "metadata": {},
     "output_type": "display_data"
    },
    {
     "data": {
      "text/html": [
       "<img src=\"data:image/png;base64,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\" width=\"1440\">"
      ],
      "text/plain": [
       "<IPython.core.display.HTML object>"
      ]
     },
     "metadata": {},
     "output_type": "display_data"
    }
   ],
   "source": [
    "plt.figure(figsize=(20,20))\n",
    "sns.heatmap(airlinedf.corr(), annot=True);"
   ]
  },
  {
   "cell_type": "code",
   "execution_count": 188,
   "id": "disciplinary-leonard",
   "metadata": {},
   "outputs": [
    {
     "data": {
      "text/plain": [
       "(2000, 26)"
      ]
     },
     "execution_count": 188,
     "metadata": {},
     "output_type": "execute_result"
    }
   ],
   "source": [
    "airlinedf1=airlinedf.sample(n=2000)\n",
    "airlinedf1.shape\n",
    "\n"
   ]
  },
  {
   "cell_type": "code",
   "execution_count": 189,
   "id": "genuine-final",
   "metadata": {},
   "outputs": [],
   "source": [
    "target_var=airlinedf1['satisfaction']\n",
    "airlinedf1 = airlinedf1.drop('satisfaction',axis=1)\n",
    "\n"
   ]
  },
  {
   "cell_type": "markdown",
   "id": "three-toronto",
   "metadata": {},
   "source": [
    "## Data Preparation"
   ]
  },
  {
   "cell_type": "code",
   "execution_count": 190,
   "id": "happy-audio",
   "metadata": {},
   "outputs": [],
   "source": [
    "from sklearn.model_selection import train_test_split\n",
    "from sklearn.preprocessing import MinMaxScaler\n",
    "\n",
    "\n",
    "Xtrainss2, xtestss2, ytrainss2, ytestss2 = train_test_split(airlinedf1, target_var, random_state=0,test_size=0.2)\n"
   ]
  },
  {
   "cell_type": "markdown",
   "id": "improved-increase",
   "metadata": {},
   "source": [
    "MinMax Scaler helps normalize the data. Since the scale of values in the columns are different, they can have different impact on the coefficients of the models. In order normalize the impact of features during prediction we used the Min Max Scalar.\n",
    "\n"
   ]
  },
  {
   "cell_type": "code",
   "execution_count": 191,
   "id": "human-forum",
   "metadata": {},
   "outputs": [],
   "source": [
    "scaler = MinMaxScaler()\n",
    "XTrainss2 = scaler.fit_transform(Xtrainss2)\n",
    "XTestss2 = scaler.transform(xtestss2)\n",
    "\n",
    "XTrainss2  = pd.DataFrame(XTrainss2)\n",
    "XTestss2 = pd.DataFrame(XTestss2)\n",
    "XTrainss2.columns = airlinedf1.columns\n",
    "XTestss2.columns = airlinedf1.columns\n"
   ]
  },
  {
   "cell_type": "markdown",
   "id": "dutch-motivation",
   "metadata": {},
   "source": [
    "# Voting Classification\n",
    "\n"
   ]
  },
  {
   "cell_type": "markdown",
   "id": "medieval-smoke",
   "metadata": {},
   "source": [
    "####  Grid search for logistic "
   ]
  },
  {
   "cell_type": "code",
   "execution_count": 192,
   "id": "treated-russell",
   "metadata": {},
   "outputs": [
    {
     "name": "stdout",
     "output_type": "stream",
     "text": [
      "Fitting 5 folds for each of 1592 candidates, totalling 7960 fits\n",
      "Best score 0.865625\n",
      "Best Parameter {'C': 100, 'max_iter': 27, 'penalty': 'l2'}\n"
     ]
    }
   ],
   "source": [
    "paramgridlog = { 'max_iter' : range(1,200), \n",
    "                  'penalty' : ['l1','l2'],\n",
    "                'C' : [ 0.1, 1, 10, 100]}\n",
    "\n",
    "gslog = GridSearchCV(estimator = LogisticRegression(),param_grid =paramgridlog, cv = 5, verbose = 1, n_jobs = -1)\n",
    "gslogmodel = gslog.fit(XTrainss2, ytrainss2)\n",
    "\n",
    "print('Best score',gslogmodel.best_score_)\n",
    "print('Best Parameter',gslog.best_params_)\n"
   ]
  },
  {
   "cell_type": "markdown",
   "id": "dental-confidence",
   "metadata": {},
   "source": [
    "#### Grid search for decision tree"
   ]
  },
  {
   "cell_type": "code",
   "execution_count": 193,
   "id": "hungarian-volleyball",
   "metadata": {},
   "outputs": [
    {
     "name": "stdout",
     "output_type": "stream",
     "text": [
      "Fitting 10 folds for each of 6 candidates, totalling 60 fits\n",
      "Best parameters: {'max_depth': 6}\n",
      "Best cross-validation score: 0.915000\n"
     ]
    }
   ],
   "source": [
    "paramgriddc = {'max_depth': np.arange(1, 7)}\n",
    "griddc = GridSearchCV(DecisionTreeClassifier(random_state=0), paramgriddc, cv=10, return_train_score=True, verbose=True)\n",
    "griddc.fit(XTrainss2, ytrainss2)\n",
    "\n",
    "print(\"Best parameters: {}\".format(griddc.best_params_))\n",
    "print(\"Best cross-validation score: {:.6f}\".format(griddc.best_score_))"
   ]
  },
  {
   "cell_type": "markdown",
   "id": "asian-alignment",
   "metadata": {},
   "source": [
    "### Hard voting"
   ]
  },
  {
   "cell_type": "code",
   "execution_count": 194,
   "id": "copyrighted-tender",
   "metadata": {},
   "outputs": [
    {
     "name": "stdout",
     "output_type": "stream",
     "text": [
      "LogisticRegression 0.8575\n",
      "DecisionTreeClassifier 0.8875\n",
      "VotingClassifier 0.8675\n"
     ]
    }
   ],
   "source": [
    "from sklearn.ensemble import VotingClassifier\n",
    "loghv = LogisticRegression(random_state= 0, C = 100, max_iter = 27)\n",
    "loghv.fit(XTrainss2, ytrainss2)\n",
    "\n",
    "dthv = DecisionTreeClassifier(max_depth = 6, random_state = 0)\n",
    "dthv.fit(XTrainss2, ytrainss2)\n",
    "\n",
    "\n",
    "Hvoting = VotingClassifier(estimators=[('lr', loghv), ('dt', dthv),], voting='hard')\n",
    "Hvoting.fit(XTrainss2, ytrainss2)\n",
    "\n",
    "\n",
    "for clfss in (loghv, dthv, Hvoting):\n",
    "    clfss.fit(XTrainss2, ytrainss2)\n",
    "    ypredss22 = clfss.predict(XTestss2)\n",
    "    print(clfss.__class__.__name__, '%.4f'%accuracy_score(ytestss2, ypredss22))"
   ]
  },
  {
   "cell_type": "markdown",
   "id": "executed-pastor",
   "metadata": {},
   "source": [
    "### Soft Voting"
   ]
  },
  {
   "cell_type": "code",
   "execution_count": 195,
   "id": "potential-thing",
   "metadata": {},
   "outputs": [
    {
     "name": "stdout",
     "output_type": "stream",
     "text": [
      "LogisticRegression 0.8575\n",
      "DecisionTreeClassifier 0.9000\n",
      "VotingClassifier 0.9100\n"
     ]
    }
   ],
   "source": [
    "logsv = LogisticRegression(random_state= 0, C = 100, max_iter = 27)\n",
    "logsv.fit(XTrainss2, ytrainss2)\n",
    "\n",
    "dtsv = DecisionTreeClassifier(max_depth = 8, random_state = 0)\n",
    "dtsv.fit(XTrainss2, ytrainss2)\n",
    "\n",
    "Svoting = VotingClassifier(estimators=[('lr', logsv), ('dt', dtsv)], voting='soft')\n",
    "Svoting.fit(XTrainss2, ytrainss2)\n",
    "\n",
    "for clfss in (logsv, dtsv,Svoting):\n",
    "    clfss.fit(XTrainss2, ytrainss2)\n",
    "    ypredss22 = clfss.predict(XTestss2)\n",
    "    print(clfss.__class__.__name__, '%.4f'%accuracy_score(ytestss2, ypredss22))\n"
   ]
  },
  {
   "cell_type": "markdown",
   "id": "supposed-average",
   "metadata": {},
   "source": [
    "# Bagging Classifier"
   ]
  },
  {
   "cell_type": "markdown",
   "id": "atomic-pricing",
   "metadata": {},
   "source": [
    "### 1.Bagging on decision Tree"
   ]
  },
  {
   "cell_type": "markdown",
   "id": "round-satellite",
   "metadata": {},
   "source": [
    "__Grid search for Bagging__"
   ]
  },
  {
   "cell_type": "code",
   "execution_count": 196,
   "id": "coastal-scholar",
   "metadata": {},
   "outputs": [
    {
     "name": "stdout",
     "output_type": "stream",
     "text": [
      "Best Parameters: {'max_features': 0.5, 'max_samples': 0.5, 'n_estimators': 300}\n",
      "Best Score: 0.9325000000000001\n"
     ]
    }
   ],
   "source": [
    "from sklearn.ensemble import BaggingClassifier\n",
    "from sklearn.tree import DecisionTreeClassifier\n",
    "from sklearn.model_selection import GridSearchCV\n",
    "\n",
    "paramgridss2 = {'n_estimators':[200, 300, 400, 500], \n",
    "              'max_samples':[0.1, 0.2, 0.3, 0.4, 0.5], \n",
    "              'max_features':[0.1, 0.2, 0.3, 0.5]}\n",
    "\n",
    "bagclfss = BaggingClassifier(DecisionTreeClassifier(random_state = 0))\n",
    "baggridss = GridSearchCV(bagclfss, paramgridss2, cv = 5, n_jobs = -1)\n",
    "baggridss.fit(XTrainss2, ytrainss2)\n",
    "\n",
    "print('Best Parameters:',baggridss.best_params_)\n",
    "print('Best Score:',baggridss.best_score_)"
   ]
  },
  {
   "cell_type": "markdown",
   "id": "prospective-concentration",
   "metadata": {},
   "source": [
    "#### Grid search for decision tree"
   ]
  },
  {
   "cell_type": "code",
   "execution_count": 197,
   "id": "overall-premiere",
   "metadata": {},
   "outputs": [
    {
     "name": "stdout",
     "output_type": "stream",
     "text": [
      "Fitting 10 folds for each of 9 candidates, totalling 90 fits\n",
      "Best parameters {'max_depth': 6}\n",
      "Best score 0.915\n"
     ]
    }
   ],
   "source": [
    "paramgriddc = {'max_depth': np.arange(1, 10)}\n",
    "griddc = GridSearchCV(DecisionTreeClassifier(random_state=0), paramgriddc, cv=10, return_train_score=True, verbose=True)\n",
    "griddc.fit(XTrainss2, ytrainss2)\n",
    "\n",
    "print(\"Best parameters\",(griddc.best_params_))\n",
    "print(\"Best score\",(griddc.best_score_))"
   ]
  },
  {
   "cell_type": "markdown",
   "id": "imposed-classification",
   "metadata": {},
   "source": [
    "__Bagging classifier using best parameters__"
   ]
  },
  {
   "cell_type": "code",
   "execution_count": 198,
   "id": "terminal-reunion",
   "metadata": {},
   "outputs": [
    {
     "name": "stdout",
     "output_type": "stream",
     "text": [
      "Train score: 0.9575\n",
      "Test score: 0.915\n",
      "Out-of-bag score: 0.93\n",
      "Accuracy :  0.91\n"
     ]
    }
   ],
   "source": [
    "bagclfss = BaggingClassifier(DecisionTreeClassifier(max_depth = 6, random_state = 0), \n",
    "                           bootstrap= True, max_features= 0.5,max_samples=baggridss.best_params_['max_samples'] ,\n",
    "                           n_estimators= baggridss.best_params_['n_estimators'], oob_score= True)\n",
    "\n",
    "bagclfss.fit(XTrainss2, ytrainss2)\n",
    "ypredss2 = bagclfss.predict(XTestss2)\n",
    "\n",
    "print('Train score:',bagclfss.score(XTrainss2, ytrainss2))\n",
    "print('Test score:',bagclfss.score(XTestss2, ytestss2))\n",
    "print('Out-of-bag score:',bagclfss.oob_score_)\n",
    "print(\"Accuracy : \", accuracy_score(ytestss2, ypredss22))"
   ]
  },
  {
   "cell_type": "code",
   "execution_count": 199,
   "id": "viral-think",
   "metadata": {},
   "outputs": [
    {
     "name": "stdout",
     "output_type": "stream",
     "text": [
      " Matrix \n",
      "[[217  14]\n",
      " [ 22 147]]\n"
     ]
    }
   ],
   "source": [
    "\n",
    "bagclfss_mat = confusion_matrix(ypredss22,ytestss2)\n",
    "print(\" Matrix \\n{}\".format(bagclfss_mat))\n"
   ]
  },
  {
   "cell_type": "code",
   "execution_count": 200,
   "id": "adult-policy",
   "metadata": {},
   "outputs": [
    {
     "data": {
      "image/png": "[encoded data removed]",
      "text/plain": [
       "<Figure size 432x288 with 1 Axes>"
      ]
     },
     "metadata": {
      "needs_background": "light"
     },
     "output_type": "display_data"
    }
   ],
   "source": [
    "import mglearn\n",
    "%matplotlib inline\n",
    "\n",
    "imagess = mglearn.tools.heatmap(\n",
    "    confusion_matrix(ypredss2, ytestss2), xlabel = 'Predicted_value',\n",
    "    ylabel='True_value', xticklabels = ['Satisfied','Dissatisfied'],\n",
    "    yticklabels=['Satisfied','Dissatisfied'], fmt=\"%d\")\n",
    "\n"
   ]
  },
  {
   "cell_type": "code",
   "execution_count": 201,
   "id": "bottom-failing",
   "metadata": {},
   "outputs": [
    {
     "name": "stdout",
     "output_type": "stream",
     "text": [
      "              precision    recall  f1-score   support\n",
      "\n",
      "   Satisfied       0.93      0.92      0.93       239\n",
      "Dissatisfied       0.89      0.90      0.90       161\n",
      "\n",
      "    accuracy                           0.92       400\n",
      "   macro avg       0.91      0.91      0.91       400\n",
      "weighted avg       0.92      0.92      0.92       400\n",
      "\n"
     ]
    }
   ],
   "source": [
    "print(classification_report(ytestss2, ypredss2, target_names=['Satisfied','Dissatisfied']))"
   ]
  },
  {
   "cell_type": "markdown",
   "id": "described-current",
   "metadata": {},
   "source": [
    "### 2. Bagging on Random Forest"
   ]
  },
  {
   "cell_type": "markdown",
   "id": "synthetic-portuguese",
   "metadata": {},
   "source": [
    "#### Grid search for Random forest "
   ]
  },
  {
   "cell_type": "code",
   "execution_count": 202,
   "id": "loving-vanilla",
   "metadata": {},
   "outputs": [
    {
     "name": "stdout",
     "output_type": "stream",
     "text": [
      "Best parameters:  {'max_depth': 9, 'n_estimators': 200}\n",
      "Best cross-validation score:  0.93125\n"
     ]
    }
   ],
   "source": [
    "paramgridss = {'n_estimators': [100,200,300,400],\n",
    "              'max_depth': [1,2,3,4,5,6,7,8,9,10]}\n",
    "\n",
    "gridsearchpcass = GridSearchCV(RandomForestClassifier(), paramgridss, cv=10, return_train_score=True)\n",
    "gridsearchpcass.fit(XTrainss2, ytrainss2)\n",
    "print(\"Best parameters: \",(gridsearchpcass.best_params_))\n",
    "print(\"Best cross-validation score: \",(gridsearchpcass.best_score_))"
   ]
  },
  {
   "cell_type": "code",
   "execution_count": 203,
   "id": "supported-ambassador",
   "metadata": {},
   "outputs": [
    {
     "name": "stdout",
     "output_type": "stream",
     "text": [
      "Train score :  0.99\n",
      "Test score  0.91\n",
      "Accuracy  :  0.91\n"
     ]
    }
   ],
   "source": [
    "rndss = RandomForestClassifier(n_estimators=300, max_depth = 10, bootstrap=True, n_jobs=-1, random_state=0)\n",
    "rndss.fit(XTrainss2, ytrainss2)\n",
    "\n",
    "ypredss2 = rndss.predict(XTestss2)\n",
    "\n",
    "print('Train score : ',(rndss.score(XTrainss2, ytrainss2)))\n",
    "print('Test score ',(rndss.score(XTestss2, ytestss2)))\n",
    "print(\"Accuracy  : \", accuracy_score(ytestss2, ypredss2).round(4))"
   ]
  },
  {
   "cell_type": "code",
   "execution_count": 204,
   "id": "curious-settlement",
   "metadata": {},
   "outputs": [
    {
     "name": "stdout",
     "output_type": "stream",
     "text": [
      "matrix \n",
      "[[218  15]\n",
      " [ 21 146]]\n"
     ]
    }
   ],
   "source": [
    "\n",
    "bagclfss_mat = confusion_matrix(ypredss2,ytestss2)\n",
    "print(\"matrix \\n{}\".format(bagclfss_mat))\n"
   ]
  },
  {
   "cell_type": "code",
   "execution_count": 205,
   "id": "satellite-competition",
   "metadata": {},
   "outputs": [
    {
     "data": {
      "image/png": "[encoded data removed]",
      "text/plain": [
       "<Figure size 432x288 with 1 Axes>"
      ]
     },
     "metadata": {
      "needs_background": "light"
     },
     "output_type": "display_data"
    }
   ],
   "source": [
    "import mglearn\n",
    "%matplotlib inline\n",
    "\n",
    "imagess = mglearn.tools.heatmap(\n",
    "    confusion_matrix(ypredss2, ytestss2), xlabel = 'Predicted_value',\n",
    "    ylabel='True_value', xticklabels = ['Satisfied','Dissatisfied'],\n",
    "    yticklabels=['Satisfied','Dissatisfied'], fmt=\"%d\")\n"
   ]
  },
  {
   "cell_type": "code",
   "execution_count": 206,
   "id": "directed-turkish",
   "metadata": {},
   "outputs": [
    {
     "name": "stdout",
     "output_type": "stream",
     "text": [
      "              precision    recall  f1-score   support\n",
      "\n",
      "   Satisfied       0.94      0.91      0.92       239\n",
      "Dissatisfied       0.87      0.91      0.89       161\n",
      "\n",
      "    accuracy                           0.91       400\n",
      "   macro avg       0.90      0.91      0.91       400\n",
      "weighted avg       0.91      0.91      0.91       400\n",
      "\n"
     ]
    }
   ],
   "source": [
    "print(classification_report(ytestss2, ypredss2, target_names=['Satisfied','Dissatisfied']))"
   ]
  },
  {
   "cell_type": "code",
   "execution_count": 207,
   "id": "different-history",
   "metadata": {
    "scrolled": true
   },
   "outputs": [
    {
     "data": {
      "text/plain": [
       "([<matplotlib.axis.YTick at 0x7fb3c801f1f0>,\n",
       "  <matplotlib.axis.YTick at 0x7fb3c53aed60>,\n",
       "  <matplotlib.axis.YTick at 0x7fb3d75774c0>,\n",
       "  <matplotlib.axis.YTick at 0x7fb3ca183d00>,\n",
       "  <matplotlib.axis.YTick at 0x7fb3ca183130>,\n",
       "  <matplotlib.axis.YTick at 0x7fb3ca2331f0>,\n",
       "  <matplotlib.axis.YTick at 0x7fb3ca14cd00>,\n",
       "  <matplotlib.axis.YTick at 0x7fb3ca646a00>,\n",
       "  <matplotlib.axis.YTick at 0x7fb3ca646fa0>,\n",
       "  <matplotlib.axis.YTick at 0x7fb3ca6463d0>,\n",
       "  <matplotlib.axis.YTick at 0x7fb3ca63b850>,\n",
       "  <matplotlib.axis.YTick at 0x7fb3c9894820>,\n",
       "  <matplotlib.axis.YTick at 0x7fb3c9894850>,\n",
       "  <matplotlib.axis.YTick at 0x7fb3ca63b040>,\n",
       "  <matplotlib.axis.YTick at 0x7fb3ca646ca0>,\n",
       "  <matplotlib.axis.YTick at 0x7fb3ca1838e0>,\n",
       "  <matplotlib.axis.YTick at 0x7fb3c5632a90>,\n",
       "  <matplotlib.axis.YTick at 0x7fb3c56323a0>,\n",
       "  <matplotlib.axis.YTick at 0x7fb3d7562220>,\n",
       "  <matplotlib.axis.YTick at 0x7fb3d7562850>,\n",
       "  <matplotlib.axis.YTick at 0x7fb3d7562d30>,\n",
       "  <matplotlib.axis.YTick at 0x7fb3d75626d0>,\n",
       "  <matplotlib.axis.YTick at 0x7fb3d7562e20>,\n",
       "  <matplotlib.axis.YTick at 0x7fb3c5632700>,\n",
       "  <matplotlib.axis.YTick at 0x7fb3ca646640>],\n",
       " [Text(0, 0, 'Gender'),\n",
       "  Text(0, 1, 'Customer Type'),\n",
       "  Text(0, 2, 'Age'),\n",
       "  Text(0, 3, 'Flight Distance'),\n",
       "  Text(0, 4, 'Inflight wifi service'),\n",
       "  Text(0, 5, 'Departure/Arrival time convenient'),\n",
       "  Text(0, 6, 'Ease of Online booking'),\n",
       "  Text(0, 7, 'Gate location'),\n",
       "  Text(0, 8, 'Food and drink'),\n",
       "  Text(0, 9, 'Online boarding'),\n",
       "  Text(0, 10, 'Seat comfort'),\n",
       "  Text(0, 11, 'Inflight entertainment'),\n",
       "  Text(0, 12, 'On-board service'),\n",
       "  Text(0, 13, 'Leg room service'),\n",
       "  Text(0, 14, 'Baggage handling'),\n",
       "  Text(0, 15, 'Checkin service'),\n",
       "  Text(0, 16, 'Inflight service'),\n",
       "  Text(0, 17, 'Cleanliness'),\n",
       "  Text(0, 18, 'Departure Delay in Minutes'),\n",
       "  Text(0, 19, 'Arrival Delay in Minutes'),\n",
       "  Text(0, 20, 'Class_Business'),\n",
       "  Text(0, 21, 'Class_Eco'),\n",
       "  Text(0, 22, 'Class_Eco Plus'),\n",
       "  Text(0, 23, 'Type of Travel_Business travel'),\n",
       "  Text(0, 24, 'Type of Travel_Personal Travel')])"
      ]
     },
     "execution_count": 207,
     "metadata": {},
     "output_type": "execute_result"
    },
    {
     "data": {
      "image/png": "[encoded data removed]",
      "text/plain": [
       "<Figure size 1296x360 with 1 Axes>"
      ]
     },
     "metadata": {
      "needs_background": "light"
     },
     "output_type": "display_data"
    }
   ],
   "source": [
    "plt.subplots(figsize = (18,5))\n",
    "ylistss = rndss.feature_importances_\n",
    "yposss = np.arange(len(ylistss))\n",
    "features = XTestss2.columns\n",
    "plt.barh(yposss, ylistss, align='center', alpha=0.4)\n",
    "plt.yticks(yposss, features)\n",
    "\n",
    "\n"
   ]
  },
  {
   "cell_type": "markdown",
   "id": "capable-lightning",
   "metadata": {},
   "source": [
    "### Pasting Classifier"
   ]
  },
  {
   "cell_type": "markdown",
   "id": "revised-plane",
   "metadata": {},
   "source": [
    "### 1. Pasting on Decision Tree Classifier"
   ]
  },
  {
   "cell_type": "markdown",
   "id": "retained-fantasy",
   "metadata": {},
   "source": [
    "#### Grid search for Pasting\n",
    "\n"
   ]
  },
  {
   "cell_type": "code",
   "execution_count": 208,
   "id": "informal-costs",
   "metadata": {},
   "outputs": [
    {
     "name": "stdout",
     "output_type": "stream",
     "text": [
      "Best Parameters: {'max_features': 0.5, 'max_samples': 0.4, 'n_estimators': 200}\n",
      "Best Score: 0.931875\n"
     ]
    }
   ],
   "source": [
    "paramgridss2 = {'n_estimators':[100,200, 300, 400, 500], \n",
    "              'max_samples':[0.1, 0.2, 0.3, 0.4, 0.5], \n",
    "              'max_features':[0.1, 0.2, 0.3, 0.5]}\n",
    "\n",
    "bagclfss = BaggingClassifier(DecisionTreeClassifier(random_state = 0))\n",
    "baggridss = GridSearchCV(bagclfss,paramgridss2, cv = 5, n_jobs = -1)\n",
    "baggridss.fit(XTrainss2, ytrainss2)\n",
    "\n",
    "print('Best Parameters:',baggridss.best_params_)\n",
    "print('Best Score:',baggridss.best_score_)\n"
   ]
  },
  {
   "cell_type": "markdown",
   "id": "promotional-thesaurus",
   "metadata": {},
   "source": [
    "\n",
    "#### Grid search for decision tree\n"
   ]
  },
  {
   "cell_type": "code",
   "execution_count": 209,
   "id": "italian-north",
   "metadata": {},
   "outputs": [
    {
     "name": "stdout",
     "output_type": "stream",
     "text": [
      "Fitting 10 folds for each of 9 candidates, totalling 90 fits\n",
      "Best parameters: {'max_depth': 6}\n",
      "Best cross-validation score: 0.915\n"
     ]
    }
   ],
   "source": [
    "paramgriddc = {'max_depth': np.arange(1, 10)}\n",
    "griddc = GridSearchCV(DecisionTreeClassifier(random_state=0), paramgriddc, cv=10, return_train_score=True, verbose=True)\n",
    "griddc.fit(XTrainss2, ytrainss2)\n",
    "\n",
    "print(\"Best parameters:\",(griddc.best_params_))\n",
    "print(\"Best cross-validation score:\",(griddc.best_score_))"
   ]
  },
  {
   "cell_type": "code",
   "execution_count": 210,
   "id": "international-farmer",
   "metadata": {},
   "outputs": [
    {
     "name": "stdout",
     "output_type": "stream",
     "text": [
      "Train score: 0.95\n",
      "Test score: 0.91\n",
      "Accuracy :  0.91\n"
     ]
    }
   ],
   "source": [
    "clfps = BaggingClassifier(DecisionTreeClassifier(max_depth = 6, random_state = 0), \n",
    "                           bootstrap= False, max_features= 0.4,\n",
    "                          max_samples=baggridss.best_params_['max_samples'] ,\n",
    "                           n_estimators= baggridss.best_params_['n_estimators'])\n",
    "\n",
    "clfps.fit(XTrainss2, ytrainss2)\n",
    "ypredss2 = clfps.predict(XTestss2)\n",
    "\n",
    "print('Train score: %.2f'%clfps.score(XTrainss2, ytrainss2))\n",
    "print('Test score: %.2f'%clfps.score(XTestss2, ytestss2))\n",
    "print(\"Accuracy : \", accuracy_score(ytestss2, ypredss2))\n"
   ]
  },
  {
   "cell_type": "code",
   "execution_count": 211,
   "id": "ambient-daily",
   "metadata": {},
   "outputs": [
    {
     "name": "stdout",
     "output_type": "stream",
     "text": [
      "matrix \n",
      "[[221  18]\n",
      " [ 18 143]]\n"
     ]
    }
   ],
   "source": [
    "\n",
    "clfpsmat = confusion_matrix(ypredss2,ytestss2)\n",
    "print(\"matrix \\n{}\".format(clfpsmat))"
   ]
  },
  {
   "cell_type": "code",
   "execution_count": 212,
   "id": "elect-paragraph",
   "metadata": {},
   "outputs": [
    {
     "data": {
      "image/png": "[encoded data removed]",
      "text/plain": [
       "<Figure size 432x288 with 1 Axes>"
      ]
     },
     "metadata": {
      "needs_background": "light"
     },
     "output_type": "display_data"
    }
   ],
   "source": [
    "import mglearn\n",
    "%matplotlib inline\n",
    "\n",
    "imagess = mglearn.tools.heatmap(\n",
    "    confusion_matrix(ypredss2, ytestss2), xlabel = 'Predicted_value',\n",
    "    ylabel='True_value', xticklabels = ['Satisfied','Dissatisfied'],\n",
    "    yticklabels=['Satisfied','Dissatisfied'], fmt=\"%d\")\n"
   ]
  },
  {
   "cell_type": "code",
   "execution_count": 213,
   "id": "subsequent-triangle",
   "metadata": {},
   "outputs": [
    {
     "name": "stdout",
     "output_type": "stream",
     "text": [
      "              precision    recall  f1-score   support\n",
      "\n",
      "   Satisfied       0.92      0.92      0.92       239\n",
      "Dissatisfied       0.89      0.89      0.89       161\n",
      "\n",
      "    accuracy                           0.91       400\n",
      "   macro avg       0.91      0.91      0.91       400\n",
      "weighted avg       0.91      0.91      0.91       400\n",
      "\n"
     ]
    }
   ],
   "source": [
    "print(classification_report(ytestss2, ypredss2, target_names=['Satisfied','Dissatisfied']))"
   ]
  },
  {
   "cell_type": "markdown",
   "id": "meaningful-switch",
   "metadata": {},
   "source": [
    "### 2. Pasting on LogisticRegressor"
   ]
  },
  {
   "cell_type": "markdown",
   "id": "bacterial-reward",
   "metadata": {},
   "source": [
    "#### Grid search for pasting"
   ]
  },
  {
   "cell_type": "code",
   "execution_count": 214,
   "id": "toxic-importance",
   "metadata": {},
   "outputs": [
    {
     "name": "stdout",
     "output_type": "stream",
     "text": [
      "Best Parameters: {'max_features': 0.5, 'max_samples': 0.5, 'n_estimators': 300}\n",
      "Best Score: 0.9324999999999999\n"
     ]
    }
   ],
   "source": [
    "paramgridss2 = {'n_estimators':[100,200, 300, 400, 500], \n",
    "              'max_samples':[0.1, 0.2, 0.3, 0.4, 0.5], \n",
    "              'max_features':[0.1, 0.2, 0.3, 0.5]}\n",
    "\n",
    "bagclfss = BaggingClassifier(DecisionTreeClassifier(random_state = 0))\n",
    "baggridss = GridSearchCV(bagclfss,paramgridss2, cv = 5, n_jobs = -1)\n",
    "baggridss.fit(XTrainss2, ytrainss2)\n",
    "\n",
    "print('Best Parameters:',baggridss.best_params_)\n",
    "print('Best Score:',baggridss.best_score_)\n"
   ]
  },
  {
   "cell_type": "markdown",
   "id": "educated-romance",
   "metadata": {},
   "source": [
    "#### Grid search for logistic "
   ]
  },
  {
   "cell_type": "code",
   "execution_count": 215,
   "id": "rational-oakland",
   "metadata": {},
   "outputs": [
    {
     "name": "stdout",
     "output_type": "stream",
     "text": [
      "Fitting 5 folds for each of 1592 candidates, totalling 7960 fits\n",
      "Best score 0.865625\n",
      "Best Parameter {'C': 100, 'max_iter': 27, 'penalty': 'l2'}\n"
     ]
    }
   ],
   "source": [
    "paramgridlog = { 'max_iter' : range(1,200), \n",
    "                  'penalty' : ['l1','l2'],\n",
    "                'C' : [ 0.1, 1, 10, 100]}\n",
    "\n",
    "gslog = GridSearchCV(estimator = LogisticRegression(),param_grid =paramgridlog, cv = 5, verbose = 1, n_jobs = -1)\n",
    "gslogmodel = gslog.fit(XTrainss2, ytrainss2)\n",
    "\n",
    "print('Best score',gslogmodel.best_score_)\n",
    "print('Best Parameter',gslog.best_params_)\n"
   ]
  },
  {
   "cell_type": "code",
   "execution_count": 216,
   "id": "terminal-sword",
   "metadata": {},
   "outputs": [
    {
     "name": "stdout",
     "output_type": "stream",
     "text": [
      "Train score: 0.86\n",
      "Test score: 0.85\n",
      "Accuracy :  0.8475\n"
     ]
    }
   ],
   "source": [
    "lrpsclf = BaggingClassifier(LogisticRegression(penalty ='l2', C = 10, max_iter = 17), \n",
    "                           bootstrap= False, max_features= baggridss.best_params_['max_features'],max_samples= baggridss.best_params_['max_samples'],\n",
    "                           n_estimators= baggridss.best_params_['n_estimators'])\n",
    "\n",
    "lrpsclf.fit(XTrainss2, ytrainss2)\n",
    "ypredss2 = lrpsclf.predict(XTestss2)\n",
    "\n",
    "print('Train score: %.2f'%lrpsclf.score(XTrainss2, ytrainss2))\n",
    "print('Test score: %.2f'%lrpsclf.score(XTestss2, ytestss2))\n",
    "print(\"Accuracy : \", accuracy_score(ytestss2, ypredss2))\n"
   ]
  },
  {
   "cell_type": "code",
   "execution_count": 217,
   "id": "worth-prisoner",
   "metadata": {},
   "outputs": [
    {
     "name": "stdout",
     "output_type": "stream",
     "text": [
      "matrix \n",
      "[[212  34]\n",
      " [ 27 127]]\n"
     ]
    }
   ],
   "source": [
    "lrpsmat = confusion_matrix(ypredss2,ytestss2)\n",
    "print(\"matrix \\n{}\".format(lrpsmat))"
   ]
  },
  {
   "cell_type": "code",
   "execution_count": 218,
   "id": "otherwise-swiss",
   "metadata": {},
   "outputs": [
    {
     "data": {
      "image/png": "[encoded data removed]",
      "text/plain": [
       "<Figure size 432x288 with 1 Axes>"
      ]
     },
     "metadata": {
      "needs_background": "light"
     },
     "output_type": "display_data"
    }
   ],
   "source": [
    "import mglearn\n",
    "%matplotlib inline\n",
    "\n",
    "imagess = mglearn.tools.heatmap(\n",
    "    confusion_matrix(ypredss2, ytestss2), xlabel = 'Predicted_value',\n",
    "    ylabel='True_value', xticklabels = ['Satisfied','Dissatisfied'],\n",
    "    yticklabels=['Satisfied','Dissatisfied'], fmt=\"%d\")\n"
   ]
  },
  {
   "cell_type": "code",
   "execution_count": 219,
   "id": "authorized-examination",
   "metadata": {},
   "outputs": [
    {
     "name": "stdout",
     "output_type": "stream",
     "text": [
      "              precision    recall  f1-score   support\n",
      "\n",
      "   Satisfied       0.86      0.89      0.87       239\n",
      "Dissatisfied       0.82      0.79      0.81       161\n",
      "\n",
      "    accuracy                           0.85       400\n",
      "   macro avg       0.84      0.84      0.84       400\n",
      "weighted avg       0.85      0.85      0.85       400\n",
      "\n"
     ]
    }
   ],
   "source": [
    "print(classification_report(ytestss2, ypredss2, target_names=['Satisfied','Dissatisfied']))"
   ]
  },
  {
   "cell_type": "markdown",
   "id": "imposed-execution",
   "metadata": {},
   "source": [
    "# AdaBoost boosting\n"
   ]
  },
  {
   "cell_type": "markdown",
   "id": "steady-facility",
   "metadata": {},
   "source": [
    "### 1. AdaBoost boosting on Decision Tree"
   ]
  },
  {
   "cell_type": "markdown",
   "id": "offensive-bidding",
   "metadata": {},
   "source": [
    "#### Grid search for AdaBoostClassifier"
   ]
  },
  {
   "cell_type": "code",
   "execution_count": 220,
   "id": "imposed-carbon",
   "metadata": {},
   "outputs": [
    {
     "name": "stdout",
     "output_type": "stream",
     "text": [
      "Best parameters: {'learning_rate': 1, 'n_estimators': 500}\n",
      "Best Score: 0.8856249999999999\n"
     ]
    }
   ],
   "source": [
    "paramgridss = {'n_estimators': [100,500,1000] ,\n",
    "              'learning_rate': [0.1,0.5,1]}\n",
    "\n",
    "\n",
    "addt= AdaBoostClassifier(DecisionTreeClassifier(random_state = 0))\n",
    "gridaddt = GridSearchCV(addt, paramgridss, cv = 5 )\n",
    "gridaddt.fit(XTrainss2, ytrainss2)\n",
    "\n",
    "print('Best parameters:',gridaddt.best_params_ )\n",
    "print('Best Score:',gridaddt.best_score_)\n"
   ]
  },
  {
   "cell_type": "markdown",
   "id": "disabled-brooklyn",
   "metadata": {},
   "source": [
    "#### Grid seach for decision tree"
   ]
  },
  {
   "cell_type": "code",
   "execution_count": 221,
   "id": "golden-victoria",
   "metadata": {},
   "outputs": [
    {
     "name": "stdout",
     "output_type": "stream",
     "text": [
      "Fitting 5 folds for each of 9 candidates, totalling 45 fits\n",
      "Best parameters: {'max_depth': 8}\n",
      "Best cross-validation score: 0.905625\n"
     ]
    }
   ],
   "source": [
    "paramgridss = {'max_depth': np.arange(1, 10)}\n",
    "gridsearchpcass = GridSearchCV(DecisionTreeClassifier(random_state=0), paramgridss, cv=5, \n",
    "                           return_train_score=True, verbose=True)\n",
    "\n",
    "gridsearchpcass.fit(XTrainss2, ytrainss2)\n",
    "\n",
    "print(\"Best parameters: {}\".format(gridsearchpcass.best_params_))\n",
    "print(\"Best cross-validation score: {:.6f}\".format(gridsearchpcass.best_score_))"
   ]
  },
  {
   "cell_type": "markdown",
   "id": "careful-huntington",
   "metadata": {},
   "source": [
    "#### Using best parameters for AdaBoostclassifier "
   ]
  },
  {
   "cell_type": "code",
   "execution_count": 222,
   "id": "greater-international",
   "metadata": {},
   "outputs": [
    {
     "name": "stdout",
     "output_type": "stream",
     "text": [
      "Test score: 0.9125\n",
      "Train score: 1.0\n",
      "Accuracy :  0.9125\n"
     ]
    }
   ],
   "source": [
    "adadt = AdaBoostClassifier(DecisionTreeClassifier(max_depth = 8, random_state = 0),\n",
    "n_estimators=gridaddt.best_params_['n_estimators'], learning_rate=gridaddt.best_params_['learning_rate'], random_state=0)\n",
    "\n",
    "adadt.fit(XTrainss2, ytrainss2)\n",
    "ypredss2 = adadt.predict(XTestss2)\n",
    "\n",
    "\n",
    "print('Test score:',adadt.score(XTestss2, ytestss2))\n",
    "print('Train score:',adadt.score(XTrainss2, ytrainss2))\n",
    "print(\"Accuracy : \",accuracy_score(ytestss2, ypredss2).round(4))"
   ]
  },
  {
   "cell_type": "code",
   "execution_count": 223,
   "id": "nuclear-breast",
   "metadata": {},
   "outputs": [
    {
     "name": "stdout",
     "output_type": "stream",
     "text": [
      "matrix [[220  16]\n",
      " [ 19 145]]\n"
     ]
    }
   ],
   "source": [
    "addtmat = confusion_matrix(ypredss2,ytestss2)\n",
    "print(\"matrix\",(addtmat))"
   ]
  },
  {
   "cell_type": "code",
   "execution_count": 224,
   "id": "plastic-arbor",
   "metadata": {},
   "outputs": [
    {
     "data": {
      "image/png": "[encoded data removed]",
      "text/plain": [
       "<Figure size 432x288 with 1 Axes>"
      ]
     },
     "metadata": {
      "needs_background": "light"
     },
     "output_type": "display_data"
    }
   ],
   "source": [
    "import mglearn\n",
    "%matplotlib inline\n",
    "\n",
    "imagess = mglearn.tools.heatmap(\n",
    "    confusion_matrix(ypredss2, ytestss2), xlabel = 'Predicted_value',\n",
    "    ylabel='True_value', xticklabels = ['Satisfied','Dissatisfied'],\n",
    "    yticklabels=['Satisfied','Dissatisfied'], fmt=\"%d\")\n"
   ]
  },
  {
   "cell_type": "code",
   "execution_count": 225,
   "id": "funded-novelty",
   "metadata": {},
   "outputs": [
    {
     "name": "stdout",
     "output_type": "stream",
     "text": [
      "              precision    recall  f1-score   support\n",
      "\n",
      "   Satisfied       0.93      0.92      0.93       239\n",
      "Dissatisfied       0.88      0.90      0.89       161\n",
      "\n",
      "    accuracy                           0.91       400\n",
      "   macro avg       0.91      0.91      0.91       400\n",
      "weighted avg       0.91      0.91      0.91       400\n",
      "\n"
     ]
    }
   ],
   "source": [
    "print(classification_report(ytestss2, ypredss2, target_names=['Satisfied','Dissatisfied']))"
   ]
  },
  {
   "cell_type": "markdown",
   "id": "apart-ridge",
   "metadata": {},
   "source": [
    "### 2. AdaBoost boosting on Logistic Regressor"
   ]
  },
  {
   "cell_type": "markdown",
   "id": "fitted-belfast",
   "metadata": {},
   "source": [
    "#### grid search for AdaBoost"
   ]
  },
  {
   "cell_type": "code",
   "execution_count": 226,
   "id": "latest-saying",
   "metadata": {},
   "outputs": [
    {
     "name": "stdout",
     "output_type": "stream",
     "text": [
      "Best parameters: {'learning_rate': 0.1, 'n_estimators': 500}\n",
      "Best cross-validation score: 0.86\n"
     ]
    }
   ],
   "source": [
    "paramgridss = {'n_estimators': [100,200,300,400,500],\n",
    "              'learning_rate': [.01, .05, .1, 1]}\n",
    "\n",
    "gridad = GridSearchCV(AdaBoostClassifier(LogisticRegression(),random_state = 0),\n",
    "                           paramgridss, cv=5, return_train_score=True)\n",
    "gridad.fit(XTrainss2, ytrainss2)\n",
    "print(\"Best parameters: {}\".format(gridad.best_params_))\n",
    "print(\"Best cross-validation score: {:.2f}\".format(gridad.best_score_))"
   ]
  },
  {
   "cell_type": "markdown",
   "id": "minute-portugal",
   "metadata": {},
   "source": [
    "#### Grid search for logistic "
   ]
  },
  {
   "cell_type": "code",
   "execution_count": 227,
   "id": "maritime-expense",
   "metadata": {},
   "outputs": [
    {
     "name": "stdout",
     "output_type": "stream",
     "text": [
      "Fitting 5 folds for each of 1592 candidates, totalling 7960 fits\n",
      "Best score 0.865625\n",
      "Best Parameter {'C': 100, 'max_iter': 27, 'penalty': 'l2'}\n"
     ]
    }
   ],
   "source": [
    "paramgridlog = { 'max_iter' : range(1,200), \n",
    "                  'penalty' : ['l1','l2'],\n",
    "                'C' : [ 0.1, 1, 10, 100]}\n",
    "\n",
    "gslog = GridSearchCV(estimator = LogisticRegression(),param_grid =paramgridlog, cv = 5, verbose = 1, n_jobs = -1)\n",
    "gslogmodel = gslog.fit(XTrainss2, ytrainss2)\n",
    "\n",
    "print('Best score',gslogmodel.best_score_)\n",
    "print('Best Parameter',gslog.best_params_)\n"
   ]
  },
  {
   "cell_type": "markdown",
   "id": "sound-queensland",
   "metadata": {},
   "source": [
    "#### using best parameters AdaBoostClassifier"
   ]
  },
  {
   "cell_type": "code",
   "execution_count": 228,
   "id": "cosmetic-choice",
   "metadata": {
    "scrolled": true
   },
   "outputs": [
    {
     "name": "stdout",
     "output_type": "stream",
     "text": [
      "Train score: 0.858125\n",
      "Test score: 0.84\n",
      "Accuracy:  0.84\n"
     ]
    }
   ],
   "source": [
    "\n",
    "adalr = AdaBoostClassifier(LogisticRegression(penalty ='l2', C = 100, max_iter = 27),\n",
    "                             n_estimators=gridad.best_params_['n_estimators'], algorithm=\"SAMME.R\", \n",
    "                           learning_rate=gridad.best_params_['learning_rate'], random_state=0)\n",
    "\n",
    "adalr.fit(XTrainss2, ytrainss2)\n",
    "ypredlr = adalr.predict(XTestss2)\n",
    "\n",
    "print('Train score:',adalr.score(XTrainss2, ytrainss2))\n",
    "print('Test score:',adalr.score(XTestss2, ytestss2))\n",
    "print(\"Accuracy: \",accuracy_score(ytestss2, ypredlr).round(4))\n"
   ]
  },
  {
   "cell_type": "code",
   "execution_count": 229,
   "id": "narrative-drinking",
   "metadata": {},
   "outputs": [
    {
     "name": "stdout",
     "output_type": "stream",
     "text": [
      "matrix [[204  29]\n",
      " [ 35 132]]\n"
     ]
    }
   ],
   "source": [
    "adlrmat = confusion_matrix(ypredlr,ytestss2)\n",
    "print(\"matrix\",(adlrmat))"
   ]
  },
  {
   "cell_type": "code",
   "execution_count": 230,
   "id": "arranged-following",
   "metadata": {},
   "outputs": [
    {
     "data": {
      "image/png": "[encoded data removed]",
      "text/plain": [
       "<Figure size 432x288 with 1 Axes>"
      ]
     },
     "metadata": {
      "needs_background": "light"
     },
     "output_type": "display_data"
    }
   ],
   "source": [
    "import mglearn\n",
    "%matplotlib inline\n",
    "\n",
    "imagess = mglearn.tools.heatmap(\n",
    "    confusion_matrix(ypredlr, ytestss2), xlabel = 'Predicted_value',\n",
    "    ylabel='True_value', xticklabels = ['Satisfied','Dissatisfied'],\n",
    "    yticklabels=['Satisfied','Dissatisfied'], fmt=\"%d\")\n"
   ]
  },
  {
   "cell_type": "code",
   "execution_count": 231,
   "id": "metropolitan-diamond",
   "metadata": {},
   "outputs": [
    {
     "name": "stdout",
     "output_type": "stream",
     "text": [
      "              precision    recall  f1-score   support\n",
      "\n",
      "   Satisfied       0.88      0.85      0.86       239\n",
      "Dissatisfied       0.79      0.82      0.80       161\n",
      "\n",
      "    accuracy                           0.84       400\n",
      "   macro avg       0.83      0.84      0.83       400\n",
      "weighted avg       0.84      0.84      0.84       400\n",
      "\n"
     ]
    }
   ],
   "source": [
    "print(classification_report(ytestss2, ypredlr, target_names=['Satisfied','Dissatisfied']))"
   ]
  },
  {
   "cell_type": "markdown",
   "id": "capable-intro",
   "metadata": {},
   "source": [
    "# gradient boosting"
   ]
  },
  {
   "cell_type": "markdown",
   "id": "liberal-reception",
   "metadata": {},
   "source": [
    "#### Grid search for Gradient boosting"
   ]
  },
  {
   "cell_type": "code",
   "execution_count": 232,
   "id": "funny-costume",
   "metadata": {},
   "outputs": [
    {
     "name": "stdout",
     "output_type": "stream",
     "text": [
      "Best parameters: {'learning_rate': 0.1, 'n_estimators': 100}\n",
      "Best Score: 0.9268750000000001\n"
     ]
    }
   ],
   "source": [
    "paramgridss = {'n_estimators': [100,500,1000],\n",
    "              'learning_rate': [0.1,0.5,1]}\n",
    "\n",
    "gbrtss=GradientBoostingClassifier(random_state = 0)\n",
    "gridgbss = GridSearchCV(gbrtss, paramgridss, cv = 5)\n",
    "gridgbss.fit(XTrainss2, ytrainss2)\n",
    "\n",
    "print('Best parameters:',gridgbss.best_params_ )\n",
    "print('Best Score:',gridgbss.best_score_)\n",
    "\n"
   ]
  },
  {
   "cell_type": "code",
   "execution_count": 233,
   "id": "corrected-pursuit",
   "metadata": {},
   "outputs": [
    {
     "name": "stdout",
     "output_type": "stream",
     "text": [
      "Train score: 0.964\n",
      "Test score : 0.920\n",
      "Accuracy  0.92\n"
     ]
    }
   ],
   "source": [
    "gbrtss = GradientBoostingClassifier(random_state=0, learning_rate=gridgbss.best_params_['learning_rate'],\n",
    "                                    n_estimators= gridgbss.best_params_['n_estimators'])\n",
    "\n",
    "gbrtss.fit(XTrainss2, ytrainss2)\n",
    "ypredss2 = gbrtss.predict(XTestss2)\n",
    "\n",
    "print(\"Train score: {:.3f}\".format(gbrtss.score(XTrainss2, ytrainss2)))\n",
    "print(\"Test score : {:.3f}\".format(gbrtss.score(XTestss2, ytestss2)))\n",
    "print(\"Accuracy \",accuracy_score(ytestss2, ypredss2).round(4))\n"
   ]
  },
  {
   "cell_type": "markdown",
   "id": "provincial-magazine",
   "metadata": {},
   "source": [
    "#### Gradient boostong on decision tree"
   ]
  },
  {
   "cell_type": "code",
   "execution_count": 234,
   "id": "alleged-christian",
   "metadata": {},
   "outputs": [
    {
     "name": "stdout",
     "output_type": "stream",
     "text": [
      "Train score: 1.000\n",
      "Test score\n",
      "Accuracy  0.9125\n"
     ]
    }
   ],
   "source": [
    "gbrtss = GradientBoostingClassifier(max_depth =8,learning_rate=gridgbss.best_params_['learning_rate'],\n",
    "                                    n_estimators= gridgbss.best_params_['n_estimators'])\n",
    "gbrtss.fit(XTrainss2, ytrainss2)\n",
    "ypredss2 = gbrtss.predict(XTestss2)\n",
    "\n",
    "print(\"Train score: {:.3f}\".format(gbrtss.score(XTrainss2, ytrainss2)))\n",
    "print(\"Test score\".format(gbrtss.score(XTestss2, ytestss2)))\n",
    "print(\"Accuracy \",accuracy_score(ytestss2, ypredss2).round(4))"
   ]
  },
  {
   "cell_type": "code",
   "execution_count": 235,
   "id": "descending-cartoon",
   "metadata": {},
   "outputs": [
    {
     "name": "stdout",
     "output_type": "stream",
     "text": [
      "matrix \n",
      "[[219  15]\n",
      " [ 20 146]]\n"
     ]
    }
   ],
   "source": [
    "gbrtmat = confusion_matrix(ypredss2,ytestss2)\n",
    "print(\"matrix \\n{}\".format(gbrtmat))"
   ]
  },
  {
   "cell_type": "code",
   "execution_count": 236,
   "id": "native-google",
   "metadata": {},
   "outputs": [
    {
     "data": {
      "image/png": "[encoded data removed]",
      "text/plain": [
       "<Figure size 432x288 with 1 Axes>"
      ]
     },
     "metadata": {
      "needs_background": "light"
     },
     "output_type": "display_data"
    }
   ],
   "source": [
    "import mglearn\n",
    "%matplotlib inline\n",
    "\n",
    "imagess = mglearn.tools.heatmap(\n",
    "    confusion_matrix(ypredss2, ytestss2), xlabel = 'Predicted_value',\n",
    "    ylabel='True_value', xticklabels = ['Satisfied','Dissatisfied'],\n",
    "    yticklabels=['Satisfied','Dissatisfied'], fmt=\"%d\")\n"
   ]
  },
  {
   "cell_type": "code",
   "execution_count": 237,
   "id": "perfect-archives",
   "metadata": {},
   "outputs": [
    {
     "name": "stdout",
     "output_type": "stream",
     "text": [
      "              precision    recall  f1-score   support\n",
      "\n",
      "   Satisfied       0.94      0.92      0.93       239\n",
      "Dissatisfied       0.88      0.91      0.89       161\n",
      "\n",
      "    accuracy                           0.91       400\n",
      "   macro avg       0.91      0.91      0.91       400\n",
      "weighted avg       0.91      0.91      0.91       400\n",
      "\n"
     ]
    }
   ],
   "source": [
    "print(classification_report(ytestss2, ypredss2, target_names=['Satisfied','Dissatisfied']))"
   ]
  },
  {
   "cell_type": "markdown",
   "id": "sustained-fellow",
   "metadata": {},
   "source": [
    "# PCA for Classification"
   ]
  },
  {
   "cell_type": "code",
   "execution_count": 238,
   "id": "occasional-purpose",
   "metadata": {},
   "outputs": [],
   "source": [
    "from sklearn.decomposition import PCA\n",
    "\n",
    "pcass = PCA(n_components = .95, random_state = 0)\n",
    "Xtrainpcass = pcass.fit_transform(XTrainss2)\n",
    "Xtestpcass = pcass.transform(XTestss2)"
   ]
  },
  {
   "cell_type": "code",
   "execution_count": 239,
   "id": "structural-channels",
   "metadata": {},
   "outputs": [
    {
     "name": "stdout",
     "output_type": "stream",
     "text": [
      "Attributes after PCA : 17\n"
     ]
    }
   ],
   "source": [
    "print(\"Attributes after PCA :\" ,pcass.n_components_ )"
   ]
  },
  {
   "cell_type": "markdown",
   "id": "hundred-saint",
   "metadata": {},
   "source": [
    "## KNN with PCA"
   ]
  },
  {
   "cell_type": "markdown",
   "id": "isolated-growing",
   "metadata": {},
   "source": [
    "#### Grid search for knn "
   ]
  },
  {
   "cell_type": "code",
   "execution_count": 240,
   "id": "impaired-virgin",
   "metadata": {},
   "outputs": [
    {
     "name": "stdout",
     "output_type": "stream",
     "text": [
      "Fitting 5 folds for each of 19 candidates, totalling 95 fits\n",
      "Best parameters: {'n_neighbors': 9}\n",
      "Best cross-validation score: 0.8725000000000002\n"
     ]
    }
   ],
   "source": [
    "paramgridss = {'n_neighbors': range(1,20)}\n",
    "gridsearchpcass = GridSearchCV(KNeighborsClassifier(), paramgridss, cv=5, return_train_score=True, verbose = True)\n",
    "gridsearchpcass.fit(Xtrainpcass, ytrainss2)\n",
    "\n",
    "print(\"Best parameters:\",(gridsearchpcass.best_params_))\n",
    "print(\"Best cross-validation score:\",(gridsearchpcass.best_score_))"
   ]
  },
  {
   "cell_type": "code",
   "execution_count": 241,
   "id": "becoming-objective",
   "metadata": {},
   "outputs": [
    {
     "data": {
      "text/plain": [
       "<matplotlib.legend.Legend at 0x7fb3c4a401f0>"
      ]
     },
     "execution_count": 241,
     "metadata": {},
     "output_type": "execute_result"
    },
    {
     "data": {
      "image/png": "[encoded data removed]",
      "text/plain": [
       "<Figure size 432x288 with 1 Axes>"
      ]
     },
     "metadata": {
      "needs_background": "light"
     },
     "output_type": "display_data"
    }
   ],
   "source": [
    "results = pd.DataFrame(gridsearchpcass.cv_results_)\n",
    "plt.plot(results['param_n_neighbors'],results['mean_test_score'],c='r',label='Test score')\n",
    "plt.plot(results['param_n_neighbors'],results['mean_train_score'],c='g',label='Train score')\n",
    "plt.xlabel('Number of Neighbors')\n",
    "plt.ylabel('Accuracy')\n",
    "plt.legend()"
   ]
  },
  {
   "cell_type": "markdown",
   "id": "comprehensive-automation",
   "metadata": {},
   "source": [
    "#### using best parameters "
   ]
  },
  {
   "cell_type": "code",
   "execution_count": 242,
   "id": "fallen-samuel",
   "metadata": {},
   "outputs": [
    {
     "name": "stdout",
     "output_type": "stream",
     "text": [
      "Train score for KNN with PCA 0.891\n",
      "Test score for KNN with PCA 0.863\n"
     ]
    }
   ],
   "source": [
    "knnss = KNeighborsClassifier(n_neighbors=gridsearchpcass.best_params_['n_neighbors'])\n",
    "knnss.fit(Xtrainpcass, ytrainss2)\n",
    "\n",
    "ypredss2 = knnss.predict(Xtestpcass)\n",
    "\n",
    "print('Train score for KNN with PCA {:.3f}'.format(knnss.score(Xtrainpcass,ytrainss2)))\n",
    "print('Test score for KNN with PCA {:.3f}'.format(knnss.score(Xtestpcass,ytestss2)))"
   ]
  },
  {
   "cell_type": "code",
   "execution_count": 243,
   "id": "numeric-theorem",
   "metadata": {},
   "outputs": [
    {
     "name": "stdout",
     "output_type": "stream",
     "text": [
      "Matrix \n",
      "[[221  37]\n",
      " [ 18 124]]\n"
     ]
    }
   ],
   "source": [
    "conss = confusion_matrix(ypredss2,ytestss2)\n",
    "print(\"Matrix \\n{}\".format(conss))"
   ]
  },
  {
   "cell_type": "code",
   "execution_count": 244,
   "id": "empty-therapist",
   "metadata": {},
   "outputs": [
    {
     "data": {
      "image/png": "[encoded data removed]",
      "text/plain": [
       "<Figure size 432x288 with 1 Axes>"
      ]
     },
     "metadata": {
      "needs_background": "light"
     },
     "output_type": "display_data"
    }
   ],
   "source": [
    "import mglearn\n",
    "%matplotlib inline\n",
    "\n",
    "imagess = mglearn.tools.heatmap(confusion_matrix(ypredss2, ytestss2), xlabel = 'Predicted_value',\n",
    "    ylabel='True_value', xticklabels = ['Satisfied','Dissatisfied'],\n",
    "    yticklabels=['Satisfied','Dissatisfied'], fmt=\"%d\")\n"
   ]
  },
  {
   "cell_type": "code",
   "execution_count": 245,
   "id": "undefined-concept",
   "metadata": {},
   "outputs": [
    {
     "name": "stdout",
     "output_type": "stream",
     "text": [
      "              precision    recall  f1-score   support\n",
      "\n",
      "   Satisfied       0.86      0.92      0.89       239\n",
      "Dissatisfied       0.87      0.77      0.82       161\n",
      "\n",
      "    accuracy                           0.86       400\n",
      "   macro avg       0.86      0.85      0.85       400\n",
      "weighted avg       0.86      0.86      0.86       400\n",
      "\n"
     ]
    }
   ],
   "source": [
    "print(classification_report(ytestss2, ypredss2, target_names=['Satisfied','Dissatisfied']))"
   ]
  },
  {
   "cell_type": "code",
   "execution_count": 246,
   "id": "acceptable-budapest",
   "metadata": {},
   "outputs": [],
   "source": [
    "report_table = [['KNN Classification', 'K=9', knnss.score(Xtrainpcass, ytrainss2)*100, knnss.score(Xtrainpcass, ytrainss2)*100,\n",
    "                 f1_score(ytestss2, knnss.predict(Xtestpcass))]]"
   ]
  },
  {
   "cell_type": "markdown",
   "id": "administrative-macintosh",
   "metadata": {},
   "source": [
    "## Logistic with PCA"
   ]
  },
  {
   "cell_type": "markdown",
   "id": "existing-chicago",
   "metadata": {},
   "source": [
    "#### Grid search for Logistic"
   ]
  },
  {
   "cell_type": "code",
   "execution_count": 247,
   "id": "dimensional-wednesday",
   "metadata": {},
   "outputs": [
    {
     "name": "stdout",
     "output_type": "stream",
     "text": [
      "Best parameters: {'C': 100, 'penalty': 'l2'}\n",
      "Best score: 0.858\n"
     ]
    }
   ],
   "source": [
    "paramgridss = {'C': [0.1, 1, 10, 100], \n",
    "               'penalty':['l1','l2']}\n",
    "\n",
    "gridsearchpcass = GridSearchCV(LogisticRegression(), paramgridss, cv=5, return_train_score=True)\n",
    "gridsearchpcass.fit(Xtrainpcass, ytrainss2)\n",
    "\n",
    "print(\"Best parameters: {}\".format(gridsearchpcass.best_params_))\n",
    "print(\"Best score: {:.3f}\".format(gridsearchpcass.best_score_))"
   ]
  },
  {
   "cell_type": "markdown",
   "id": "built-accuracy",
   "metadata": {},
   "source": [
    "#### Using the best parameters "
   ]
  },
  {
   "cell_type": "code",
   "execution_count": 248,
   "id": "important-teddy",
   "metadata": {},
   "outputs": [
    {
     "name": "stdout",
     "output_type": "stream",
     "text": [
      "Train score with PCA 0.861\n",
      "Test score with PCA  0.835\n"
     ]
    }
   ],
   "source": [
    "logss1 = LogisticRegression(C=gridsearchpcass.best_params_['C'],penalty='l2')\n",
    "\n",
    "logss1.fit(Xtrainpcass, ytrainss2)\n",
    "ypredss2 = logss1.predict(Xtestpcass)\n",
    "\n",
    "print('Train score with PCA {:.3f}'.format(logss1.score(Xtrainpcass,ytrainss2)))\n",
    "print('Test score with PCA  {:.3f}'.format(logss1.score(Xtestpcass,ytestss2)))"
   ]
  },
  {
   "cell_type": "code",
   "execution_count": 249,
   "id": "apart-understanding",
   "metadata": {},
   "outputs": [
    {
     "name": "stdout",
     "output_type": "stream",
     "text": [
      "Matrix \n",
      "[[205  32]\n",
      " [ 34 129]]\n"
     ]
    }
   ],
   "source": [
    "conss = confusion_matrix(ypredss2,ytestss2)\n",
    "print(\"Matrix \\n{}\".format(conss))"
   ]
  },
  {
   "cell_type": "code",
   "execution_count": 250,
   "id": "after-apparatus",
   "metadata": {},
   "outputs": [
    {
     "data": {
      "image/png": "[encoded data removed]",
      "text/plain": [
       "<Figure size 432x288 with 1 Axes>"
      ]
     },
     "metadata": {
      "needs_background": "light"
     },
     "output_type": "display_data"
    }
   ],
   "source": [
    "import mglearn\n",
    "%matplotlib inline\n",
    "\n",
    "imagess = mglearn.tools.heatmap(\n",
    "    confusion_matrix(ypredss2, ytestss2), xlabel = 'Predicted_value',\n",
    "    ylabel='True_value', xticklabels = ['Satisfied','Dissatisfied'],\n",
    "    yticklabels=['Satisfied','Dissatisfied'], fmt=\"%d\")\n"
   ]
  },
  {
   "cell_type": "code",
   "execution_count": 251,
   "id": "abroad-doubt",
   "metadata": {},
   "outputs": [
    {
     "name": "stdout",
     "output_type": "stream",
     "text": [
      "              precision    recall  f1-score   support\n",
      "\n",
      "   Satisfied       0.86      0.86      0.86       239\n",
      "Dissatisfied       0.79      0.80      0.80       161\n",
      "\n",
      "    accuracy                           0.83       400\n",
      "   macro avg       0.83      0.83      0.83       400\n",
      "weighted avg       0.84      0.83      0.84       400\n",
      "\n"
     ]
    }
   ],
   "source": [
    "print(classification_report(ytestss2, ypredss2, target_names=['Satisfied','Dissatisfied']))"
   ]
  },
  {
   "cell_type": "code",
   "execution_count": 252,
   "id": "precious-treat",
   "metadata": {},
   "outputs": [],
   "source": [
    "report_table = report_table + [['Logistic Regression', 'C=10 & Penalty = l2', logss1.score(Xtrainpcass, ytrainss2)*100, \n",
    "                                logss1.score(Xtrainpcass, ytrainss2)*100,\n",
    "                                f1_score(ytestss2,logss1.predict(Xtestpcass))]]"
   ]
  },
  {
   "cell_type": "markdown",
   "id": "classical-bundle",
   "metadata": {},
   "source": [
    "## SVM with PCA"
   ]
  },
  {
   "cell_type": "markdown",
   "id": "flexible-canadian",
   "metadata": {},
   "source": [
    "#### Grid search for best parameters "
   ]
  },
  {
   "cell_type": "code",
   "execution_count": 253,
   "id": "abstract-basics",
   "metadata": {},
   "outputs": [
    {
     "name": "stdout",
     "output_type": "stream",
     "text": [
      "Fitting 5 folds for each of 80 candidates, totalling 400 fits\n",
      "Best parameters: {'C': 10, 'degree': 1, 'gamma': 0.1}\n",
      "Best cross-validation score: 0.9\n"
     ]
    }
   ],
   "source": [
    "from sklearn.svm import SVC\n",
    "from sklearn.svm import LinearSVC\n",
    "paramgridss = {'C': [0.1, 1, 10, 100],\n",
    "              'gamma': [0.1, 1, 10, 100], \n",
    "              'degree':[1,2,3,4,5]}\n",
    "\n",
    "gridsearchpcass = GridSearchCV(SVC(), paramgridss, cv=5, return_train_score=True, n_jobs = -1, verbose = True)\n",
    "gridsearchpcass.fit(Xtrainpcass, ytrainss2)\n",
    "\n",
    "print(\"Best parameters:\",(gridsearchpcass.best_params_))\n",
    "print(\"Best cross-validation score:\",(gridsearchpcass.best_score_))\n"
   ]
  },
  {
   "cell_type": "markdown",
   "id": "wrapped-foundation",
   "metadata": {},
   "source": [
    "### Linear SVC"
   ]
  },
  {
   "cell_type": "code",
   "execution_count": 254,
   "id": "higher-seating",
   "metadata": {},
   "outputs": [
    {
     "name": "stdout",
     "output_type": "stream",
     "text": [
      "Train score for LinearSVC with PCA: 0.846\n",
      "Test score for LinearSVC with PCA : 0.828\n"
     ]
    }
   ],
   "source": [
    "linsvmss = LinearSVC(C=100)\n",
    "\n",
    "linsvmss.fit(Xtrainpcass, ytrainss2)\n",
    "ypredss2 = linsvmss.predict(Xtestpcass)\n",
    "\n",
    "\n",
    "print('Train score for LinearSVC with PCA: {:.3f}'.format(linsvmss.score(Xtrainpcass, ytrainss2)))\n",
    "print('Test score for LinearSVC with PCA : {:.3f}'.format(linsvmss.score(Xtestpcass,ytestss2)))\n",
    "\n"
   ]
  },
  {
   "cell_type": "code",
   "execution_count": 255,
   "id": "extensive-tiffany",
   "metadata": {},
   "outputs": [
    {
     "name": "stdout",
     "output_type": "stream",
     "text": [
      "Matrix \n",
      "[[199  29]\n",
      " [ 40 132]]\n"
     ]
    }
   ],
   "source": [
    "conss = confusion_matrix(ypredss2,ytestss2)\n",
    "print(\"Matrix \\n{}\".format(conss))"
   ]
  },
  {
   "cell_type": "code",
   "execution_count": 256,
   "id": "located-retailer",
   "metadata": {},
   "outputs": [
    {
     "data": {
      "image/png": "[encoded data removed]",
      "text/plain": [
       "<Figure size 432x288 with 1 Axes>"
      ]
     },
     "metadata": {
      "needs_background": "light"
     },
     "output_type": "display_data"
    }
   ],
   "source": [
    "import mglearn\n",
    "%matplotlib inline\n",
    "\n",
    "imagess = mglearn.tools.heatmap(confusion_matrix(ypredss2, ytestss2), xlabel = 'Predicted_value',\n",
    "    ylabel='True_value', xticklabels = ['Satisfied','Dissatisfied'],\n",
    "    yticklabels=['Satisfied','Dissatisfied'], fmt=\"%d\")\n"
   ]
  },
  {
   "cell_type": "code",
   "execution_count": 257,
   "id": "bored-elizabeth",
   "metadata": {},
   "outputs": [
    {
     "name": "stdout",
     "output_type": "stream",
     "text": [
      "              precision    recall  f1-score   support\n",
      "\n",
      "   Satisfied       0.87      0.83      0.85       239\n",
      "Dissatisfied       0.77      0.82      0.79       161\n",
      "\n",
      "    accuracy                           0.83       400\n",
      "   macro avg       0.82      0.83      0.82       400\n",
      "weighted avg       0.83      0.83      0.83       400\n",
      "\n"
     ]
    }
   ],
   "source": [
    "print(classification_report(ytestss2, ypredss2, target_names=['Satisfied','Dissatisfied']))"
   ]
  },
  {
   "cell_type": "code",
   "execution_count": 258,
   "id": "engaging-necklace",
   "metadata": {},
   "outputs": [],
   "source": [
    "report_table = report_table + [['Linear SVM', 'C=10 & Penalty = l2', linsvmss.score(Xtrainpcass, ytrainss2)*100, \n",
    "                                linsvmss.score(Xtrainpcass, ytrainss2)*100,\n",
    "                                f1_score(ytestss2,linsvmss.predict(Xtestpcass))]]"
   ]
  },
  {
   "cell_type": "markdown",
   "id": "strong-snapshot",
   "metadata": {},
   "source": [
    "## svc kernel \"rbf\""
   ]
  },
  {
   "cell_type": "code",
   "execution_count": 259,
   "id": "royal-stevens",
   "metadata": {},
   "outputs": [
    {
     "name": "stdout",
     "output_type": "stream",
     "text": [
      "Train score for SVC kernel - rbf with PCA: 0.933\n",
      "Test score for SVC kernel - rbf with PCA : 0.895\n"
     ]
    }
   ],
   "source": [
    "rbfss = SVC(kernel='rbf', gamma=0.1, C=10)\n",
    "\n",
    "\n",
    "rbfss.fit(Xtrainpcass, ytrainss2)\n",
    "ypredss2 = rbfss.predict(Xtestpcass)\n",
    "\n",
    "print('Train score for SVC kernel - rbf with PCA: {:.3f}'.format(rbfss.score(Xtrainpcass,ytrainss2)))\n",
    "print('Test score for SVC kernel - rbf with PCA : {:.3f}'.format(rbfss.score(Xtestpcass,ytestss2)))"
   ]
  },
  {
   "cell_type": "code",
   "execution_count": 260,
   "id": "gross-usage",
   "metadata": {},
   "outputs": [
    {
     "name": "stdout",
     "output_type": "stream",
     "text": [
      "matrix \n",
      "[[217  20]\n",
      " [ 22 141]]\n"
     ]
    }
   ],
   "source": [
    "conss = confusion_matrix(ypredss2,ytestss2)\n",
    "print(\"matrix \\n{}\".format(conss))"
   ]
  },
  {
   "cell_type": "code",
   "execution_count": 261,
   "id": "fifty-workplace",
   "metadata": {},
   "outputs": [
    {
     "data": {
      "image/png": "[encoded data removed]",
      "text/plain": [
       "<Figure size 432x288 with 1 Axes>"
      ]
     },
     "metadata": {
      "needs_background": "light"
     },
     "output_type": "display_data"
    }
   ],
   "source": [
    "import mglearn\n",
    "%matplotlib inline\n",
    "\n",
    "imagess = mglearn.tools.heatmap(confusion_matrix(ypredss2, ytestss2), xlabel = 'Predicted_value',\n",
    "    ylabel='True_value', xticklabels = ['Satisfied','Dissatisfied'],\n",
    "    yticklabels=['Satisfied','Dissatisfied'], fmt=\"%d\")\n"
   ]
  },
  {
   "cell_type": "code",
   "execution_count": 262,
   "id": "closing-black",
   "metadata": {},
   "outputs": [
    {
     "name": "stdout",
     "output_type": "stream",
     "text": [
      "              precision    recall  f1-score   support\n",
      "\n",
      "   Satisfied       0.92      0.91      0.91       239\n",
      "Dissatisfied       0.87      0.88      0.87       161\n",
      "\n",
      "    accuracy                           0.90       400\n",
      "   macro avg       0.89      0.89      0.89       400\n",
      "weighted avg       0.90      0.90      0.90       400\n",
      "\n"
     ]
    }
   ],
   "source": [
    "print(classification_report(ytestss2, ypredss2, target_names=['Satisfied','Dissatisfied']))"
   ]
  },
  {
   "cell_type": "code",
   "execution_count": 263,
   "id": "moderate-locking",
   "metadata": {},
   "outputs": [],
   "source": [
    "report_table = report_table + [['SVC RBF ', 'C=10 & Penalty = l2', rbfss.score(Xtrainpcass, ytrainss2)*100, \n",
    "                                rbfss.score(Xtrainpcass, ytrainss2)*100,\n",
    "                                f1_score(ytestss2,rbfss.predict(Xtestpcass))]]"
   ]
  },
  {
   "cell_type": "markdown",
   "id": "accredited-apple",
   "metadata": {},
   "source": [
    "### SVC kernel \"Linear\""
   ]
  },
  {
   "cell_type": "code",
   "execution_count": 264,
   "id": "twenty-electric",
   "metadata": {
    "scrolled": true
   },
   "outputs": [
    {
     "name": "stdout",
     "output_type": "stream",
     "text": [
      "Train score for SVC kernel - Linear with PCA: 0.865\n",
      "Test score for SVC kernel - Linear with PCA : 0.838\n"
     ]
    }
   ],
   "source": [
    "linss = SVC(kernel='linear', C=100)\n",
    "\n",
    "linss.fit(Xtrainpcass, ytrainss2)\n",
    "ypredss2 = linss.predict(Xtestpcass)\n",
    "\n",
    "print('Train score for SVC kernel - Linear with PCA: {:.3f}'.format(linss.score(Xtrainpcass,ytrainss2)))\n",
    "print('Test score for SVC kernel - Linear with PCA : {:.3f}'.format(linss.score(Xtestpcass,ytestss2)))"
   ]
  },
  {
   "cell_type": "code",
   "execution_count": 265,
   "id": "north-mainstream",
   "metadata": {},
   "outputs": [
    {
     "name": "stdout",
     "output_type": "stream",
     "text": [
      "matrix \n",
      "[[206  32]\n",
      " [ 33 129]]\n"
     ]
    }
   ],
   "source": [
    "conss = confusion_matrix(ypredss2,ytestss2)\n",
    "print(\"matrix \\n{}\".format(conss))\n"
   ]
  },
  {
   "cell_type": "code",
   "execution_count": 266,
   "id": "listed-inspiration",
   "metadata": {},
   "outputs": [
    {
     "data": {
      "image/png": "[encoded data removed]",
      "text/plain": [
       "<Figure size 432x288 with 1 Axes>"
      ]
     },
     "metadata": {
      "needs_background": "light"
     },
     "output_type": "display_data"
    }
   ],
   "source": [
    "import mglearn\n",
    "%matplotlib inline\n",
    "\n",
    "imagess = mglearn.tools.heatmap(confusion_matrix(ypredss2, ytestss2), xlabel = 'Predicted_value',\n",
    "    ylabel='True_value', xticklabels = ['Satisfied','Dissatisfied'],\n",
    "    yticklabels=['Satisfied','Dissatisfied'], fmt=\"%d\")\n",
    "\n"
   ]
  },
  {
   "cell_type": "code",
   "execution_count": 267,
   "id": "moderate-stereo",
   "metadata": {},
   "outputs": [
    {
     "name": "stdout",
     "output_type": "stream",
     "text": [
      "              precision    recall  f1-score   support\n",
      "\n",
      "   Satisfied       0.87      0.86      0.86       239\n",
      "Dissatisfied       0.80      0.80      0.80       161\n",
      "\n",
      "    accuracy                           0.84       400\n",
      "   macro avg       0.83      0.83      0.83       400\n",
      "weighted avg       0.84      0.84      0.84       400\n",
      "\n"
     ]
    }
   ],
   "source": [
    "print(classification_report(ytestss2, ypredss2, target_names=['Satisfied','Dissatisfied']))"
   ]
  },
  {
   "cell_type": "code",
   "execution_count": 268,
   "id": "sharp-teens",
   "metadata": {},
   "outputs": [],
   "source": [
    "report_table = report_table + [['SVC Linear ', 'C=10 & Penalty = l2', linss.score(Xtrainpcass, ytrainss2)*100, \n",
    "                                linss.score(Xtrainpcass, ytrainss2)*100,\n",
    "                                f1_score(ytestss2,linss.predict(Xtestpcass))]]"
   ]
  },
  {
   "cell_type": "markdown",
   "id": "marine-manner",
   "metadata": {},
   "source": [
    "### SVC with \"Poly\""
   ]
  },
  {
   "cell_type": "code",
   "execution_count": 269,
   "id": "comparable-brave",
   "metadata": {},
   "outputs": [
    {
     "name": "stdout",
     "output_type": "stream",
     "text": [
      "Train score for SVC kernel - poly with PCA: 0.996\n",
      "Test score for SVC kernel - poly with PCA : 0.845\n"
     ]
    }
   ],
   "source": [
    "polyss = SVC(kernel='poly', C=100)\n",
    "\n",
    "polyss.fit(Xtrainpcass, ytrainss2)\n",
    "ypredss2 = polyss.predict(Xtestpcass)\n",
    "\n",
    "print('Train score for SVC kernel - poly with PCA: {:.3f}'.format(polyss.score(Xtrainpcass,ytrainss2)))\n",
    "print('Test score for SVC kernel - poly with PCA : {:.3f}'.format(polyss.score(Xtestpcass,ytestss2)))"
   ]
  },
  {
   "cell_type": "code",
   "execution_count": 270,
   "id": "everyday-payday",
   "metadata": {},
   "outputs": [
    {
     "name": "stdout",
     "output_type": "stream",
     "text": [
      "matrix \n",
      "[[205  28]\n",
      " [ 34 133]]\n"
     ]
    }
   ],
   "source": [
    "conss = confusion_matrix(ypredss2,ytestss2)\n",
    "print(\"matrix \\n{}\".format(conss))"
   ]
  },
  {
   "cell_type": "code",
   "execution_count": 271,
   "id": "broad-alpha",
   "metadata": {},
   "outputs": [
    {
     "data": {
      "image/png": "[encoded data removed]",
      "text/plain": [
       "<Figure size 432x288 with 1 Axes>"
      ]
     },
     "metadata": {
      "needs_background": "light"
     },
     "output_type": "display_data"
    }
   ],
   "source": [
    "import mglearn\n",
    "%matplotlib inline\n",
    "\n",
    "imagess = mglearn.tools.heatmap(\n",
    "    confusion_matrix(ypredss2, ytestss2), xlabel = 'Predicted_value',\n",
    "    ylabel='True_value', xticklabels = ['Satisfied','Dissatisfied'],\n",
    "    yticklabels=['Satisfied','Dissatisfied'], fmt=\"%d\")\n"
   ]
  },
  {
   "cell_type": "code",
   "execution_count": 272,
   "id": "amino-train",
   "metadata": {},
   "outputs": [
    {
     "name": "stdout",
     "output_type": "stream",
     "text": [
      "              precision    recall  f1-score   support\n",
      "\n",
      "   Satisfied       0.88      0.86      0.87       239\n",
      "Dissatisfied       0.80      0.83      0.81       161\n",
      "\n",
      "    accuracy                           0.84       400\n",
      "   macro avg       0.84      0.84      0.84       400\n",
      "weighted avg       0.85      0.84      0.85       400\n",
      "\n"
     ]
    }
   ],
   "source": [
    "print(classification_report(ytestss2, ypredss2, target_names=['Satisfied','Dissatisfied']))"
   ]
  },
  {
   "cell_type": "code",
   "execution_count": 273,
   "id": "accessory-allocation",
   "metadata": {},
   "outputs": [],
   "source": [
    "report_table = report_table + [['SVC Poly ', 'C=10 & Penalty = l2', polyss.score(Xtrainpcass, ytrainss2)*100, \n",
    "                                polyss.score(Xtrainpcass, ytrainss2)*100,\n",
    "                                f1_score(ytestss2,polyss.predict(Xtestpcass))]]"
   ]
  },
  {
   "cell_type": "markdown",
   "id": "confused-diabetes",
   "metadata": {},
   "source": [
    "# PCA with Decision Tree"
   ]
  },
  {
   "cell_type": "markdown",
   "id": "short-simple",
   "metadata": {},
   "source": [
    "#### Grid search for decision tree"
   ]
  },
  {
   "cell_type": "code",
   "execution_count": 274,
   "id": "harmful-shower",
   "metadata": {},
   "outputs": [
    {
     "name": "stdout",
     "output_type": "stream",
     "text": [
      "Fitting 5 folds for each of 19 candidates, totalling 95 fits\n",
      "Best parameters: {'max_depth': 5}\n",
      "Best cross-validation score: 0.849375\n"
     ]
    }
   ],
   "source": [
    "paramgridss = {'max_depth' : range(1,20)}\n",
    "\n",
    "gridsearchpcass = GridSearchCV(DecisionTreeClassifier(), paramgridss, cv=5, return_train_score=True, n_jobs = -1, verbose = True)\n",
    "gridsearchpcass.fit(Xtrainpcass, ytrainss2)\n",
    "\n",
    "print(\"Best parameters:\",(gridsearchpcass.best_params_))\n",
    "print(\"Best cross-validation score:\",(gridsearchpcass.best_score_))"
   ]
  },
  {
   "cell_type": "markdown",
   "id": "annual-miller",
   "metadata": {},
   "source": [
    "#### using the best parameters "
   ]
  },
  {
   "cell_type": "code",
   "execution_count": 275,
   "id": "ready-hamburg",
   "metadata": {},
   "outputs": [
    {
     "name": "stdout",
     "output_type": "stream",
     "text": [
      "Train Score with PCA:  0.9025\n",
      "Test Score  with PCA : 0.85\n"
     ]
    }
   ],
   "source": [
    "dtreess = DecisionTreeClassifier(max_depth=5, random_state=0)\n",
    "dtreess.fit(Xtrainpcass, ytrainss2)\n",
    "ypredss2 = dtreess.predict(Xtestpcass)\n",
    "\n",
    "\n",
    "print(\"Train Score with PCA: \",(dtreess.score(Xtrainpcass, ytrainss2)))\n",
    "print(\"Test Score  with PCA :\",(dtreess.score(Xtestpcass, ytestss2)))"
   ]
  },
  {
   "cell_type": "code",
   "execution_count": 276,
   "id": "elect-border",
   "metadata": {},
   "outputs": [
    {
     "name": "stdout",
     "output_type": "stream",
     "text": [
      "matrix \n",
      "[[211  32]\n",
      " [ 28 129]]\n"
     ]
    }
   ],
   "source": [
    "conss = confusion_matrix(ypredss2,ytestss2)\n",
    "print(\"matrix \\n{}\".format(conss))"
   ]
  },
  {
   "cell_type": "code",
   "execution_count": 277,
   "id": "compatible-bottom",
   "metadata": {},
   "outputs": [
    {
     "data": {
      "image/png": "[encoded data removed]",
      "text/plain": [
       "<Figure size 432x288 with 1 Axes>"
      ]
     },
     "metadata": {
      "needs_background": "light"
     },
     "output_type": "display_data"
    }
   ],
   "source": [
    "import mglearn\n",
    "%matplotlib inline\n",
    "\n",
    "imagess = mglearn.tools.heatmap(confusion_matrix(ypredss2, ytestss2), xlabel = 'Predicted_value',\n",
    "    ylabel='True_value', xticklabels = ['Satisfied','Dissatisfied'],\n",
    "    yticklabels=['Satisfied','Dissatisfied'], fmt=\"%d\")\n"
   ]
  },
  {
   "cell_type": "code",
   "execution_count": 278,
   "id": "foster-christian",
   "metadata": {},
   "outputs": [
    {
     "name": "stdout",
     "output_type": "stream",
     "text": [
      "              precision    recall  f1-score   support\n",
      "\n",
      "   Satisfied       0.87      0.88      0.88       239\n",
      "Dissatisfied       0.82      0.80      0.81       161\n",
      "\n",
      "    accuracy                           0.85       400\n",
      "   macro avg       0.84      0.84      0.84       400\n",
      "weighted avg       0.85      0.85      0.85       400\n",
      "\n"
     ]
    }
   ],
   "source": [
    "print(classification_report(ytestss2, ypredss2, target_names=['Satisfied','Dissatisfied']))"
   ]
  },
  {
   "cell_type": "markdown",
   "id": "loved-steam",
   "metadata": {},
   "source": [
    "## Scores from Project 2"
   ]
  },
  {
   "cell_type": "code",
   "execution_count": 279,
   "id": "arabic-wedding",
   "metadata": {},
   "outputs": [],
   "source": [
    "report_table = report_table + [['Decision Tree ', 'C=10 & Penalty = l2', dtreess.score(Xtrainpcass, ytrainss2)*100, \n",
    "                                dtreess.score(Xtrainpcass, ytrainss2)*100,\n",
    "                                f1_score(ytestss2,dtreess.predict(Xtestpcass))]]"
   ]
  },
  {
   "cell_type": "code",
   "execution_count": 280,
   "id": "occupied-quantity",
   "metadata": {},
   "outputs": [
    {
     "data": {
      "text/html": [
       "<div>\n",
       "<style scoped>\n",
       "    .dataframe tbody tr th:only-of-type {\n",
       "        vertical-align: middle;\n",
       "    }\n",
       "\n",
       "    .dataframe tbody tr th {\n",
       "        vertical-align: top;\n",
       "    }\n",
       "\n",
       "    .dataframe thead th {\n",
       "        text-align: right;\n",
       "    }\n",
       "</style>\n",
       "<table border=\"1\" class=\"dataframe\">\n",
       "  <thead>\n",
       "    <tr style=\"text-align: right;\">\n",
       "      <th></th>\n",
       "      <th>Model name</th>\n",
       "      <th>Model parameter</th>\n",
       "      <th>Train accuracy %</th>\n",
       "      <th>Test accuracy %</th>\n",
       "      <th>F1- score</th>\n",
       "    </tr>\n",
       "    <tr>\n",
       "      <th>Model name</th>\n",
       "      <th></th>\n",
       "      <th></th>\n",
       "      <th></th>\n",
       "      <th></th>\n",
       "      <th></th>\n",
       "    </tr>\n",
       "  </thead>\n",
       "  <tbody>\n",
       "    <tr>\n",
       "      <th>KNN Classification</th>\n",
       "      <td>KNN Classification</td>\n",
       "      <td>K=9</td>\n",
       "      <td>89.062</td>\n",
       "      <td>89.062</td>\n",
       "      <td>0.818</td>\n",
       "    </tr>\n",
       "    <tr>\n",
       "      <th>Logistic Regression</th>\n",
       "      <td>Logistic Regression</td>\n",
       "      <td>C=10 &amp; Penalty = l2</td>\n",
       "      <td>86.062</td>\n",
       "      <td>86.062</td>\n",
       "      <td>0.796</td>\n",
       "    </tr>\n",
       "    <tr>\n",
       "      <th>Linear SVM</th>\n",
       "      <td>Linear SVM</td>\n",
       "      <td>C=10 &amp; Penalty = l2</td>\n",
       "      <td>84.625</td>\n",
       "      <td>84.625</td>\n",
       "      <td>0.793</td>\n",
       "    </tr>\n",
       "    <tr>\n",
       "      <th>SVC RBF</th>\n",
       "      <td>SVC RBF</td>\n",
       "      <td>C=10 &amp; Penalty = l2</td>\n",
       "      <td>93.312</td>\n",
       "      <td>93.312</td>\n",
       "      <td>0.870</td>\n",
       "    </tr>\n",
       "    <tr>\n",
       "      <th>SVC Linear</th>\n",
       "      <td>SVC Linear</td>\n",
       "      <td>C=10 &amp; Penalty = l2</td>\n",
       "      <td>86.500</td>\n",
       "      <td>86.500</td>\n",
       "      <td>0.799</td>\n",
       "    </tr>\n",
       "    <tr>\n",
       "      <th>SVC Poly</th>\n",
       "      <td>SVC Poly</td>\n",
       "      <td>C=10 &amp; Penalty = l2</td>\n",
       "      <td>99.625</td>\n",
       "      <td>99.625</td>\n",
       "      <td>0.811</td>\n",
       "    </tr>\n",
       "    <tr>\n",
       "      <th>Decision Tree</th>\n",
       "      <td>Decision Tree</td>\n",
       "      <td>C=10 &amp; Penalty = l2</td>\n",
       "      <td>90.250</td>\n",
       "      <td>90.250</td>\n",
       "      <td>0.811</td>\n",
       "    </tr>\n",
       "  </tbody>\n",
       "</table>\n",
       "</div>"
      ],
      "text/plain": [
       "                              Model name      Model parameter  \\\n",
       "Model name                                                      \n",
       "KNN Classification    KNN Classification                  K=9   \n",
       "Logistic Regression  Logistic Regression  C=10 & Penalty = l2   \n",
       "Linear SVM                    Linear SVM  C=10 & Penalty = l2   \n",
       "SVC RBF                         SVC RBF   C=10 & Penalty = l2   \n",
       "SVC Linear                   SVC Linear   C=10 & Penalty = l2   \n",
       "SVC Poly                       SVC Poly   C=10 & Penalty = l2   \n",
       "Decision Tree             Decision Tree   C=10 & Penalty = l2   \n",
       "\n",
       "                     Train accuracy %  Test accuracy %  F1- score  \n",
       "Model name                                                         \n",
       "KNN Classification             89.062           89.062      0.818  \n",
       "Logistic Regression            86.062           86.062      0.796  \n",
       "Linear SVM                     84.625           84.625      0.793  \n",
       "SVC RBF                        93.312           93.312      0.870  \n",
       "SVC Linear                     86.500           86.500      0.799  \n",
       "SVC Poly                       99.625           99.625      0.811  \n",
       "Decision Tree                  90.250           90.250      0.811  "
      ]
     },
     "execution_count": 280,
     "metadata": {},
     "output_type": "execute_result"
    }
   ],
   "source": [
    "report = pd.DataFrame(report_table,columns = ['Model name','Model parameter', 'Train accuracy %', 'Test accuracy %', 'F1- score'])\n",
    "report.index = report['Model name']\n",
    "report.round(3)"
   ]
  },
  {
   "cell_type": "markdown",
   "id": "opposite-finish",
   "metadata": {},
   "source": [
    "## Scores from project 1"
   ]
  },
  {
   "cell_type": "code",
   "execution_count": 281,
   "id": "eight-consistency",
   "metadata": {},
   "outputs": [],
   "source": [
    "report = []\n",
    "report += [[\"KNN Classification\",\"n=6\" ,'1', '0.8825', '0.8488']]\n",
    "report += [[\"Logistic Regression\",\"C=10 , max iter =39\",'0.8656', '0.8550', '0.8231']]\n",
    "report += [[\"Linear SVM Classifier\",\"C=1 & Max_iter=47\",'0.8556', '0.8325', '0.8046']] \n",
    "report += [[\"Kernalized SVM rbf Classifier\",'C=0.01 & gamma = 1','0.5537', '0.5975','0.000']]\n",
    "report += [[\"Kernalized SVM Linear Classifier\",'C=0.01 & gamma = 1','0.8337', '0.8175','0.8352']]\n",
    "report += [[\"Kernalized poly SVM Classifier\",'C=0.01 & gamma = 1','0.8906', '0.8925','0.8479']]\n",
    "report += [[\"Decision Tress Classifier\",'Max depth =5','0.9125', '0.8825','0.8571']]"
   ]
  },
  {
   "cell_type": "code",
   "execution_count": 282,
   "id": "sexual-association",
   "metadata": {},
   "outputs": [
    {
     "data": {
      "text/html": [
       "<div>\n",
       "<style scoped>\n",
       "    .dataframe tbody tr th:only-of-type {\n",
       "        vertical-align: middle;\n",
       "    }\n",
       "\n",
       "    .dataframe tbody tr th {\n",
       "        vertical-align: top;\n",
       "    }\n",
       "\n",
       "    .dataframe thead th {\n",
       "        text-align: right;\n",
       "    }\n",
       "</style>\n",
       "<table border=\"1\" class=\"dataframe\">\n",
       "  <thead>\n",
       "    <tr style=\"text-align: right;\">\n",
       "      <th></th>\n",
       "      <th>Model name</th>\n",
       "      <th>Model parameter</th>\n",
       "      <th>Train accuracy %</th>\n",
       "      <th>Test accuracy %</th>\n",
       "      <th>F1- score</th>\n",
       "    </tr>\n",
       "    <tr>\n",
       "      <th>Model name</th>\n",
       "      <th></th>\n",
       "      <th></th>\n",
       "      <th></th>\n",
       "      <th></th>\n",
       "      <th></th>\n",
       "    </tr>\n",
       "  </thead>\n",
       "  <tbody>\n",
       "    <tr>\n",
       "      <th>KNN Classification</th>\n",
       "      <td>KNN Classification</td>\n",
       "      <td>n=6</td>\n",
       "      <td>1</td>\n",
       "      <td>0.8825</td>\n",
       "      <td>0.8488</td>\n",
       "    </tr>\n",
       "    <tr>\n",
       "      <th>Logistic Regression</th>\n",
       "      <td>Logistic Regression</td>\n",
       "      <td>C=10 , max iter =39</td>\n",
       "      <td>0.8656</td>\n",
       "      <td>0.8550</td>\n",
       "      <td>0.8231</td>\n",
       "    </tr>\n",
       "    <tr>\n",
       "      <th>Linear SVM Classifier</th>\n",
       "      <td>Linear SVM Classifier</td>\n",
       "      <td>C=1 &amp; Max_iter=47</td>\n",
       "      <td>0.8556</td>\n",
       "      <td>0.8325</td>\n",
       "      <td>0.8046</td>\n",
       "    </tr>\n",
       "    <tr>\n",
       "      <th>Kernalized SVM rbf Classifier</th>\n",
       "      <td>Kernalized SVM rbf Classifier</td>\n",
       "      <td>C=0.01 &amp; gamma = 1</td>\n",
       "      <td>0.5537</td>\n",
       "      <td>0.5975</td>\n",
       "      <td>0.000</td>\n",
       "    </tr>\n",
       "    <tr>\n",
       "      <th>Kernalized SVM Linear Classifier</th>\n",
       "      <td>Kernalized SVM Linear Classifier</td>\n",
       "      <td>C=0.01 &amp; gamma = 1</td>\n",
       "      <td>0.8337</td>\n",
       "      <td>0.8175</td>\n",
       "      <td>0.8352</td>\n",
       "    </tr>\n",
       "    <tr>\n",
       "      <th>Kernalized poly SVM Classifier</th>\n",
       "      <td>Kernalized poly SVM Classifier</td>\n",
       "      <td>C=0.01 &amp; gamma = 1</td>\n",
       "      <td>0.8906</td>\n",
       "      <td>0.8925</td>\n",
       "      <td>0.8479</td>\n",
       "    </tr>\n",
       "    <tr>\n",
       "      <th>Decision Tress Classifier</th>\n",
       "      <td>Decision Tress Classifier</td>\n",
       "      <td>Max depth =5</td>\n",
       "      <td>0.9125</td>\n",
       "      <td>0.8825</td>\n",
       "      <td>0.8571</td>\n",
       "    </tr>\n",
       "  </tbody>\n",
       "</table>\n",
       "</div>"
      ],
      "text/plain": [
       "                                                        Model name  \\\n",
       "Model name                                                           \n",
       "KNN Classification                              KNN Classification   \n",
       "Logistic Regression                            Logistic Regression   \n",
       "Linear SVM Classifier                        Linear SVM Classifier   \n",
       "Kernalized SVM rbf Classifier        Kernalized SVM rbf Classifier   \n",
       "Kernalized SVM Linear Classifier  Kernalized SVM Linear Classifier   \n",
       "Kernalized poly SVM Classifier      Kernalized poly SVM Classifier   \n",
       "Decision Tress Classifier                Decision Tress Classifier   \n",
       "\n",
       "                                      Model parameter Train accuracy %  \\\n",
       "Model name                                                               \n",
       "KNN Classification                                n=6                1   \n",
       "Logistic Regression               C=10 , max iter =39           0.8656   \n",
       "Linear SVM Classifier               C=1 & Max_iter=47           0.8556   \n",
       "Kernalized SVM rbf Classifier      C=0.01 & gamma = 1           0.5537   \n",
       "Kernalized SVM Linear Classifier   C=0.01 & gamma = 1           0.8337   \n",
       "Kernalized poly SVM Classifier     C=0.01 & gamma = 1           0.8906   \n",
       "Decision Tress Classifier                Max depth =5           0.9125   \n",
       "\n",
       "                                 Test accuracy % F1- score  \n",
       "Model name                                                  \n",
       "KNN Classification                        0.8825    0.8488  \n",
       "Logistic Regression                       0.8550    0.8231  \n",
       "Linear SVM Classifier                     0.8325    0.8046  \n",
       "Kernalized SVM rbf Classifier             0.5975     0.000  \n",
       "Kernalized SVM Linear Classifier          0.8175    0.8352  \n",
       "Kernalized poly SVM Classifier            0.8925    0.8479  \n",
       "Decision Tress Classifier                 0.8825    0.8571  "
      ]
     },
     "execution_count": 282,
     "metadata": {},
     "output_type": "execute_result"
    }
   ],
   "source": [
    "reporta = pd.DataFrame(report,columns = ['Model name','Model parameter', 'Train accuracy %', 'Test accuracy %','F1- score' ])\n",
    "reporta.index = reporta['Model name']\n",
    "reporta"
   ]
  },
  {
   "cell_type": "markdown",
   "id": "hidden-shore",
   "metadata": {},
   "source": [
    "# Comparision of result of PCA for all models with project 1"
   ]
  },
  {
   "cell_type": "markdown",
   "id": "flying-techno",
   "metadata": {},
   "source": [
    "#### For logistic regression the test accuracy after PCA increased from 85.5% to 86.06f%. Kernalized SVM rbf Classifier shows a lot of improvement after PCA. The test accuracy for this went up from 59.75% to 93.31%. Decision tree test accuracy shows an improvement of 2%. However, F-score for all models except Kernalized SVM rbf Classifier have dropped. "
   ]
  },
  {
   "cell_type": "markdown",
   "id": "intense-header",
   "metadata": {},
   "source": [
    "# Neural Networks - Classification"
   ]
  },
  {
   "cell_type": "code",
   "execution_count": 283,
   "id": "great-homeless",
   "metadata": {},
   "outputs": [],
   "source": [
    "from keras.models import Sequential\n",
    "from keras.layers import Dense\n",
    "\n"
   ]
  },
  {
   "cell_type": "markdown",
   "id": "individual-strip",
   "metadata": {},
   "source": [
    "#### Grid search"
   ]
  },
  {
   "cell_type": "code",
   "execution_count": 284,
   "id": "sacred-gross",
   "metadata": {},
   "outputs": [],
   "source": [
    "def create_model():\n",
    "    #create model\n",
    "    model = Sequential()\n",
    "    model.add(Dense(12, input_dim=17, activation='relu'))\n",
    "    model.add(Dense(8, activation='relu'))\n",
    "    model.add(Dense(1, activation='sigmoid'))\n",
    "    #compile model\n",
    "    model.compile(loss='binary_crossentropy', optimizer='adam', metrics=['accuracy'])\n",
    "    return model"
   ]
  },
  {
   "cell_type": "code",
   "execution_count": 285,
   "id": "small-bullet",
   "metadata": {},
   "outputs": [],
   "source": [
    "from keras.wrappers.scikit_learn import KerasClassifier\n",
    "model = KerasClassifier(build_fn = create_model, verbose = 0)\n",
    "\n",
    "param_grid = {'batch_size':[10,20,30,40] , 'epochs':[10, 50, 100]}\n",
    "grid_searchdpl = GridSearchCV(estimator= model, param_grid = param_grid, cv = 5)"
   ]
  },
  {
   "cell_type": "code",
   "execution_count": 287,
   "id": "regional-lesbian",
   "metadata": {},
   "outputs": [],
   "source": [
    "grid_search_resultdpl = grid_searchdpl.fit(Xtrainpcass, ytrainss2)"
   ]
  },
  {
   "cell_type": "code",
   "execution_count": 288,
   "id": "other-trick",
   "metadata": {},
   "outputs": [
    {
     "name": "stdout",
     "output_type": "stream",
     "text": [
      "Grid Search deep learning Best parameter:{'batch_size': 30, 'epochs': 100}\n",
      "Grid Search deep learning Best score: 0.9037500023841858\n"
     ]
    }
   ],
   "source": [
    "print(\"Grid Search deep learning Best parameter:{:}\".format(grid_search_resultdpl.best_params_))\n",
    "print(\"Grid Search deep learning Best score: {:}\".format(grid_search_resultdpl.best_score_))"
   ]
  },
  {
   "cell_type": "code",
   "execution_count": 289,
   "id": "dying-tennessee",
   "metadata": {},
   "outputs": [],
   "source": [
    "# create model\n",
    "modelss = Sequential()\n",
    "modelss.add(Dense(12, input_dim=17, activation='relu'))\n",
    "modelss.add(Dense(8, activation='relu'))\n",
    "modelss.add(Dense(1, activation='sigmoid'))"
   ]
  },
  {
   "cell_type": "code",
   "execution_count": 290,
   "id": "innocent-palestine",
   "metadata": {},
   "outputs": [],
   "source": [
    "# Compile model\n",
    "modelss.compile(loss='binary_crossentropy', optimizer='adam', metrics=['accuracy'])"
   ]
  },
  {
   "cell_type": "code",
   "execution_count": 291,
   "id": "conventional-election",
   "metadata": {},
   "outputs": [
    {
     "name": "stdout",
     "output_type": "stream",
     "text": [
      "Epoch 1/50\n",
      "160/160 [==============================] - 1s 2ms/step - loss: 0.6590 - accuracy: 0.5718\n",
      "Epoch 2/50\n",
      "160/160 [==============================] - 0s 2ms/step - loss: 0.5597 - accuracy: 0.7529\n",
      "Epoch 3/50\n",
      "160/160 [==============================] - 0s 2ms/step - loss: 0.4431 - accuracy: 0.8466\n",
      "Epoch 4/50\n",
      "160/160 [==============================] - 0s 2ms/step - loss: 0.3562 - accuracy: 0.8689\n",
      "Epoch 5/50\n",
      "160/160 [==============================] - 0s 2ms/step - loss: 0.3398 - accuracy: 0.8734\n",
      "Epoch 6/50\n",
      "160/160 [==============================] - 0s 2ms/step - loss: 0.3374 - accuracy: 0.8682\n",
      "Epoch 7/50\n",
      "160/160 [==============================] - 0s 2ms/step - loss: 0.3012 - accuracy: 0.8847\n",
      "Epoch 8/50\n",
      "160/160 [==============================] - 0s 2ms/step - loss: 0.2856 - accuracy: 0.8837\n",
      "Epoch 9/50\n",
      "160/160 [==============================] - 0s 2ms/step - loss: 0.2986 - accuracy: 0.8743\n",
      "Epoch 10/50\n",
      "160/160 [==============================] - 0s 2ms/step - loss: 0.2599 - accuracy: 0.8999\n",
      "Epoch 11/50\n",
      "160/160 [==============================] - 0s 1ms/step - loss: 0.2446 - accuracy: 0.9107\n",
      "Epoch 12/50\n",
      "160/160 [==============================] - 0s 2ms/step - loss: 0.2433 - accuracy: 0.9079\n",
      "Epoch 13/50\n",
      "160/160 [==============================] - 0s 2ms/step - loss: 0.2259 - accuracy: 0.9126\n",
      "Epoch 14/50\n",
      "160/160 [==============================] - 0s 2ms/step - loss: 0.2143 - accuracy: 0.9156\n",
      "Epoch 15/50\n",
      "160/160 [==============================] - 0s 2ms/step - loss: 0.2013 - accuracy: 0.9345\n",
      "Epoch 16/50\n",
      "160/160 [==============================] - 0s 2ms/step - loss: 0.2218 - accuracy: 0.9143\n",
      "Epoch 17/50\n",
      "160/160 [==============================] - 0s 2ms/step - loss: 0.2038 - accuracy: 0.9265\n",
      "Epoch 18/50\n",
      "160/160 [==============================] - 0s 2ms/step - loss: 0.2046 - accuracy: 0.9266\n",
      "Epoch 19/50\n",
      "160/160 [==============================] - 0s 2ms/step - loss: 0.1893 - accuracy: 0.9357\n",
      "Epoch 20/50\n",
      "160/160 [==============================] - 0s 2ms/step - loss: 0.2109 - accuracy: 0.9278\n",
      "Epoch 21/50\n",
      "160/160 [==============================] - 0s 2ms/step - loss: 0.2212 - accuracy: 0.9196\n",
      "Epoch 22/50\n",
      "160/160 [==============================] - 0s 2ms/step - loss: 0.2088 - accuracy: 0.9224\n",
      "Epoch 23/50\n",
      "160/160 [==============================] - 0s 2ms/step - loss: 0.2015 - accuracy: 0.9172\n",
      "Epoch 24/50\n",
      "160/160 [==============================] - 0s 2ms/step - loss: 0.1869 - accuracy: 0.9292\n",
      "Epoch 25/50\n",
      "160/160 [==============================] - 0s 2ms/step - loss: 0.1878 - accuracy: 0.9254\n",
      "Epoch 26/50\n",
      "160/160 [==============================] - 0s 2ms/step - loss: 0.1859 - accuracy: 0.9277\n",
      "Epoch 27/50\n",
      "160/160 [==============================] - 0s 2ms/step - loss: 0.1983 - accuracy: 0.9245\n",
      "Epoch 28/50\n",
      "160/160 [==============================] - 0s 2ms/step - loss: 0.2071 - accuracy: 0.9178\n",
      "Epoch 29/50\n",
      "160/160 [==============================] - 0s 2ms/step - loss: 0.1932 - accuracy: 0.9259\n",
      "Epoch 30/50\n",
      "160/160 [==============================] - 0s 2ms/step - loss: 0.1969 - accuracy: 0.9288\n",
      "Epoch 31/50\n",
      "160/160 [==============================] - 0s 2ms/step - loss: 0.1844 - accuracy: 0.9273\n",
      "Epoch 32/50\n",
      "160/160 [==============================] - 0s 3ms/step - loss: 0.1702 - accuracy: 0.9287\n",
      "Epoch 33/50\n",
      "160/160 [==============================] - 0s 2ms/step - loss: 0.1992 - accuracy: 0.9192\n",
      "Epoch 34/50\n",
      "160/160 [==============================] - 0s 2ms/step - loss: 0.1693 - accuracy: 0.9337\n",
      "Epoch 35/50\n",
      "160/160 [==============================] - 0s 2ms/step - loss: 0.1858 - accuracy: 0.9291\n",
      "Epoch 36/50\n",
      "160/160 [==============================] - 0s 2ms/step - loss: 0.1653 - accuracy: 0.9312\n",
      "Epoch 37/50\n",
      "160/160 [==============================] - 0s 2ms/step - loss: 0.1821 - accuracy: 0.9274\n",
      "Epoch 38/50\n",
      "160/160 [==============================] - 0s 2ms/step - loss: 0.1927 - accuracy: 0.9224\n",
      "Epoch 39/50\n",
      "160/160 [==============================] - 0s 2ms/step - loss: 0.1799 - accuracy: 0.9335\n",
      "Epoch 40/50\n",
      "160/160 [==============================] - 0s 2ms/step - loss: 0.1888 - accuracy: 0.9210\n",
      "Epoch 41/50\n",
      "160/160 [==============================] - 0s 2ms/step - loss: 0.1637 - accuracy: 0.9347\n",
      "Epoch 42/50\n",
      "160/160 [==============================] - 0s 2ms/step - loss: 0.1775 - accuracy: 0.9283\n",
      "Epoch 43/50\n",
      "160/160 [==============================] - 0s 2ms/step - loss: 0.1786 - accuracy: 0.9302\n",
      "Epoch 44/50\n",
      "160/160 [==============================] - 0s 2ms/step - loss: 0.1783 - accuracy: 0.9301\n",
      "Epoch 45/50\n",
      "160/160 [==============================] - 0s 2ms/step - loss: 0.1645 - accuracy: 0.9358\n",
      "Epoch 46/50\n",
      "160/160 [==============================] - 0s 2ms/step - loss: 0.1800 - accuracy: 0.9303\n",
      "Epoch 47/50\n",
      "160/160 [==============================] - 0s 2ms/step - loss: 0.1701 - accuracy: 0.9364\n",
      "Epoch 48/50\n",
      "160/160 [==============================] - 0s 2ms/step - loss: 0.1666 - accuracy: 0.9375\n",
      "Epoch 49/50\n",
      "160/160 [==============================] - 0s 2ms/step - loss: 0.1767 - accuracy: 0.9263\n",
      "Epoch 50/50\n",
      "160/160 [==============================] - 0s 2ms/step - loss: 0.1814 - accuracy: 0.9263\n"
     ]
    },
    {
     "data": {
      "text/plain": [
       "<tensorflow.python.keras.callbacks.History at 0x7fb3c4a34ca0>"
      ]
     },
     "execution_count": 291,
     "metadata": {},
     "output_type": "execute_result"
    }
   ],
   "source": [
    "modelss.fit(Xtrainpcass, ytrainss2, epochs=50, batch_size=10)"
   ]
  },
  {
   "cell_type": "code",
   "execution_count": 292,
   "id": "finnish-language",
   "metadata": {
    "scrolled": true
   },
   "outputs": [
    {
     "name": "stdout",
     "output_type": "stream",
     "text": [
      "13/13 [==============================] - 0s 3ms/step - loss: 0.2728 - accuracy: 0.8850\n",
      "\n",
      "accuracy: 88.50%\n"
     ]
    }
   ],
   "source": [
    "# Evaluating the Model and calculating the accuracy\n",
    "scoresss = modelss.evaluate(Xtestpcass, ytestss2)\n",
    "print(\"\\n%s: %.2f%%\" % (modelss.metrics_names[1], scoresss[1]*100))"
   ]
  },
  {
   "cell_type": "code",
   "execution_count": 293,
   "id": "organizational-powder",
   "metadata": {},
   "outputs": [
    {
     "data": {
      "text/plain": [
       "array([[2.61151791e-03],\n",
       "       [9.89907980e-01],\n",
       "       [8.31687510e-01],\n",
       "       [6.71149850e-01],\n",
       "       [9.13978815e-01],\n",
       "       [9.93284941e-01],\n",
       "       [9.90157366e-01],\n",
       "       [4.52265143e-03],\n",
       "       [8.30345452e-01],\n",
       "       [9.95795727e-01],\n",
       "       [3.33131552e-01],\n",
       "       [1.27876371e-01],\n",
       "       [1.10853583e-01],\n",
       "       [9.94905472e-01],\n",
       "       [9.35680568e-01],\n",
       "       [7.86891580e-03],\n",
       "       [4.19069231e-02],\n",
       "       [7.30368495e-03],\n",
       "       [1.07537806e-02],\n",
       "       [4.06001806e-02],\n",
       "       [7.60221601e-01],\n",
       "       [8.45107436e-03],\n",
       "       [9.66212511e-01],\n",
       "       [4.18663025e-04],\n",
       "       [1.46269798e-03],\n",
       "       [9.98038411e-01],\n",
       "       [1.37195885e-02],\n",
       "       [2.54951417e-02],\n",
       "       [9.99013782e-01],\n",
       "       [9.94228125e-01],\n",
       "       [7.00866342e-01],\n",
       "       [9.97232854e-01],\n",
       "       [9.95360494e-01],\n",
       "       [3.04602087e-02],\n",
       "       [9.95495975e-01],\n",
       "       [1.49383247e-02],\n",
       "       [1.74519420e-03],\n",
       "       [7.75959730e-01],\n",
       "       [9.98345137e-01],\n",
       "       [1.30343914e-01],\n",
       "       [3.36627066e-02],\n",
       "       [9.94893730e-01],\n",
       "       [1.90252364e-02],\n",
       "       [9.92037117e-01],\n",
       "       [9.94631350e-01],\n",
       "       [8.87872636e-01],\n",
       "       [1.34932995e-02],\n",
       "       [1.54028535e-02],\n",
       "       [9.89024758e-01],\n",
       "       [6.70665503e-03],\n",
       "       [3.63576412e-02],\n",
       "       [9.53056335e-01],\n",
       "       [2.48649716e-03],\n",
       "       [9.95259464e-01],\n",
       "       [1.81008428e-01],\n",
       "       [1.97878778e-02],\n",
       "       [4.17309999e-03],\n",
       "       [6.85246289e-02],\n",
       "       [3.65375578e-02],\n",
       "       [8.50547194e-01],\n",
       "       [2.09881961e-02],\n",
       "       [2.44244933e-02],\n",
       "       [9.81514990e-01],\n",
       "       [1.19566023e-02],\n",
       "       [9.98908162e-01],\n",
       "       [5.41439652e-03],\n",
       "       [9.51902986e-01],\n",
       "       [8.96897554e-01],\n",
       "       [1.71639919e-02],\n",
       "       [9.95494425e-01],\n",
       "       [9.98309731e-01],\n",
       "       [9.37319160e-01],\n",
       "       [5.10766327e-01],\n",
       "       [1.27398968e-03],\n",
       "       [8.31735253e-01],\n",
       "       [1.23960137e-01],\n",
       "       [9.89307404e-01],\n",
       "       [5.90973616e-01],\n",
       "       [6.26461148e-01],\n",
       "       [9.67333317e-01],\n",
       "       [6.17820323e-02],\n",
       "       [2.53951550e-03],\n",
       "       [3.98898125e-03],\n",
       "       [8.71121883e-04],\n",
       "       [9.98390377e-01],\n",
       "       [7.37302899e-01],\n",
       "       [9.71865356e-01],\n",
       "       [9.94442225e-01],\n",
       "       [3.23918462e-03],\n",
       "       [1.23011678e-01],\n",
       "       [5.86682558e-03],\n",
       "       [1.36625767e-03],\n",
       "       [7.50041008e-03],\n",
       "       [1.59731507e-03],\n",
       "       [9.94354248e-01],\n",
       "       [3.02946568e-03],\n",
       "       [1.24013424e-03],\n",
       "       [4.23994660e-03],\n",
       "       [1.35766298e-01],\n",
       "       [1.13015473e-01],\n",
       "       [6.11734390e-03],\n",
       "       [3.39535445e-01],\n",
       "       [2.77788639e-02],\n",
       "       [9.92216170e-01],\n",
       "       [2.80767709e-01],\n",
       "       [9.64357734e-01],\n",
       "       [9.95321691e-01],\n",
       "       [6.98886216e-02],\n",
       "       [4.05869693e-01],\n",
       "       [9.45007801e-03],\n",
       "       [2.03067064e-03],\n",
       "       [7.76554048e-02],\n",
       "       [9.98127997e-01],\n",
       "       [2.43243873e-02],\n",
       "       [1.15865469e-03],\n",
       "       [9.98084068e-01],\n",
       "       [4.60004866e-01],\n",
       "       [9.67153907e-01],\n",
       "       [9.56738293e-02],\n",
       "       [3.94689858e-01],\n",
       "       [2.12648511e-03],\n",
       "       [6.12808466e-02],\n",
       "       [8.63045454e-03],\n",
       "       [8.81041110e-01],\n",
       "       [9.45762992e-02],\n",
       "       [9.84450817e-01],\n",
       "       [6.65811598e-01],\n",
       "       [8.99324536e-01],\n",
       "       [2.74855614e-01],\n",
       "       [6.49859846e-01],\n",
       "       [7.69508779e-02],\n",
       "       [7.32555211e-01],\n",
       "       [9.78461683e-01],\n",
       "       [3.28665972e-02],\n",
       "       [3.04254889e-03],\n",
       "       [9.84030426e-01],\n",
       "       [9.76462662e-01],\n",
       "       [9.96814251e-01],\n",
       "       [6.07026398e-01],\n",
       "       [1.93989277e-03],\n",
       "       [9.72375393e-01],\n",
       "       [1.82557106e-03],\n",
       "       [3.93066823e-01],\n",
       "       [9.36458528e-01],\n",
       "       [2.58333474e-01],\n",
       "       [7.24354863e-01],\n",
       "       [9.68049526e-01],\n",
       "       [9.97353315e-01],\n",
       "       [1.23512745e-03],\n",
       "       [8.83957744e-03],\n",
       "       [3.48498523e-02],\n",
       "       [7.06437230e-03],\n",
       "       [7.68541694e-01],\n",
       "       [5.57132363e-02],\n",
       "       [8.82656991e-01],\n",
       "       [5.66109180e-01],\n",
       "       [9.91976321e-01],\n",
       "       [2.98300982e-02],\n",
       "       [1.42104447e-01],\n",
       "       [2.18483508e-02],\n",
       "       [5.03737926e-02],\n",
       "       [8.82000566e-01],\n",
       "       [3.97283226e-01],\n",
       "       [1.34635866e-02],\n",
       "       [9.94369209e-01],\n",
       "       [7.66121864e-01],\n",
       "       [1.56748295e-03],\n",
       "       [7.39859343e-01],\n",
       "       [9.88601804e-01],\n",
       "       [7.93788552e-01],\n",
       "       [3.67812037e-01],\n",
       "       [6.62964582e-03],\n",
       "       [2.04667449e-03],\n",
       "       [1.23751163e-03],\n",
       "       [9.88742232e-01],\n",
       "       [2.61428952e-03],\n",
       "       [3.02776039e-01],\n",
       "       [5.25109947e-01],\n",
       "       [8.62243056e-01],\n",
       "       [8.40988755e-03],\n",
       "       [3.87391448e-03],\n",
       "       [4.19509470e-01],\n",
       "       [2.34621763e-03],\n",
       "       [6.08101487e-03],\n",
       "       [9.58360434e-01],\n",
       "       [9.92927849e-01],\n",
       "       [1.35194361e-01],\n",
       "       [2.34353840e-02],\n",
       "       [1.96194172e-01],\n",
       "       [9.98326659e-01],\n",
       "       [3.71970236e-02],\n",
       "       [9.72096026e-01],\n",
       "       [1.22566223e-02],\n",
       "       [2.19116032e-01],\n",
       "       [2.26814151e-02],\n",
       "       [6.28935695e-01],\n",
       "       [1.46432221e-02],\n",
       "       [1.31152421e-01],\n",
       "       [3.64248455e-02],\n",
       "       [9.82177615e-01],\n",
       "       [6.28804862e-02],\n",
       "       [8.77399325e-01],\n",
       "       [9.97995615e-01],\n",
       "       [9.85612035e-01],\n",
       "       [9.97733891e-01],\n",
       "       [4.71371412e-03],\n",
       "       [3.47634554e-02],\n",
       "       [8.98391604e-01],\n",
       "       [9.97761905e-01],\n",
       "       [1.50015950e-03],\n",
       "       [9.85119462e-01],\n",
       "       [9.95625854e-01],\n",
       "       [9.93768573e-01],\n",
       "       [4.98531878e-01],\n",
       "       [8.77924860e-01],\n",
       "       [1.19082302e-01],\n",
       "       [4.95526195e-03],\n",
       "       [8.57130051e-01],\n",
       "       [9.93710518e-01],\n",
       "       [1.43209100e-03],\n",
       "       [9.91762578e-01],\n",
       "       [9.75830317e-01],\n",
       "       [8.64961803e-01],\n",
       "       [2.91220546e-02],\n",
       "       [2.57817209e-01],\n",
       "       [2.17980146e-03],\n",
       "       [5.76159358e-03],\n",
       "       [8.69094253e-01],\n",
       "       [9.98892546e-01],\n",
       "       [9.80742812e-01],\n",
       "       [7.83059001e-03],\n",
       "       [5.52557349e-01],\n",
       "       [1.04431510e-02],\n",
       "       [2.55244970e-03],\n",
       "       [3.70165706e-03],\n",
       "       [2.18963921e-02],\n",
       "       [9.04603720e-01],\n",
       "       [9.94060159e-01],\n",
       "       [9.55804884e-01],\n",
       "       [3.65167856e-04],\n",
       "       [6.23688102e-03],\n",
       "       [9.57241654e-03],\n",
       "       [5.42243540e-01],\n",
       "       [1.02374882e-01],\n",
       "       [9.85482335e-01],\n",
       "       [2.50077248e-03],\n",
       "       [9.74770129e-01],\n",
       "       [9.83576536e-01],\n",
       "       [1.34899020e-01],\n",
       "       [4.60887671e-01],\n",
       "       [1.95422769e-03],\n",
       "       [5.55313766e-01],\n",
       "       [9.56040144e-01],\n",
       "       [2.66124308e-02],\n",
       "       [3.43571067e-01],\n",
       "       [3.49563360e-03],\n",
       "       [2.52313018e-02],\n",
       "       [2.26914883e-04],\n",
       "       [1.62022978e-01],\n",
       "       [9.36110616e-01],\n",
       "       [2.07528472e-03],\n",
       "       [8.86243761e-01],\n",
       "       [2.07855999e-02],\n",
       "       [9.18522000e-01],\n",
       "       [9.99336243e-01],\n",
       "       [1.11888349e-02],\n",
       "       [3.40766788e-01],\n",
       "       [7.67035842e-01],\n",
       "       [1.91503674e-01],\n",
       "       [7.26562738e-03],\n",
       "       [7.75009394e-04],\n",
       "       [9.13883090e-01],\n",
       "       [9.72516656e-01],\n",
       "       [1.53362751e-03],\n",
       "       [6.63763285e-03],\n",
       "       [1.89019114e-01],\n",
       "       [9.76022601e-01],\n",
       "       [9.74456370e-01],\n",
       "       [8.85078311e-03],\n",
       "       [3.10143828e-03],\n",
       "       [1.81155086e-01],\n",
       "       [1.79573894e-02],\n",
       "       [2.78496742e-02],\n",
       "       [5.83097339e-02],\n",
       "       [1.78392828e-02],\n",
       "       [9.20761943e-01],\n",
       "       [9.71217275e-01],\n",
       "       [9.92618859e-01],\n",
       "       [8.44427943e-01],\n",
       "       [5.00279665e-03],\n",
       "       [5.23026466e-01],\n",
       "       [7.10183382e-03],\n",
       "       [2.60642171e-03],\n",
       "       [1.87340379e-03],\n",
       "       [1.95047259e-03],\n",
       "       [3.33730638e-01],\n",
       "       [9.02415872e-01],\n",
       "       [2.24482715e-02],\n",
       "       [9.69208956e-01],\n",
       "       [1.22219920e-02],\n",
       "       [1.34803951e-01],\n",
       "       [9.08216357e-01],\n",
       "       [4.66546416e-03],\n",
       "       [9.60753679e-01],\n",
       "       [5.71949780e-01],\n",
       "       [9.62954164e-01],\n",
       "       [7.19904780e-01],\n",
       "       [9.85511303e-01],\n",
       "       [9.86833274e-01],\n",
       "       [9.83592689e-01],\n",
       "       [5.21082103e-01],\n",
       "       [1.53417230e-01],\n",
       "       [1.83140934e-02],\n",
       "       [2.44528532e-01],\n",
       "       [5.91915846e-03],\n",
       "       [3.64238024e-03],\n",
       "       [2.53570437e-01],\n",
       "       [5.51104546e-03],\n",
       "       [9.91885543e-01],\n",
       "       [2.53975391e-02],\n",
       "       [3.35691571e-01],\n",
       "       [3.13413441e-02],\n",
       "       [7.80910254e-04],\n",
       "       [5.55942237e-01],\n",
       "       [1.10751688e-02],\n",
       "       [9.99384880e-01],\n",
       "       [2.30028331e-02],\n",
       "       [9.95531440e-01],\n",
       "       [9.99072313e-01],\n",
       "       [7.65211284e-02],\n",
       "       [1.30548030e-01],\n",
       "       [9.32687819e-02],\n",
       "       [1.04421377e-03],\n",
       "       [9.98386621e-01],\n",
       "       [4.58085537e-03],\n",
       "       [9.54203129e-01],\n",
       "       [7.33574927e-02],\n",
       "       [5.91230869e-01],\n",
       "       [8.92718434e-01],\n",
       "       [3.30033839e-01],\n",
       "       [2.75832415e-01],\n",
       "       [4.71816063e-01],\n",
       "       [1.81953490e-01],\n",
       "       [9.90320206e-01],\n",
       "       [3.45289707e-03],\n",
       "       [7.90638149e-01],\n",
       "       [1.65808201e-03],\n",
       "       [2.24998593e-03],\n",
       "       [8.41453969e-02],\n",
       "       [9.46771622e-01],\n",
       "       [9.95885134e-01],\n",
       "       [9.98509407e-01],\n",
       "       [9.94724035e-01],\n",
       "       [7.38785863e-01],\n",
       "       [9.37193632e-04],\n",
       "       [1.36118233e-02],\n",
       "       [8.45382214e-02],\n",
       "       [2.79268622e-03],\n",
       "       [9.84402895e-01],\n",
       "       [9.89829898e-01],\n",
       "       [3.32587957e-02],\n",
       "       [6.75793588e-02],\n",
       "       [9.91609454e-01],\n",
       "       [4.96655703e-02],\n",
       "       [3.37258875e-02],\n",
       "       [2.46837735e-03],\n",
       "       [9.19485092e-03],\n",
       "       [3.36263180e-02],\n",
       "       [9.59350348e-01],\n",
       "       [9.97093379e-01],\n",
       "       [9.32583570e-01],\n",
       "       [1.69439614e-02],\n",
       "       [9.00270343e-01],\n",
       "       [6.90807700e-02],\n",
       "       [8.94349813e-03],\n",
       "       [2.12591887e-03],\n",
       "       [9.99002337e-01],\n",
       "       [3.89939845e-02],\n",
       "       [9.84941304e-01],\n",
       "       [1.37630105e-03],\n",
       "       [9.90090966e-01],\n",
       "       [3.51279974e-02],\n",
       "       [9.31274891e-03],\n",
       "       [9.84079778e-01],\n",
       "       [6.50937855e-02],\n",
       "       [2.80773640e-03],\n",
       "       [9.64954972e-01],\n",
       "       [4.98148799e-03],\n",
       "       [1.00153387e-02],\n",
       "       [6.37820363e-03],\n",
       "       [4.02966738e-02],\n",
       "       [2.30358541e-02],\n",
       "       [9.23948526e-01],\n",
       "       [9.92355108e-01],\n",
       "       [2.68536806e-03],\n",
       "       [9.90498304e-01],\n",
       "       [9.98183906e-01],\n",
       "       [9.98687863e-01],\n",
       "       [9.81126368e-01],\n",
       "       [3.57860327e-03]], dtype=float32)"
      ]
     },
     "execution_count": 293,
     "metadata": {},
     "output_type": "execute_result"
    }
   ],
   "source": [
    "y_predict = modelss.predict(Xtestpcass)\n",
    "y_predict"
   ]
  },
  {
   "cell_type": "markdown",
   "id": "temporal-embassy",
   "metadata": {},
   "source": [
    "## Model 2 (Without PCA)\n"
   ]
  },
  {
   "cell_type": "code",
   "execution_count": 294,
   "id": "standing-relations",
   "metadata": {},
   "outputs": [],
   "source": [
    "# create model\n",
    "modelss = Sequential()\n",
    "modelss.add(Dense(12, input_dim=25, activation='relu'))\n",
    "modelss.add(Dense(8, activation='relu'))\n",
    "modelss.add(Dense(1, activation='sigmoid'))"
   ]
  },
  {
   "cell_type": "code",
   "execution_count": 295,
   "id": "lovely-father",
   "metadata": {},
   "outputs": [],
   "source": [
    "# Compile model\n",
    "modelss.compile(loss='binary_crossentropy', optimizer='adam', metrics=['accuracy'])"
   ]
  },
  {
   "cell_type": "code",
   "execution_count": 296,
   "id": "biblical-planning",
   "metadata": {},
   "outputs": [
    {
     "name": "stdout",
     "output_type": "stream",
     "text": [
      "Epoch 1/50\n",
      "160/160 [==============================] - 1s 2ms/step - loss: 1.3282 - accuracy: 0.5623\n",
      "Epoch 2/50\n",
      "160/160 [==============================] - 0s 2ms/step - loss: 0.7454 - accuracy: 0.6099\n",
      "Epoch 3/50\n",
      "160/160 [==============================] - 0s 2ms/step - loss: 0.7423 - accuracy: 0.6086\n",
      "Epoch 4/50\n",
      "160/160 [==============================] - 0s 2ms/step - loss: 0.6889 - accuracy: 0.6310\n",
      "Epoch 5/50\n",
      "160/160 [==============================] - 0s 2ms/step - loss: 0.6650 - accuracy: 0.6817\n",
      "Epoch 6/50\n",
      "160/160 [==============================] - 0s 2ms/step - loss: 0.7611 - accuracy: 0.6422\n",
      "Epoch 7/50\n",
      "160/160 [==============================] - 0s 2ms/step - loss: 0.6944 - accuracy: 0.6825\n",
      "Epoch 8/50\n",
      "160/160 [==============================] - 0s 2ms/step - loss: 0.5938 - accuracy: 0.7278\n",
      "Epoch 9/50\n",
      "160/160 [==============================] - 0s 2ms/step - loss: 0.6491 - accuracy: 0.6859\n",
      "Epoch 10/50\n",
      "160/160 [==============================] - 0s 2ms/step - loss: 0.6202 - accuracy: 0.7046\n",
      "Epoch 11/50\n",
      "160/160 [==============================] - 0s 2ms/step - loss: 0.5558 - accuracy: 0.7574\n",
      "Epoch 12/50\n",
      "160/160 [==============================] - 0s 2ms/step - loss: 0.8091 - accuracy: 0.6949\n",
      "Epoch 13/50\n",
      "160/160 [==============================] - 0s 2ms/step - loss: 0.5763 - accuracy: 0.7537\n",
      "Epoch 14/50\n",
      "160/160 [==============================] - 0s 2ms/step - loss: 0.5515 - accuracy: 0.7604\n",
      "Epoch 15/50\n",
      "160/160 [==============================] - 0s 2ms/step - loss: 0.5492 - accuracy: 0.7658\n",
      "Epoch 16/50\n",
      "160/160 [==============================] - 0s 2ms/step - loss: 0.4914 - accuracy: 0.7841\n",
      "Epoch 17/50\n",
      "160/160 [==============================] - 0s 2ms/step - loss: 0.6695 - accuracy: 0.7403\n",
      "Epoch 18/50\n",
      "160/160 [==============================] - 0s 2ms/step - loss: 0.4938 - accuracy: 0.7638\n",
      "Epoch 19/50\n",
      "160/160 [==============================] - 0s 2ms/step - loss: 0.4612 - accuracy: 0.7853\n",
      "Epoch 20/50\n",
      "160/160 [==============================] - 0s 2ms/step - loss: 0.4951 - accuracy: 0.7788\n",
      "Epoch 21/50\n",
      "160/160 [==============================] - 0s 2ms/step - loss: 0.7376 - accuracy: 0.7088\n",
      "Epoch 22/50\n",
      "160/160 [==============================] - 0s 3ms/step - loss: 0.5137 - accuracy: 0.7892\n",
      "Epoch 23/50\n",
      "160/160 [==============================] - 0s 2ms/step - loss: 0.5350 - accuracy: 0.7626\n",
      "Epoch 24/50\n",
      "160/160 [==============================] - 0s 2ms/step - loss: 0.5310 - accuracy: 0.7768\n",
      "Epoch 25/50\n",
      "160/160 [==============================] - 0s 2ms/step - loss: 0.5817 - accuracy: 0.7469\n",
      "Epoch 26/50\n",
      "160/160 [==============================] - 0s 2ms/step - loss: 0.5517 - accuracy: 0.7728\n",
      "Epoch 27/50\n",
      "160/160 [==============================] - 0s 2ms/step - loss: 0.4688 - accuracy: 0.7985\n",
      "Epoch 28/50\n",
      "160/160 [==============================] - 0s 2ms/step - loss: 0.5258 - accuracy: 0.7881\n",
      "Epoch 29/50\n",
      "160/160 [==============================] - 0s 2ms/step - loss: 0.6085 - accuracy: 0.7627\n",
      "Epoch 30/50\n",
      "160/160 [==============================] - 0s 2ms/step - loss: 0.4726 - accuracy: 0.7994\n",
      "Epoch 31/50\n",
      "160/160 [==============================] - 0s 2ms/step - loss: 0.4933 - accuracy: 0.7895\n",
      "Epoch 32/50\n",
      "160/160 [==============================] - 0s 2ms/step - loss: 0.5279 - accuracy: 0.7981\n",
      "Epoch 33/50\n",
      "160/160 [==============================] - 0s 2ms/step - loss: 0.6093 - accuracy: 0.7678\n",
      "Epoch 34/50\n",
      "160/160 [==============================] - 0s 2ms/step - loss: 0.4296 - accuracy: 0.8294\n",
      "Epoch 35/50\n",
      "160/160 [==============================] - 0s 2ms/step - loss: 0.5127 - accuracy: 0.7995\n",
      "Epoch 36/50\n",
      "160/160 [==============================] - 0s 2ms/step - loss: 0.4900 - accuracy: 0.8127\n",
      "Epoch 37/50\n",
      "160/160 [==============================] - 0s 2ms/step - loss: 0.4612 - accuracy: 0.7988\n",
      "Epoch 38/50\n",
      "160/160 [==============================] - 0s 2ms/step - loss: 0.6437 - accuracy: 0.7510\n",
      "Epoch 39/50\n",
      "160/160 [==============================] - 0s 2ms/step - loss: 0.4688 - accuracy: 0.8057\n",
      "Epoch 40/50\n",
      "160/160 [==============================] - 0s 2ms/step - loss: 0.4136 - accuracy: 0.8192\n",
      "Epoch 41/50\n",
      "160/160 [==============================] - 0s 2ms/step - loss: 0.4567 - accuracy: 0.8095\n",
      "Epoch 42/50\n",
      "160/160 [==============================] - 0s 2ms/step - loss: 0.5918 - accuracy: 0.7731\n",
      "Epoch 43/50\n",
      "160/160 [==============================] - 0s 2ms/step - loss: 0.4714 - accuracy: 0.8167\n",
      "Epoch 44/50\n",
      "160/160 [==============================] - 0s 2ms/step - loss: 0.6506 - accuracy: 0.7607\n",
      "Epoch 45/50\n",
      "160/160 [==============================] - 0s 2ms/step - loss: 0.5119 - accuracy: 0.8052\n",
      "Epoch 46/50\n",
      "160/160 [==============================] - 0s 2ms/step - loss: 0.4843 - accuracy: 0.7981\n",
      "Epoch 47/50\n",
      "160/160 [==============================] - 0s 2ms/step - loss: 0.4112 - accuracy: 0.8182\n",
      "Epoch 48/50\n",
      "160/160 [==============================] - 0s 2ms/step - loss: 0.4430 - accuracy: 0.8190\n",
      "Epoch 49/50\n",
      "160/160 [==============================] - 0s 2ms/step - loss: 0.5512 - accuracy: 0.7864\n",
      "Epoch 50/50\n",
      "160/160 [==============================] - 0s 2ms/step - loss: 0.4604 - accuracy: 0.8081\n"
     ]
    },
    {
     "data": {
      "text/plain": [
       "<tensorflow.python.keras.callbacks.History at 0x7fb3c4f81dc0>"
      ]
     },
     "execution_count": 296,
     "metadata": {},
     "output_type": "execute_result"
    }
   ],
   "source": [
    "modelss.fit(Xtrainss2, ytrainss2, epochs=50, batch_size=10)"
   ]
  },
  {
   "cell_type": "code",
   "execution_count": 298,
   "id": "capable-mustang",
   "metadata": {},
   "outputs": [
    {
     "name": "stdout",
     "output_type": "stream",
     "text": [
      "13/13 [==============================] - 0s 1ms/step - loss: 0.5019 - accuracy: 0.8125\n",
      "\n",
      "accuracy: 81.25%\n"
     ]
    }
   ],
   "source": [
    "# Evaluating the Model and calculating the accuracy\n",
    "scoresss = modelss.evaluate(xtestss2, ytestss2)\n",
    "print(\"\\n%s: %.2f%%\" % (modelss.metrics_names[1], scoresss[1]*100))"
   ]
  },
  {
   "cell_type": "markdown",
   "id": "continuing-giant",
   "metadata": {},
   "source": [
    "Accuracy of model increased by 7.25 % with PCA "
   ]
  }
 ],
 "metadata": {
  "kernelspec": {
   "display_name": "Python 3",
   "language": "python",
   "name": "python3"
  },
  "language_info": {
   "codemirror_mode": {
    "name": "ipython",
    "version": 3
   },
   "file_extension": ".py",
   "mimetype": "text/x-python",
   "name": "python",
   "nbconvert_exporter": "python",
   "pygments_lexer": "ipython3",
   "version": "3.8.8"
  }
 },
 "nbformat": 4,
 "nbformat_minor": 5
}
